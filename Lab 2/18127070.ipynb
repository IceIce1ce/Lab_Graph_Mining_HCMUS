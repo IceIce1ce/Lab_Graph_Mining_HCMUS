{
  "nbformat": 4,
  "nbformat_minor": 0,
  "metadata": {
    "colab": {
      "name": "Lab2_GraphMining.ipynb",
      "provenance": [],
      "collapsed_sections": []
    },
    "kernelspec": {
      "name": "python3",
      "display_name": "Python 3"
    },
    "language_info": {
      "name": "python"
    }
  },
  "cells": [
    {
      "cell_type": "markdown",
      "source": [
        "<h3>Tên: Trần Đại Chí</h3>\n",
        "<h3>MSSV: 18127070</h3>"
      ],
      "metadata": {
        "id": "7Y3psSMtJyFC"
      }
    },
    {
      "cell_type": "markdown",
      "source": [
        "# 1. Tóm tắt và chạy thực nghiệm các thuật toán trên các đồ thị nhỏ"
      ],
      "metadata": {
        "id": "IHU3D1zF8x15"
      }
    },
    {
      "cell_type": "markdown",
      "source": [
        "# Girvan-Newman\n",
        "Đây là một thuật toán phát hiện cộng đồng phụ thuộc vào việc loại bỏ các cạnh lặp đi lặp lại khỏi 1 mạng ban đầu. Cụ thể, thuật toán sẽ bao gồm 4 bước: \n",
        "\n",
        "1) Khoảng cách giữa các cạnh được tính toán trước \n",
        "\n",
        "2) Các cạnh có độ giữa cao nhất bị loại bỏ\n",
        "\n",
        "3) Tính toán lại độ giữa cho tất cả các cạnh bị ảnh hưởng bởi việc loại bỏ \n",
        "\n",
        "4) Lặp lại bước 2 và 3 cho đến khi không còn cạnh nào. Ở mỗi bước của thuật toán, các thành phần được kết nối được xem là các cộng đồng\n",
        "\n",
        "Về tiến trình của thuật toán, đưa ra 1 đồ thị vô hướng không trọng số như hình dưới đây\n",
        "\n",
        "![](https://drive.google.com/uc?export=view&id=1ukOUVbabKxfhroWUH13-YLaxq8N-kBP8)\n",
        "\n",
        "Chúng ta cần giải quyết câu hỏi làm thế nào để tính toán được độ giữa cho đồ thị này. Trong lý thuyết đồ thị, độ giữa trung tâm giữa là thước đo độ chính giữa trong đồ thị dựa trên các đường đi ngắn nhất. Nó đã được áp dụng cho một loạt các vấn đề trong lý thuyết mạng như: mạng xã hội, sinh học, giao thông vận tải và hợp tác khoa học. Nếu một nút có độ giữa trung tâm cao, nó sẽ có nhiều quyền sự ảnh hướng hơn đối với mạng vì nó chứa nhiều thông tin hơn mà các nút khác truyền qua nó. Độ giữa trung tâm giữa một nút v được định nghĩa\n",
        "\n",
        "![](https://drive.google.com/uc?export=view&id=1Uo9CpMp1lEr0QeUQsxmuOauzGeDtzATr)\n",
        "\n",
        "Trong đó σst(v) là tổng số đường đi ngắn nhất từ nút s đến nút t bao gồm cả nút v và σst là tổng số đường đi ngắn nhất từ nút s đến nút t.\n",
        "\n",
        "Để tính toán độ giữa giữa của nút A từ đồ thị trên, chúng ta cần chạy thuật toán BFS bắt đầu từ nút A như sau: \n",
        "\n",
        "![](https://drive.google.com/uc?export=view&id=1wGY5Ys-24T9hYQNsJbmCi18U4j7Ty1-D)\n",
        "\n",
        "Từ hình trên, ta có tổng cộng một đường đi ngắn nhất từ A đến B, A đến D, A đến C, hai đường đi ngắn nhất từ A đến E (A -> B -> E và A -> D -> E) và ba đường đi ngắn nhất từ A đến F (A -> B -> C -> F, A -> B -> E -> F và A -> D -> E -> F). Vì chỉ có một con đường từ C đến F và 2 con đường từ E, mỗi cạnh sẽ nhận được 1/3 và 2/3 dòng chảy, do đó khoảng cách giữa chúng là 1/3 và 2/3. Có một đường đi từ A đến C, độ giữa của nó là (1 + 1/3) * 1/1 = 1.33 và có hai đường đi từ A đến E, độ giữa của hai cạnh BE và DE là (1 + 0,667) * 1/2 = 0.835. Có một con đường từ A đến B, khoảng giữa của nó là (1 + 1,33 + 0,835) * 1/1 = 3,165 và có một con đường từ A đến D, khoảng giữa của nó là (1 + 0,835) * 1/1 = 1.835.\n",
        "\n",
        "Một cách tương tự ta cũng chạy thuật toán BFS và tính được độ giữa cho các nút còn lại của đồ thị. Sau khi đã chạy thuật toán BFS và tính được độ giữa cho toàn bộ các nút, chúng ta sẽ tính toán độ giữa cuối cùng cho tất cả các cạnh AB, AD, BC, BE, CF, DE và EF như bảng dưới đây bằng cách lấy tổng độ giữa của các cạnh đã tính được khi chạy BFS trên các nút đơn trước đó\n",
        "\n",
        "<table>\n",
        "  <tr>\n",
        "    <th>Cạnh</th>\n",
        "    <th>Độ giữa cạnh</th>\n",
        "  </tr>\n",
        "  <tr>\n",
        "    <td>AB</td>\n",
        "    <td>3.165 + 1.5 + 1.33 + 0.835 + 0.5 + 0.667 = 8</td>\n",
        "  </tr>\n",
        "  <tr>\n",
        "    <td>AD</td>\n",
        "    <td>1.835 + 0.5 + 0.33 + 1.835 + 0.5 + 0.33 = 5.33</td>\n",
        "  </tr>\n",
        "  <tr>\n",
        "    <td>BC</td>\n",
        "    <td>3.165 + 1.5 + 1.33 + 0.835 + 0.5 + 0.667 = 8</td>\n",
        "  </tr>\n",
        "  <tr>\n",
        "    <td>BE</td>\n",
        "    <td>0.835 + 2 + 0.835 + 0.835 + 2 + 0.835 = 7.34</td>\n",
        "  </tr>\n",
        "  <tr>\n",
        "    <td>CF</td>\n",
        "    <td>1.835 + 0.5 + 0.33 + 1.835 + 0.5 + 0.33 = 5.33</td>\n",
        "  </tr>\n",
        "  <tr>\n",
        "    <td>DE</td>\n",
        "    <td>3.165 + 1.5 + 1.33 + 0.835 + 0.5 + 0.667 = 8</td>\n",
        "  </tr>\n",
        "  <tr>\n",
        "    <td>EF</td>\n",
        "    <td>3.165 + 1.5 + 1.33 + 0.835 + 0.5 + 0.667 = 8</td>\n",
        "  </tr>\n",
        "</table>\n",
        "\n",
        "Sau cùng, ta sẽ có được độ độ giữa cho toàn bộ các cạnh cho đồ thị ban đầu như hình dưới đây\n",
        "\n",
        "![](https://drive.google.com/uc?export=view&id=159o4wNDNHwdZSaTMjBZ1qChSyA7XBdwn)\n",
        "\n",
        "Do AB, BC, DE và EF có cùng độ giữa cao nhất, vì vậy chúng ta sẽ xóa các cạnh này một cách lặp đi lặp lại. Khi đó, ta cũng làm theo cách tương tự đối với 3 cạnh còn lại là AD, BE và CF. Tuy nhiên, câu hỏi bây giờ là làm thế nào chúng ta có thể chọn ra được số lượng cộng đồng tối ưu cho thuật toán thì nó sẽ đề cập đến 1 giá trị gọi là modularity mà chúng ta sẽ không đề cập đến ở đây. Nhiệm vụ của chúng ta là sẽ cắt sao cho giá trị modularity này được tối ưu nhất và các cạnh được kết nối với nhau sau khi đã cắt sẽ tạo thành các cộng đồng. Cuối cùng, chúng ta sẽ có 2 cộng đồng cho đồ thị trên là c1(A, D) và c2(C, B, E, F)."
      ],
      "metadata": {
        "id": "C6O_xfN2J97U"
      }
    },
    {
      "cell_type": "code",
      "execution_count": 3,
      "metadata": {
        "colab": {
          "base_uri": "https://localhost:8080/",
          "height": 354
        },
        "id": "GAIRnz6uJu-O",
        "outputId": "9c72e29c-00e0-44e0-9441-6d1e2d5a4b49"
      },
      "outputs": [
        {
          "output_type": "stream",
          "name": "stdout",
          "text": [
            "Number of communities: 2\n",
            "Community: [['D', 'A'], ['B', 'F', 'C', 'E']]\n"
          ]
        },
        {
          "output_type": "display_data",
          "data": {
            "image/png": "[encoded data removed]",
            "text/plain": [
              "<Figure size 432x288 with 1 Axes>"
            ]
          },
          "metadata": {}
        }
      ],
      "source": [
        "import matplotlib.pyplot as plt\n",
        "import networkx as nx\n",
        "from networkx.algorithms.community.centrality import girvan_newman\n",
        "\n",
        "G = nx.Graph()\n",
        "G.add_edges_from([['A', 'B'], ['A', 'D'], ['B', 'C'], ['B', 'E'], ['C', 'F'], ['D', 'E'], ['E', 'F']])\n",
        "communities = girvan_newman(G)\n",
        "node_groups = []\n",
        "for com in next(communities):\n",
        "  node_groups.append(list(com))\n",
        "print(\"Number of communities:\", len(node_groups))\n",
        "print(\"Community:\", node_groups)\n",
        "color_map = []\n",
        "for node in G:\n",
        "    if node in node_groups[0]:\n",
        "        color_map.append('red')\n",
        "    else: \n",
        "        color_map.append('green')  \n",
        "nx.draw(G, node_color=color_map, with_labels=True)\n",
        "plt.show()"
      ]
    },
    {
      "cell_type": "markdown",
      "source": [
        "# Fluid Communities (FluidC)\n",
        "Đây là 1 thuật toán phát hiện cộng đồng được giới thiệu vào năm 2017 dựa trên tương tác cấu trúc fluid mà đạt được hiệu quả cả về chi phí tính toán lẫn khả năng mở rộng. Ngoài ra, theo tác giả đề cập thì phương pháp này có thể tìm ra được các cộng đồng trong các đồ thị synthetic với độ chính xác gần như tốt nhất so với các phương pháp hiện tại và nó có thể được xem như 1 là thuật toán dựa trên lan truyền đạt được hiệu quả cao cho việc phát hiện các cộng đồng trong các mạng giống như 1 phương pháp cũng dựa trên tính lan truyền trước đó là Label Propagation Algorithm (LPA) (LPA hiệu quả vì nó có độ phức tạp tính toán giữ ở mức tuyến tính). Tuy nhiên, khác với LPA, FluidC sẽ tương tác với các cộng đồng trong 1 môi trường có thể là 1 đồ thị không hoàn thiện mà trong đó các cộng đồng sẽ mở rộng và chịu ảnh hưởng bởi cấu trúc liên kết của môi trường đó cho đến khi toàn bộ nút đã thuộc về 1 cộng đồng cụ thể nào đó thì thuật toán sẽ hoàn tất. Do đó, FluidC được xem như là 1 thuật toán dựa trên lan truyền đầu tiên mà sử dụng tính chất này. Hình dưới đây mô tả các bước chạy của thuật toán với số lượng k cộng đồng là 2 (nút đỏ và xanh). Đầu tiên, do k = 2 nên sẽ có 2 đỉnh trong đồ thị được chọn ngẫu nhiên và được tối ưu hóa với mật độ là 1.0. Tiếp theo, mỗi đỉnh lân cận của với cộng đồng đó sẽ được chọn ngẫu nhiên để cập nhật đỉnh đó vào cộng đồng đó và ở mỗi thời điểm cập nhật, mật độ các đỉnh trong cộng đồng đó sẽ được phân bố đều nhau với giá trị là d = 1/v (trong đó v là tổng số đỉnh sau khi đã cập nhật đỉnh mới vào cộng đồng đó, ví dụ với 2 đỉnh thì mật độ d = 1/2 = 0.5) và có tổng = 1.0. Khi 1 đỉnh của cộng đồng đó bị thay đổi thì mật độ của các đỉnh trong cộng đồng đó sẽ được điều chỉnh lại. Ví dụ như ở bước thứ 4 và 5 thì do đỉnh màu đỏ với mật độ 0.33 trong khi đỉnh xanh đang có mật độ 0.5 thì đỉnh màu đò khi đó sẽ thuộc về cộng đồng màu xanh và mật độ các đỉnh màu đó khi đó sẽ được điều chỉnh về lại 0.5. Thuật toán sẽ chạy lặp lại trên tất cả các đỉnh và khi không còn đỉnh nào thay đổi cộng đồng mà nó thuộc về và tất cả các nút đã thuộc về 1 cồng đồng nhất định thì thuật toán đã hội tụ và trả về kết quả danh sách các nút thuộc k cộng đồng."
      ],
      "metadata": {
        "id": "Gs1lDMkjLq11"
      }
    },
    {
      "cell_type": "markdown",
      "source": [
        "![](https://drive.google.com/uc?export=view&id=1FsgAaWpBdlKZfYPseUjZzqxXFftTwJ8S)"
      ],
      "metadata": {
        "id": "B2nEi4ZY6Pkt"
      }
    },
    {
      "cell_type": "code",
      "source": [
        "from networkx.algorithms.community.asyn_fluid import asyn_fluidc\n",
        "\n",
        "communities = list(asyn_fluidc(G, k=3, max_iter=100, seed=42))\n",
        "communities = [list(ele) for ele in communities]\n",
        "print(\"Number of communities:\", len(communities))\n",
        "print(\"Community:\", communities)\n",
        "pos = nx.spring_layout(G)\n",
        "for nodes, com in zip(communities, 'rgb'):\n",
        "  nx.draw_networkx_nodes(G, pos, nodelist=nodes, node_color=[com])\n",
        "nx.draw_networkx_edges(G, pos)\n",
        "nx.draw_networkx_labels(G, pos);"
      ],
      "metadata": {
        "colab": {
          "base_uri": "https://localhost:8080/",
          "height": 283
        },
        "id": "9lMlfph6LrkE",
        "outputId": "0533929f-aeef-4d09-8335-afd9fb99d5f1"
      },
      "execution_count": 6,
      "outputs": [
        {
          "output_type": "stream",
          "name": "stdout",
          "text": [
            "Number of communities: 3\n",
            "Community: [['C', 'F'], ['B', 'A'], ['E', 'D']]\n"
          ]
        },
        {
          "output_type": "display_data",
          "data": {
            "image/png": "[encoded data removed]",
            "text/plain": [
              "<Figure size 432x288 with 1 Axes>"
            ]
          },
          "metadata": {}
        }
      ]
    },
    {
      "cell_type": "markdown",
      "source": [
        "# Label Propagation (LPA)\n",
        "LPA là 1 thuật toán bán giám sát dùng để phát hiện cộng đồng được giới thiệu vào năm 2007 bằng cách kết hợp ưu điểm của hai mô hình synchronous và asynchronous mà không yêu cầu thông tin cụ thể về số lượng các cộng đồng sẽ được tạo ra. Đây là 1 thuật toán hiệu quả và có khả năng áp dụng cho các đồ thị kích thước lớn vì nó có chi phí tính toán hầu như là tuyến tính Thuật toán này dựa trên ý tưởng rằng 1 nhãn đơn có thể có nhiều ảnh hưởng trong 1 nhóm các nút được kết nối dày đặc với nhau nhưng sẽ găp bất lợi nếu nút đó nằm trong các vùng kết nối thưa thớt. Vì vậy, ở mỗi bước lan truyền, các nút mới sẽ sử dụng cùng nhãn mà các nút lân cận đang có và quá trình này sẽ được lặp lại để hình thành ra 1 nhãn duy nhất cho các nhóm nút được kết nối và khi tiến trình kết thúc, các nút mà cùng nhãn sẽ hình thành ra các cộng đồng. Hình dưới đây mô tả về quá trình chạy của thuật toán. Đầu tiên, 1 nhóm nhỏ các nút sẽ sẽ được khởi tạo với 1 nhãn duy nhất (nhãn xanh và vàng). Tiếp  theo, tiến trình lan truyền sẽ được bắt đầu thông qua các nhãn này và ở mỗi bước, các nút lân cận được kết nối với nút khởi tạo đó sẽ được cập nhật cùng nhãn với nút đó. Khi mỗi nút đã có được nhãn mà đa số các nút lân cận của nó có, thuật toán sẽ hội tụ và các nút trong các nhóm được kết nối có cùng nhãn với nhau sẽ hình thành ra các cộng đồng."
      ],
      "metadata": {
        "id": "7yE8vo54Lr1R"
      }
    },
    {
      "cell_type": "markdown",
      "source": [
        "![](https://drive.google.com/uc?export=view&id=1eI7Q7N1XmOb-B_Xiq_ewvSxaycmR1IZS)"
      ],
      "metadata": {
        "id": "Y53-rP6RPULg"
      }
    },
    {
      "cell_type": "code",
      "source": [
        "from networkx.algorithms.community.label_propagation import asyn_lpa_communities\n",
        "\n",
        "communities = list(asyn_lpa_communities(G, weight=None, seed=42))\n",
        "communities = [list(ele) for ele in communities]\n",
        "print(\"Number of communities:\", len(communities))\n",
        "print(\"Community:\", communities)\n",
        "pos = nx.spring_layout(G)\n",
        "for nodes, com in zip(communities, 'rgb'):\n",
        "  nx.draw_networkx_nodes(G, pos, nodelist=nodes, node_color=[com])\n",
        "nx.draw_networkx_edges(G, pos)\n",
        "nx.draw_networkx_labels(G, pos);"
      ],
      "metadata": {
        "colab": {
          "base_uri": "https://localhost:8080/",
          "height": 283
        },
        "id": "I65AlV_fLtQ4",
        "outputId": "df57bca8-6679-48d6-86be-017f50deb183"
      },
      "execution_count": 8,
      "outputs": [
        {
          "output_type": "stream",
          "name": "stdout",
          "text": [
            "Number of communities: 2\n",
            "Community: [['D', 'A'], ['B', 'F', 'C', 'E']]\n"
          ]
        },
        {
          "output_type": "display_data",
          "data": {
            "image/png": "[encoded data removed]",
            "text/plain": [
              "<Figure size 432x288 with 1 Axes>"
            ]
          },
          "metadata": {}
        }
      ]
    },
    {
      "cell_type": "markdown",
      "source": [
        "# Clique Percolation (CPM)\n",
        "Đây là 1 phương pháp phát hiện cộng đồng thường được sử dụng cho việc phân tích các cộng đồng chùng lấp trong các mạng. Đưa ra 1 đồ thị như hình dưới, chúng ta sẽ chọn k_clique = 3. Khi đó ta sẽ có được tổng cộng 6 clique với kích thước là 3 bao gồm a(1, 2, 3), b(1, 2, 8), c(2, 4, 5), d(2, 4, 6), e(2, 5, 6) và f(4, 5, 6). Sau khi đã tìm ra các clique với kích thước bằng 3, mục tiêu của chúng ta là tìm ra các cộng đồng trong đồ thị này. Vì a và b có chung 2 đỉnh 1 và 2 nên chúng ta sẽ gom a và b lại thành 1 cộng đồng c1(1, 2, 3, 8). Do a và b không có 2 đỉnh nào chung với c, d, e, và f nên cộng đồng c1 của chúng ta chỉ bao gồm 4 đỉnh 1, 2, 3 và 8. Tiếp theo, c và d có 2 đỉnh chung là 2 và 4, c và e có 2 đỉnh chung là 2 và 5, c và f có 2 đỉnh chung là 4 và 5. Một cách tương tự, d với e, d với f và e với f cũng đều có 2 đỉnh chung nên cuối cùng ta có thể gom c, d, e và f lại thành 1 cộng đồng c2(2, 4, 5, 6). Tổng kết lại, với đồ thị như dưới đây thì chúng ta sẽ có 2 cộng đồng khi sử dụng phương pháp CPM là c1(1, 2, 3, 8) và c2(2, 4, 5, 6). Trong trường hợp nếu đồ thị của chúng ta không có 2 đỉnh nào chung trong các điểm a, b, c... thì đồ thị đó không tồn tại cộng đồng nào."
      ],
      "metadata": {
        "id": "ynchyioBLtXU"
      }
    },
    {
      "cell_type": "markdown",
      "source": [
        "![](https://drive.google.com/uc?export=view&id=1p3xLG1GFRm7bKeryjSaeBA7zH6DpE05T)"
      ],
      "metadata": {
        "id": "42x9sFQnLOPA"
      }
    },
    {
      "cell_type": "code",
      "source": [
        "from networkx.algorithms.community.kclique import k_clique_communities\n",
        "import itertools\n",
        "\n",
        "G1_tmp = nx.Graph()\n",
        "G1_tmp.add_edges_from([[0, 1], [0, 2], [0, 7], [1, 0], [1, 2], [1, 3], [1, 4], [1, 5], [2, 0], [2, 1], [2, 6], \n",
        "                       [3, 1], [3, 4], [3, 5], [4, 1], [4, 3], [4, 5], [5, 1], [5, 3], [5, 4], [5, 6], [6, 2], [6, 5], [7, 0], [7, 1]])\n",
        "c = list(k_clique_communities(G1_tmp, k=3))\n",
        "communities = []\n",
        "for i in range(len(c)):\n",
        "    communities.append(list(c[i]))\n",
        "print(\"Number of communities:\", len(communities))\n",
        "print(\"Community:\", communities)\n",
        "pos = nx.spring_layout(G1_tmp)\n",
        "for nodes, com in zip(communities, 'rgb'):\n",
        "  nx.draw_networkx_nodes(G1_tmp, pos, nodelist=nodes, node_color=[com])\n",
        "nx.draw_networkx_edges(G1_tmp, pos)\n",
        "nx.draw_networkx_labels(G1_tmp, pos);"
      ],
      "metadata": {
        "colab": {
          "base_uri": "https://localhost:8080/",
          "height": 283
        },
        "id": "lUqCawH3-Foa",
        "outputId": "4c7ef127-7fb6-4722-bf01-121a6a66a9c5"
      },
      "execution_count": 9,
      "outputs": [
        {
          "output_type": "stream",
          "name": "stdout",
          "text": [
            "Number of communities: 2\n",
            "Community: [[0, 1, 2, 7], [1, 3, 4, 5]]\n"
          ]
        },
        {
          "output_type": "display_data",
          "data": {
            "image/png": "[encoded data removed]",
            "text/plain": [
              "<Figure size 432x288 with 1 Axes>"
            ]
          },
          "metadata": {}
        }
      ]
    },
    {
      "cell_type": "markdown",
      "source": [
        "# Kernighan-Lin (KL)\n",
        "Đây là 1 thuật toán heuristic dùng để tìm ra các phân vùng của các mạng. Đưa ra 1 đồ thị vô hướng với các trọng số cho trước (nếu đồ thị không có trọng số thì chúng ta có thể xem như trọng số toàn bộ các cạnh trong mạng là 1), mục tiêu\n",
        "của phương pháp này là phân vùng tập các đỉnh V vào 2 tập con A và B (A và B bao gồm các đỉnh khác nhau trong đồ thị mà số lượng ở mỗi tập con có thể bằng nhau hoặc gần bằng nhau) để tối thiểu hóa chi phí cắt của tập con các cạnh giao nhau từ A đến B. Về tiến trình của thuật toán, nó được tính toán như sau. Đầu tiên, đưa ra 1 đồ thị hoàn thiện vô hướng với 6 đỉnh và có trọng số đã được gán trước như hình dưới, chúng ta tiến hành chia đồ thị thành 2 phân vùng A = {a, b, c} và B = {d, e, f} (trong đó a, b, c, d, e, f là các đỉnh của đồ thị). Ở bước chạy đầu tiên, chúng ta có chi phí cắt lúc này bằng tổng các cạnh giao nhau giữa 2 phân vùng A và B, cost = (Edge(ad) + Edge(ae) + Edge(af)) + (Edge(bd) + Edge(be) + Edge(bf)) + (Edge(cd) + Edge(ce) + Edge(cf)) = (3 + 2 + 4) + (4 + 2 + 1) + (3 + 2 + 1) = 22. Tiếp theo, chúng ta sẽ tính toán external cost, internal cost và D-value cho tất cả các đỉnh như sau:\n",
        "\n",
        "Ia = 1 + 2 = 3, Ea = 3 + 2 + 4 = 9, Da = Ea - Ia = 9 - 3 = 6\n",
        "\n",
        "Ib = 1 + 1 = 2, Eb = 4 + 2 + 1 = 7, Db = Eb - Ib = 7 - 2 = 5\n",
        "\n",
        "Ic = 2 + 1 = 3, Ec = 3 + 2 + 1 = 6, Dc = Ec - Ic = 6 - 3 = 3\n",
        "\n",
        "Id = 4 + 3 = 7, Ed = 3 + 4 + 3 = 10, Dd = Ed - Id = 10 - 7 = 3\n",
        "\n",
        "Ie = 4 + 2 = 6, Ee = 2 + 2 + 2 = 6, De = Ee - Ie = 6 - 6 = 0\n",
        "\n",
        "If = 3 + 2 = 5, Ef = 4 + 1 + 1 = 6, Df = Ef - If = 6 - 5 = 1\n",
        "\n",
        "Sau khi đã tính được external cost, internal cost và D-value, chúng ta sẽ tính giá trị gain cho việc hoán đổi giữa 2 nút x và y, g(xy) = Dx + Dy - 2c(xy) (trong đó c(xy) là trọng số giữa 2 cạnh x và y)\n",
        "\n",
        "g(ad) = Da + Dd - 2c(ad) = 6 + 3 - 2 * 3 = 3\n",
        "\n",
        "g(ae) = Da + De - 2c(ae) = 6 + 0 - 2 * 2 = 2\n",
        "\n",
        "g(af) = Da + Df - 2c(af) = 6 + 1 - 2 * 4 = -1\n",
        "\n",
        "g(bd) = Db + Dd - 2c(bd) = 5 + 3 - 2 * 4 = 0\n",
        "\n",
        "g(be) = Db + De - 2c(be) = 5 + 0 - 2 * 2 = 1\n",
        "\n",
        "g(bf) = Db + Df - 2c(bf) = 5 + 1 - 2 * 1 = 4\n",
        "\n",
        "g(cd) = Dc + Dd - 2c(cd) = 3 + 3 - 2 * 3 = 0\n",
        "\n",
        "g(ce) = Dc + De - 2c(ce) = 3 + 0 - 2 * 2 = -1\n",
        "\n",
        "g(cf) = Dc + Df - 2c(cf) = 3 + 1 - 2 * 1 = 2\n",
        "\n",
        "Vì g(bf) có gain lớn nhất, ta tiến hành hoán đổi 2 nút b và f và có được g1* = 4. Sau khi đã hoán đổi, ta tiến hành tính lại giá trị D-value mới cho các nút còn lại, D'x = Dx + 2c(xp) - 2c(xq) (trong đó x là các nút còn lại, p và q là 2 nút đã hoán đổi phân vùng cho nhau)\n",
        "\n",
        "D'a = Da + 2c(ab) - 2c(af) = 6 + 2 * 1 - 2 * 4 = 0\n",
        "\n",
        "D'c = Dc + 2c(cb) - 2c(cf) = 3 + 2 * 1 - 2 * 1 = 3\n",
        "\n",
        "D'd = Dd + 2c(df) - 2c(db) = 3 + 2 * 3 - 2 * 4 = 1\n",
        "\n",
        "D'e = De + 2c(ef) - 2c(eb) = 0 + 2 * 2 - 2 * 2 = 0\n",
        "\n",
        "Một cách tương tự, ta cũng tính lại giá trị gain cho các nút trên\n",
        "\n",
        "g(ad) = D'a + D'd - 2c(ad) = 0 + 1 - 2 * 3 = -5\n",
        "\n",
        "g(ae) = D'a + D'e - 2c(ae) = 0 + 0 - 2 * 2 = -4\n",
        "\n",
        "g(cd) = D'c + D'd - 2c(cd) = 3 + 1 - 2 * 3 = -2\n",
        "\n",
        "g(ce) = D'c + D'e - 2c(ce) = 3 + 0 - 2 * 2 = -1\n",
        "\n",
        "Vì g(ce) có gain lớn nhất, ta tiến hành hoán đổi 2 nút c và e và có được g2* = -1. Tương tự như bước trên, ta tiến hành tính lại giá trị D-value và gain mới cho 2 nút còn lại là a và d\n",
        "\n",
        "D''a = D'a + 2c(ac) - 2c(ae) = 0 + 2 * 2 - 2 * 2 = 0\n",
        "\n",
        "D''d = D'd + 2c(de) - 2c(dc) = 1 + 2 * 4 - 2 * 3 = 3\n",
        "\n",
        "g(ad) = D''a + D''d - 2c(ad) = 0 + 3 - 2 * 3 = -3\n",
        "\n",
        "Do không còn nút nào còn lại nên lúc này ta sẽ có được g1* = g(bf) = 4, g2* = g(ce) = -1 và g3* = g(ad) = -3. Ở bước này, mục tiêu của chúng ta là tìm ra giá trị k sao cho Gk = &Sigma; (i=1->k) <= 0. Vì g1* = 4 là lớn nhất và ở vị trí 1 nên k = 1, do đó Gk = g1* = 4 > 0 nên chúng ta sẽ lấy 2 tập phân vùng ban đầu A, B và tiến hành hoán đổi nút b vào phân vùng B và nút f vào phân vùng A, lúc này chi phí cắt ban đầu sẽ trở thành 18 và ta có được g1** = g(ce) = -1, g2** = g(ab) = -3, g3** = g(fd) = 4. Khi đó g3** là lớn nhất và ở vị trí k = 3, do đó Gk = g1** + g2** + g3** = -1 -3 + 4 = 0 <= 0 nên thuật toán tiến hành dừng lại. Cuối cùng, ta sẽ có được phân vùng cuối là A = {f, a, c} và B = {b, d, e}."
      ],
      "metadata": {
        "id": "FOB2ij7VLwpA"
      }
    },
    {
      "cell_type": "code",
      "source": [
        "import numpy as np\n",
        "\n",
        "tmp = np.array([[0, 1, 2, 3, 2, 4],\n",
        "                [1, 0, 1, 4, 2, 1],\n",
        "                [2, 1, 0, 3, 2, 1],\n",
        "                [3, 4, 3, 0, 4, 3],\n",
        "                [2, 2, 2, 4, 0, 2],\n",
        "                [4, 1, 1, 3, 2, 0]])\n",
        "G_tmp = nx.from_numpy_array(tmp)\n",
        "G_tmp = nx.relabel_nodes(G_tmp, {0: \"a\", 1: \"b\", 2: \"c\", 3: \"d\", 4: \"e\", 5: \"f\"})\n",
        "pos_tmp = nx.spring_layout(G_tmp)\n",
        "nx.draw_networkx(G_tmp, pos_tmp)\n",
        "labels_tmp = nx.get_edge_attributes(G_tmp,'weight')\n",
        "nx.draw_networkx_edge_labels(G_tmp, pos_tmp, edge_labels=labels_tmp);"
      ],
      "metadata": {
        "colab": {
          "base_uri": "https://localhost:8080/",
          "height": 248
        },
        "id": "OvDfIp2HeMR6",
        "outputId": "0b146506-af1a-4537-b8cb-e7bb073dea6b"
      },
      "execution_count": 12,
      "outputs": [
        {
          "output_type": "display_data",
          "data": {
            "image/png": "[encoded data removed]",
            "text/plain": [
              "<Figure size 432x288 with 1 Axes>"
            ]
          },
          "metadata": {}
        }
      ]
    },
    {
      "cell_type": "code",
      "source": [
        "from networkx.algorithms.community.kernighan_lin import kernighan_lin_bisection\n",
        "\n",
        "communities = list(kernighan_lin_bisection(G_tmp, partition=[{'a', 'b', 'c'}, {'d', 'e', 'f'}], max_iter=10, weight='weight', seed=42))\n",
        "communities = [list(ele) for ele in communities]\n",
        "print(\"Number of communities:\", len(communities))\n",
        "print(\"Community:\", communities)\n",
        "pos = nx.spring_layout(G_tmp)\n",
        "for nodes, com in zip(communities, 'rgb'):\n",
        "  nx.draw_networkx_nodes(G_tmp, pos, nodelist=nodes, node_color=[com])\n",
        "nx.draw_networkx_edges(G_tmp, pos)\n",
        "nx.draw_networkx_labels(G_tmp, pos);"
      ],
      "metadata": {
        "colab": {
          "base_uri": "https://localhost:8080/",
          "height": 283
        },
        "id": "Fso5aU-rnJjy",
        "outputId": "ee8747ba-32aa-4317-9f74-99c82de4def0"
      },
      "execution_count": 13,
      "outputs": [
        {
          "output_type": "stream",
          "name": "stdout",
          "text": [
            "Number of communities: 2\n",
            "Community: [['c', 'f', 'a'], ['d', 'e', 'b']]\n"
          ]
        },
        {
          "output_type": "display_data",
          "data": {
            "image/png": "[encoded data removed]",
            "text/plain": [
              "<Figure size 432x288 with 1 Axes>"
            ]
          },
          "metadata": {}
        }
      ]
    },
    {
      "cell_type": "markdown",
      "source": [
        "# 2. Chạy các thuật toán phát hiện cộng đồng trên các đồ thị thế giới thực và đánh giá\n",
        "Ở phần này, chúng ta sẽ sử dụng trang web http://www-personal.umich.edu/~mejn/netdata/ mà chứa 1 số tập dữ liệu về thế giới thực và sử dụng thư viện networkx để đọc dữ liệu từ file .gml sau khi đã tải các bộ dữ liệu này về. Cụ thể, chúng ta sẽ sử dụng 5 bộ dataset với các mô tả như bảng dưới đây\n",
        "\n",
        "<table>\n",
        "  <tr>\n",
        "    <th>Tập dữ liệu</th>\n",
        "    <th>Số lượng đỉnh</th>\n",
        "    <th>Số lượng cạnh</th>\n",
        "    <th>Mô tả</th>\n",
        "  </tr>\n",
        "  <tr>\n",
        "    <td>Zachary’s Karate Club</td>\n",
        "    <td>34</td>\n",
        "    <td>78</td>\n",
        "    <td>Tập dữ liệu này là 1 mạng xã hội thể hiện sự tương tác giữa 34 thành viên trong 1 câu <br> <br> lạc bộ karate tại 1 trường đại học ở Mỹ vào những năm 1970 và đã được đề cập trong <br> <br> bài báo \"An Information Flow Model for Conflict and Fission in Small Groups\" vào <br> <br> năm 1977 bởi tác giả Wayne W. Zachary</td>\n",
        "  </tr>\n",
        "  <tr>\n",
        "    <td>American College football</td>\n",
        "    <td>115</td>\n",
        "    <td>616</td>\n",
        "    <td>Tập dữ liệu này mô tả về mạng lưới của các trận bóng đá ở Mỹ giữa các trường cao <br> <br> đẳng thuộc Division IA trong mùa giải thương niên mùa thu năm 2000. Nó đã được đề <br> <br> cập ở trong bài báo 'Community structure in social and biological networks' bởi 2 tác <br> <br> giả M. Girvan và M. E. J. Newman vào năm 2001</td>\n",
        "  </tr>\n",
        "  <tr>\n",
        "    <td>Dolphin social network</td>\n",
        "    <td>62</td>\n",
        "    <td>159</td>\n",
        "    <td>Tập dữ liệu này là 1 mạng xã hội mô tả về mối liên kết giữa 62 con cá heo trong 1 cộng <br> <br> đồng sống ở khu vục Doubtful Sound, New Zealand. Nó đã được đề cập ở trong bài báo <br> <br> 'The bottlenose dolphin community of Doubtful Sound features a large proportion of <br> <br> long-lasting associations - Can geographic isolation explain this unique trait?' vào năm <br> <br> 2003 bởi 6 tác giả D. Lusseau, K. Schneider, O. J. Boisseau, P. Haase, E. Slooten, và S. M. Dawson</td>\n",
        "  </tr>\n",
        "  <tr>\n",
        "    <td>Word adjacencies</td>\n",
        "    <td>112</td>\n",
        "    <td>425</td>\n",
        "    <td>Tập dữ liệu này là 1 mạng mô tả các tính từ và danh từ phổ biến trong tiểu thuyết David <br> <br>Copperfield của tác giả Charles Dickens. Nó đã được đề cập trong bài báo 'Finding <br> <br>community structure in networks using the eigenvectors of matrices' bởi tác giả M. E. J. Newman <br> <br>vào năm 2006</td>\n",
        "  </tr>\n",
        "  <tr>\n",
        "    <td>Political books</td>\n",
        "    <td>105</td>\n",
        "    <td>441</td>\n",
        "    <td>Tập dữ liệu này là 1 mạng các quyển sách chính trị ở Mỹ được xuất bản trong vào <br> <br> khoảng thời gian diễn ra bầu cử tổng thống năm 2004 và được bán trực tuyến trên trang <br> <br> web Amazon mà trong đó các cạnh biểu thị sự đồng mua các quyển sách của cùng 1 <br> <br> độc giả. Nó được biên soạn bởi tác giả V. Krebs và được công khai trên trang web http://www.orgnet.com/</td>\n",
        "  </tr>\n",
        "</table>"
      ],
      "metadata": {
        "id": "HdC0evVFwiF9"
      }
    },
    {
      "cell_type": "markdown",
      "source": [
        "Về độ đo đánh giá chất lượng của các thuật toán phát hiện cộng đồng, chúng ta sẽ sử dụng 2 độ đo được cung cấp trong thư viện networkx là partition_quality để tính được độ che phủ và hiệu suất của 1 phân vùng trong đồ thị của 1 thuật toán và độ đo còn lại là modularity mà là 1 thước đo của các mạng để đo độ mạnh của việc phân chia mạng thành các cộng đồng và thường được sử dụng trong các phương pháp tối ưu hóa để phát hiện cấu trúc cộng đồng trong mạng. Nếu một mạng có kết nối dày đặc giữa các nút, nó sẽ có giá trị modularity cao. Tuy nhiên, độ đo này đã được báo cáo rằng nó không thể phát hiện các cộng đồng nhỏ vì nó bị giới hạn độ phân giải. Vì tập dữ liệu karate club có sẵn trong thư viện networkx nên chúng ta cần tiến hành tải về 4 tập dữ liệu còn lại như đã mô tả trong bảng và dùng networkx để đọc file .gml để tạo được đồ thị của các mạng này."
      ],
      "metadata": {
        "id": "-xt1S75vXPkA"
      }
    },
    {
      "cell_type": "markdown",
      "source": [
        "<b>Tải tập dữ liệu football</b>"
      ],
      "metadata": {
        "id": "hCA1I4E_9pmN"
      }
    },
    {
      "cell_type": "code",
      "source": [
        "import urllib.request\n",
        "import io\n",
        "import zipfile\n",
        "import networkx as nx\n",
        "\n",
        "url = \"http://www-personal.umich.edu/~mejn/netdata/football.zip\"\n",
        "sock = urllib.request.urlopen(url)  \n",
        "s = io.BytesIO(sock.read())  \n",
        "sock.close()\n",
        "zf = zipfile.ZipFile(s)  \n",
        "gml = zf.read(\"football.gml\").decode()  \n",
        "gml = gml.split(\"\\n\")[1:]\n",
        "football_graph = nx.parse_gml(gml) "
      ],
      "metadata": {
        "id": "359u0-7ipLhb"
      },
      "execution_count": 14,
      "outputs": []
    },
    {
      "cell_type": "markdown",
      "source": [
        "<b>Tải tập dữ liệu dolphin</b>"
      ],
      "metadata": {
        "id": "ihl5493_9tTG"
      }
    },
    {
      "cell_type": "code",
      "source": [
        "url = \"http://www-personal.umich.edu/~mejn/netdata/dolphins.zip\"\n",
        "sock = urllib.request.urlopen(url)  \n",
        "s = io.BytesIO(sock.read())  \n",
        "sock.close()\n",
        "zf = zipfile.ZipFile(s)  \n",
        "gml = zf.read(\"dolphins.gml\").decode()  \n",
        "gml = gml.split(\"\\n\")[1:]\n",
        "dolphin_graph = nx.parse_gml(gml) "
      ],
      "metadata": {
        "id": "gvyLfq4BsSVw"
      },
      "execution_count": 15,
      "outputs": []
    },
    {
      "cell_type": "markdown",
      "source": [
        "<b>Tải tập dữ liệu adjnoun</b>"
      ],
      "metadata": {
        "id": "-NvwB7Ah9079"
      }
    },
    {
      "cell_type": "code",
      "source": [
        "url = \"http://www-personal.umich.edu/~mejn/netdata/adjnoun.zip\"\n",
        "sock = urllib.request.urlopen(url)  \n",
        "s = io.BytesIO(sock.read())  \n",
        "sock.close()\n",
        "zf = zipfile.ZipFile(s)  \n",
        "gml = zf.read(\"adjnoun.gml\").decode()  \n",
        "gml = gml.split(\"\\n\")[1:]\n",
        "adjnoun_graph = nx.parse_gml(gml) "
      ],
      "metadata": {
        "id": "MzmPpZzMuTHN"
      },
      "execution_count": 16,
      "outputs": []
    },
    {
      "cell_type": "markdown",
      "source": [
        "<b>Tải tập dữ liệu political books</b>"
      ],
      "metadata": {
        "id": "kLwKlYni95X_"
      }
    },
    {
      "cell_type": "code",
      "source": [
        "url = \"http://www-personal.umich.edu/~mejn/netdata/polbooks.zip\"\n",
        "sock = urllib.request.urlopen(url)  \n",
        "s = io.BytesIO(sock.read())  \n",
        "sock.close()\n",
        "zf = zipfile.ZipFile(s)  \n",
        "gml = zf.read(\"polbooks.gml\").decode()  \n",
        "gml = gml.split(\"\\n\")[1:]\n",
        "political_book_graph = nx.parse_gml(gml) "
      ],
      "metadata": {
        "id": "dUhE1QAswX8n"
      },
      "execution_count": 17,
      "outputs": []
    },
    {
      "cell_type": "markdown",
      "source": [
        "<b>Đánh giá thuật toán Girvan Newman trên các tập dữ liệu</b>"
      ],
      "metadata": {
        "id": "NrL4_-bs2ZqG"
      }
    },
    {
      "cell_type": "code",
      "source": [
        "from networkx.algorithms.community.centrality import girvan_newman\n",
        "from networkx.algorithms.community.asyn_fluid import asyn_fluidc\n",
        "from networkx.algorithms.community.label_propagation import asyn_lpa_communities\n",
        "from networkx.algorithms.community.kclique import k_clique_communities\n",
        "from networkx.algorithms.community.kernighan_lin import kernighan_lin_bisection\n",
        "from networkx.algorithms.community.quality import partition_quality\n",
        "from networkx.algorithms.community.quality import modularity\n",
        "import time\n",
        "\n",
        "karate_graph = nx.karate_club_graph()\n",
        "start_time_gn_karate = time.time()\n",
        "GN_karate = girvan_newman(karate_graph)\n",
        "GN_node_groups = []\n",
        "for com in next(GN_karate):\n",
        "  GN_node_groups.append(list(com))\n",
        "print('Coverage and performance of a partition of girvan newman in karate graph:', partition_quality(karate_graph, GN_node_groups))\n",
        "print('Modularity of girvan newman in karate graph:', modularity(karate_graph, GN_node_groups, weight='weight', resolution=1))\n",
        "print(\"Time:\", time.time() - start_time_gn_karate)"
      ],
      "metadata": {
        "colab": {
          "base_uri": "https://localhost:8080/"
        },
        "id": "aYwuiblWf70w",
        "outputId": "d5c1858d-5c75-41a7-b2da-2798e68ac2f1"
      },
      "execution_count": null,
      "outputs": [
        {
          "output_type": "stream",
          "name": "stdout",
          "text": [
            "Coverage and performance of a partition of girvan newman in karate graph: (0.8717948717948718, 0.6114081996434938)\n",
            "Modularity of girvan newman in karate graph: 0.3599605522682445\n",
            "Time: 0.062249183654785156\n"
          ]
        }
      ]
    },
    {
      "cell_type": "code",
      "source": [
        "start_time_gn_football = time.time()\n",
        "GN_football = girvan_newman(football_graph)\n",
        "GN_node_groups1 = []\n",
        "for com in next(GN_football):\n",
        "  GN_node_groups1.append(list(com))\n",
        "print('Coverage and performance of a partition of girvan newman in football graph:', partition_quality(football_graph, GN_node_groups1))\n",
        "print('Modularity of girvan newman in football graph:', modularity(football_graph, GN_node_groups1, weight='weight', resolution=1))\n",
        "print(\"Time:\", time.time() - start_time_gn_football)"
      ],
      "metadata": {
        "colab": {
          "base_uri": "https://localhost:8080/"
        },
        "id": "G3wp9-JwZKgQ",
        "outputId": "1a44a371-9410-4d74-fc0e-0c730cdface6"
      },
      "execution_count": null,
      "outputs": [
        {
          "output_type": "stream",
          "name": "stdout",
          "text": [
            "Coverage and performance of a partition of girvan newman in football graph: (0.9004893964110929, 0.5792524790236461)\n",
            "Modularity of girvan newman in football graph: 0.4003563359404315\n",
            "Time: 4.563874244689941\n"
          ]
        }
      ]
    },
    {
      "cell_type": "code",
      "source": [
        "start_time_gn_dolphin = time.time()\n",
        "GN_dolphin = girvan_newman(dolphin_graph)\n",
        "GN_node_groups2 = []\n",
        "for com in next(GN_dolphin):\n",
        "  GN_node_groups2.append(list(com))\n",
        "print('Coverage and performance of a partition of girvan newman in dolphin graph:', partition_quality(dolphin_graph, GN_node_groups2))\n",
        "print('Modularity of girvan newman in dolphin graph:', modularity(dolphin_graph, GN_node_groups2, weight='weight', resolution=1))\n",
        "print(\"Time:\", time.time() - start_time_gn_dolphin)"
      ],
      "metadata": {
        "colab": {
          "base_uri": "https://localhost:8080/"
        },
        "id": "xO-xOVtdsr0B",
        "outputId": "f66159e8-b3ff-4ef0-a3a9-35b525c7c7c7"
      },
      "execution_count": null,
      "outputs": [
        {
          "output_type": "stream",
          "name": "stdout",
          "text": [
            "Coverage and performance of a partition of girvan newman in dolphin graph: (0.9622641509433962, 0.5330512956107879)\n",
            "Modularity of girvan newman in dolphin graph: 0.3787033740753925\n",
            "Time: 0.10555100440979004\n"
          ]
        }
      ]
    },
    {
      "cell_type": "code",
      "source": [
        "start_time_gn_adjnoun = time.time()\n",
        "GN_adjnoun = girvan_newman(adjnoun_graph)\n",
        "GN_node_groups3 = []\n",
        "for com in next(GN_adjnoun):\n",
        "  GN_node_groups3.append(list(com))\n",
        "print('Coverage and performance of a partition of girvan newman in adjnoun graph:', partition_quality(adjnoun_graph, GN_node_groups3))\n",
        "print('Modularity of girvan newman in adjnoun graph:', modularity(adjnoun_graph, GN_node_groups3, weight='weight', resolution=1))\n",
        "print(\"Time:\", time.time() - start_time_gn_adjnoun)"
      ],
      "metadata": {
        "colab": {
          "base_uri": "https://localhost:8080/"
        },
        "id": "BNjgBvteu4Jv",
        "outputId": "ef30d08f-41c4-4823-908a-60e2d0e81f4b"
      },
      "execution_count": null,
      "outputs": [
        {
          "output_type": "stream",
          "name": "stdout",
          "text": [
            "Coverage and performance of a partition of girvan newman in adjnoun graph: (0.9905882352941177, 0.11969111969111969)\n",
            "Modularity of girvan newman in adjnoun graph: 0.009234602076124521\n",
            "Time: 0.5129034519195557\n"
          ]
        }
      ]
    },
    {
      "cell_type": "code",
      "source": [
        "start_time_gn_polbook = time.time()\n",
        "GN_polbook = girvan_newman(political_book_graph)\n",
        "GN_node_groups4 = []\n",
        "for com in next(GN_polbook):\n",
        "  GN_node_groups4.append(list(com))\n",
        "print('Coverage and performance of a partition of girvan newman in political book graph:', partition_quality(political_book_graph, GN_node_groups4))\n",
        "print('Modularity of girvan newman in adjnoun graph:', modularity(political_book_graph, GN_node_groups4, weight='weight', resolution=1))\n",
        "print(\"Time:\", time.time() - start_time_gn_polbook)"
      ],
      "metadata": {
        "colab": {
          "base_uri": "https://localhost:8080/"
        },
        "id": "AF8KR_2WwyZM",
        "outputId": "75db570e-4c46-482e-e8a1-b006ddc5d628"
      },
      "execution_count": null,
      "outputs": [
        {
          "output_type": "stream",
          "name": "stdout",
          "text": [
            "Coverage and performance of a partition of girvan newman in political book graph: (0.9501133786848073, 0.5672161172161172)\n",
            "Modularity of girvan newman in adjnoun graph: 0.4428915935232748\n",
            "Time: 1.5054123401641846\n"
          ]
        }
      ]
    },
    {
      "cell_type": "markdown",
      "source": [
        "<b>Đánh giá thuật toán FluidC trên các tập dữ liệu</b>"
      ],
      "metadata": {
        "id": "O0gCwNyU2jL0"
      }
    },
    {
      "cell_type": "code",
      "source": [
        "start_time_fluid_karate = time.time()\n",
        "fluid_group_karate = list(asyn_fluidc(karate_graph, k=2, max_iter=500, seed=42))\n",
        "fluid_group_karate = [list(ele) for ele in fluid_group_karate]\n",
        "print('Coverage and performance of a partition of fluid communities in karate graph:', partition_quality(karate_graph, fluid_group_karate))\n",
        "print('Modularity of fluid communities in karate graph:', modularity(karate_graph, fluid_group_karate, weight='weight', resolution=1))\n",
        "print(\"Time:\", time.time() - start_time_fluid_karate)"
      ],
      "metadata": {
        "id": "JFht5vA42iwT",
        "colab": {
          "base_uri": "https://localhost:8080/"
        },
        "outputId": "4479faa6-4e43-4fad-ddc5-ddf1930f705f"
      },
      "execution_count": null,
      "outputs": [
        {
          "output_type": "stream",
          "name": "stdout",
          "text": [
            "Coverage and performance of a partition of fluid communities in karate graph: (0.7692307692307693, 0.5739750445632799)\n",
            "Modularity of fluid communities in karate graph: 0.24260355029585792\n",
            "Time: 0.006002902984619141\n"
          ]
        }
      ]
    },
    {
      "cell_type": "code",
      "source": [
        "start_time_fluid_football = time.time()\n",
        "fluid_group_football = list(asyn_fluidc(football_graph, k=2, max_iter=500, seed=42))\n",
        "fluid_group_football = [list(ele) for ele in fluid_group_football]\n",
        "print('Coverage and performance of a partition of fluid communities in football graph:', partition_quality(football_graph, fluid_group_football))\n",
        "print('Modularity of fluid communities in football graph:', modularity(football_graph, fluid_group_football, weight='weight', resolution=1))\n",
        "print(\"Time:\", time.time() - start_time_fluid_football)"
      ],
      "metadata": {
        "colab": {
          "base_uri": "https://localhost:8080/"
        },
        "id": "0g0XHpKW9xbC",
        "outputId": "541f7198-b4d0-4a0a-9d21-13d91f6346f2"
      },
      "execution_count": null,
      "outputs": [
        {
          "output_type": "stream",
          "name": "stdout",
          "text": [
            "Coverage and performance of a partition of fluid communities in football graph: (0.8972267536704731, 0.5649122807017544)\n",
            "Modularity of fluid communities in football graph: 0.3849639006943095\n",
            "Time: 0.017049551010131836\n"
          ]
        }
      ]
    },
    {
      "cell_type": "code",
      "source": [
        "start_time_fluid_dolphin = time.time()\n",
        "fluid_group_dolphin = list(asyn_fluidc(dolphin_graph, k=2, max_iter=500, seed=42))\n",
        "fluid_group_dolphin = [list(ele) for ele in fluid_group_dolphin]\n",
        "print('Coverage and performance of a partition of fluid communities in dolphin graph:', partition_quality(dolphin_graph, fluid_group_dolphin))\n",
        "print('Modularity of fluid communities in dolphin graph:', modularity(dolphin_graph, fluid_group_dolphin, weight='weight', resolution=1))\n",
        "print(\"Time:\", time.time() - start_time_fluid_dolphin)"
      ],
      "metadata": {
        "colab": {
          "base_uri": "https://localhost:8080/"
        },
        "id": "lWp1S8u9_k6g",
        "outputId": "049f6211-86c7-4622-b737-ae1b3298c32f"
      },
      "execution_count": null,
      "outputs": [
        {
          "output_type": "stream",
          "name": "stdout",
          "text": [
            "Coverage and performance of a partition of fluid communities in dolphin graph: (0.9559748427672956, 0.5420412480169222)\n",
            "Modularity of fluid communities in dolphin graph: 0.38477512756615634\n",
            "Time: 0.009082794189453125\n"
          ]
        }
      ]
    },
    {
      "cell_type": "code",
      "source": [
        "start_time_fluid_adjnoun = time.time()\n",
        "fluid_group_adjnoun = list(asyn_fluidc(adjnoun_graph, k=2, max_iter=500, seed=42))\n",
        "fluid_group_adjnoun = [list(ele) for ele in fluid_group_adjnoun]\n",
        "print('Coverage and performance of a partition of fluid communities in adjnoun graph:', partition_quality(adjnoun_graph, fluid_group_adjnoun))\n",
        "print('Modularity of fluid communities in adjnoun graph:', modularity(adjnoun_graph, fluid_group_adjnoun, weight='weight', resolution=1))\n",
        "print(\"Time:\", time.time() - start_time_fluid_adjnoun)"
      ],
      "metadata": {
        "colab": {
          "base_uri": "https://localhost:8080/"
        },
        "id": "6nChWzaG_2P3",
        "outputId": "cc764a5a-477f-478b-f806-de9c9b46b015"
      },
      "execution_count": null,
      "outputs": [
        {
          "output_type": "stream",
          "name": "stdout",
          "text": [
            "Coverage and performance of a partition of fluid communities in adjnoun graph: (0.7011764705882353, 0.5305662805662805)\n",
            "Modularity of fluid communities in adjnoun graph: 0.1912110726643599\n",
            "Time: 0.01691603660583496\n"
          ]
        }
      ]
    },
    {
      "cell_type": "code",
      "source": [
        "start_time_fluid_polbook = time.time()\n",
        "fluid_group_polbook = list(asyn_fluidc(political_book_graph, k=2, max_iter=500, seed=42))\n",
        "fluid_group_polbook = [list(ele) for ele in fluid_group_polbook]\n",
        "print('Coverage and performance of a partition of fluid communities in political book graph:', partition_quality(political_book_graph, fluid_group_polbook))\n",
        "print('Modularity of fluid communities in political book graph:', modularity(political_book_graph, fluid_group_polbook, weight='weight', resolution=1))\n",
        "print(\"Time:\", time.time() - start_time_fluid_polbook)"
      ],
      "metadata": {
        "colab": {
          "base_uri": "https://localhost:8080/"
        },
        "id": "MVraSUcoAOP8",
        "outputId": "962c1a62-5112-466e-fa5f-0dc963196903"
      },
      "execution_count": null,
      "outputs": [
        {
          "output_type": "stream",
          "name": "stdout",
          "text": [
            "Coverage and performance of a partition of fluid communities in political book graph: (0.9523809523809523, 0.5767399267399267)\n",
            "Modularity of fluid communities in political book graph: 0.45172279040111896\n",
            "Time: 0.015372037887573242\n"
          ]
        }
      ]
    },
    {
      "cell_type": "markdown",
      "source": [
        "<b>Đánh giá thuật toán LPA trên các tập dữ liệu</b>"
      ],
      "metadata": {
        "id": "kticYPrcAtAm"
      }
    },
    {
      "cell_type": "code",
      "source": [
        "start_time_lpa_karate = time.time()\n",
        "lpa_group_karate = list(asyn_lpa_communities(karate_graph, weight=None, seed=42))\n",
        "lpa_group_karate = [list(ele) for ele in lpa_group_karate]\n",
        "print('Coverage and performance of a partition of LPA in karate graph:', partition_quality(karate_graph, lpa_group_karate))\n",
        "print('Modularity of LPA in karate graph:', modularity(karate_graph, lpa_group_karate, weight='weight', resolution=1))\n",
        "print(\"Time:\", time.time() - start_time_lpa_karate)"
      ],
      "metadata": {
        "colab": {
          "base_uri": "https://localhost:8080/"
        },
        "id": "kwWJ3fp6Ao1P",
        "outputId": "cb717e30-abba-44f0-b05a-0a2eb86a030e"
      },
      "execution_count": null,
      "outputs": [
        {
          "output_type": "stream",
          "name": "stdout",
          "text": [
            "Coverage and performance of a partition of LPA in karate graph: (0.7564102564102564, 0.768270944741533)\n",
            "Modularity of LPA in karate graph: 0.40327087442472054\n",
            "Time: 0.006296634674072266\n"
          ]
        }
      ]
    },
    {
      "cell_type": "code",
      "source": [
        "start_time_lpa_football = time.time()\n",
        "lpa_group_football = list(asyn_lpa_communities(football_graph, weight=None, seed=42))\n",
        "lpa_group_football = [list(ele) for ele in lpa_group_football]\n",
        "print('Coverage and performance of a partition of LPA in football graph:', partition_quality(football_graph, lpa_group_football))\n",
        "print('Modularity of LPA in football graph:', modularity(football_graph, lpa_group_football, weight='weight', resolution=1))\n",
        "print(\"Time:\", time.time() - start_time_lpa_football)"
      ],
      "metadata": {
        "colab": {
          "base_uri": "https://localhost:8080/"
        },
        "id": "vAedqy5KBcDM",
        "outputId": "3bfe9044-d738-48b1-d6ec-4da08857315a"
      },
      "execution_count": null,
      "outputs": [
        {
          "output_type": "stream",
          "name": "stdout",
          "text": [
            "Coverage and performance of a partition of LPA in football graph: (0.6639477977161501, 0.956979405034325)\n",
            "Modularity of LPA in football graph: 0.5807131508985574\n",
            "Time: 0.015122175216674805\n"
          ]
        }
      ]
    },
    {
      "cell_type": "code",
      "source": [
        "start_time_lpa_dolphin = time.time()\n",
        "lpa_group_dolphin = list(asyn_lpa_communities(dolphin_graph, weight=None, seed=42))\n",
        "lpa_group_dolphin = [list(ele) for ele in lpa_group_dolphin]\n",
        "print('Coverage and performance of a partition of LPA in dolphin graph:', partition_quality(dolphin_graph, lpa_group_dolphin))\n",
        "print('Modularity of LPA in dolphin graph:', modularity(dolphin_graph, lpa_group_dolphin, weight='weight', resolution=1))\n",
        "print(\"Time:\", time.time() - start_time_lpa_dolphin)"
      ],
      "metadata": {
        "colab": {
          "base_uri": "https://localhost:8080/"
        },
        "id": "ZPbvkXMMBoNi",
        "outputId": "d18da2f4-8d82-417a-a86e-91da85c46a07"
      },
      "execution_count": null,
      "outputs": [
        {
          "output_type": "stream",
          "name": "stdout",
          "text": [
            "Coverage and performance of a partition of LPA in dolphin graph: (0.7861635220125787, 0.8069804336329984)\n",
            "Modularity of LPA in dolphin graph: 0.5154266049602467\n",
            "Time: 0.011942863464355469\n"
          ]
        }
      ]
    },
    {
      "cell_type": "code",
      "source": [
        "start_time_lpa_adjnoun = time.time()\n",
        "lpa_group_adjnoun = list(asyn_lpa_communities(adjnoun_graph, weight=None, seed=42))\n",
        "lpa_group_adjnoun = [list(ele) for ele in lpa_group_adjnoun]\n",
        "print('Coverage and performance of a partition of LPA in adjnoun graph:', partition_quality(adjnoun_graph, lpa_group_adjnoun))\n",
        "print('Modularity of LPA in adjnoun graph:', modularity(adjnoun_graph, lpa_group_adjnoun, weight='weight', resolution=1))\n",
        "print(\"Time:\", time.time() - start_time_lpa_adjnoun)"
      ],
      "metadata": {
        "colab": {
          "base_uri": "https://localhost:8080/"
        },
        "id": "b_uxzWwABzKu",
        "outputId": "ad8bfba9-99f9-463e-98f1-0cd8e03bceb2"
      },
      "execution_count": null,
      "outputs": [
        {
          "output_type": "stream",
          "name": "stdout",
          "text": [
            "Coverage and performance of a partition of LPA in adjnoun graph: (1.0, 0.06837194337194337)\n",
            "Modularity of LPA in adjnoun graph: 0.0\n",
            "Time: 0.026049137115478516\n"
          ]
        }
      ]
    },
    {
      "cell_type": "code",
      "source": [
        "start_time_lpa_polbook = time.time()\n",
        "lpa_group_polbook = list(asyn_lpa_communities(political_book_graph, weight=None, seed=42))\n",
        "lpa_group_polbook = [list(ele) for ele in lpa_group_polbook]\n",
        "print('Coverage and performance of a partition of LPA in political book graph:', partition_quality(political_book_graph, lpa_group_polbook))\n",
        "print('Modularity of LPA in political book graph:', modularity(political_book_graph, lpa_group_polbook, weight='weight', resolution=1))\n",
        "print(\"Time:\", time.time() - start_time_lpa_polbook)"
      ],
      "metadata": {
        "colab": {
          "base_uri": "https://localhost:8080/"
        },
        "id": "XnKmXWjBB9xO",
        "outputId": "0c03aa5d-132d-408c-cf91-dbd7200073dd"
      },
      "execution_count": null,
      "outputs": [
        {
          "output_type": "stream",
          "name": "stdout",
          "text": [
            "Coverage and performance of a partition of LPA in political book graph: (0.8843537414965986, 0.7404761904761905)\n",
            "Modularity of LPA in political book graph: 0.5141581954021215\n",
            "Time: 0.015497922897338867\n"
          ]
        }
      ]
    },
    {
      "cell_type": "markdown",
      "source": [
        "<b>Đánh giá thuật toán KL trên các tập dữ liệu</b>"
      ],
      "metadata": {
        "id": "7_L12vkxC4ZN"
      }
    },
    {
      "cell_type": "code",
      "source": [
        "start_time_kl_karate = time.time()\n",
        "kl_group_karate = list(kernighan_lin_bisection(karate_graph, partition=None, max_iter=100, weight='weight', seed=42))\n",
        "kl_group_karate = [list(ele) for ele in kl_group_karate]\n",
        "print('Coverage and performance of a partition of KL in karate graph:', partition_quality(karate_graph, kl_group_karate))\n",
        "print('Modularity of KL in karate graph:', modularity(karate_graph, kl_group_karate, weight='weight', resolution=1))\n",
        "print(\"Time:\", time.time() - start_time_kl_karate)"
      ],
      "metadata": {
        "colab": {
          "base_uri": "https://localhost:8080/"
        },
        "id": "i1KVeIVxC3-Q",
        "outputId": "5f83dcab-f1bd-427d-c3ec-c3edb5d92c89"
      },
      "execution_count": null,
      "outputs": [
        {
          "output_type": "stream",
          "name": "stdout",
          "text": [
            "Coverage and performance of a partition of KL in karate graph: (0.8717948717948718, 0.6185383244206774)\n",
            "Modularity of KL in karate graph: 0.3717948717948718\n",
            "Time: 0.009056329727172852\n"
          ]
        }
      ]
    },
    {
      "cell_type": "code",
      "source": [
        "start_time_kl_football = time.time()\n",
        "kl_group_football = list(kernighan_lin_bisection(football_graph, partition=None, max_iter=100, weight='weight', seed=42))\n",
        "kl_group_football = [list(ele) for ele in kl_group_football]\n",
        "print('Coverage and performance of a partition of KL in football graph:', partition_quality(football_graph, kl_group_football))\n",
        "print('Modularity of KL in football graph:', modularity(football_graph, kl_group_football, weight='weight', resolution=1))\n",
        "print(\"Time:\", time.time() - start_time_kl_football)"
      ],
      "metadata": {
        "colab": {
          "base_uri": "https://localhost:8080/"
        },
        "id": "54F8aK8jHBkS",
        "outputId": "12948c9d-5daa-4e75-9139-24183e8a8cb4"
      },
      "execution_count": null,
      "outputs": [
        {
          "output_type": "stream",
          "name": "stdout",
          "text": [
            "Coverage and performance of a partition of KL in football graph: (0.8792822185970636, 0.5752860411899313)\n",
            "Modularity of KL in football graph: 0.37927024315470403\n",
            "Time: 0.010889768600463867\n"
          ]
        }
      ]
    },
    {
      "cell_type": "code",
      "source": [
        "start_time_kl_dolphin = time.time()\n",
        "kl_group_dolphin = list(kernighan_lin_bisection(dolphin_graph, partition=None, max_iter=100, weight='weight', seed=42))\n",
        "kl_group_dolphin = [list(ele) for ele in kl_group_dolphin]\n",
        "print('Coverage and performance of a partition of KL in dolphin graph:', partition_quality(dolphin_graph, kl_group_dolphin))\n",
        "print('Modularity of KL in dolphin graph:', modularity(dolphin_graph, kl_group_dolphin, weight='weight', resolution=1))\n",
        "print(\"Time:\", time.time() - start_time_kl_dolphin)"
      ],
      "metadata": {
        "colab": {
          "base_uri": "https://localhost:8080/"
        },
        "id": "DMJs4_VHI03r",
        "outputId": "6f488499-9b92-4240-ba50-d683b67c141f"
      },
      "execution_count": null,
      "outputs": [
        {
          "output_type": "stream",
          "name": "stdout",
          "text": [
            "Coverage and performance of a partition of KL in dolphin graph: (0.9056603773584906, 0.5764145954521417)\n",
            "Modularity of KL in dolphin graph: 0.39608797120367073\n",
            "Time: 0.007817983627319336\n"
          ]
        }
      ]
    },
    {
      "cell_type": "code",
      "source": [
        "start_time_kl_adjnoun = time.time()\n",
        "kl_group_adjnoun = list(kernighan_lin_bisection(adjnoun_graph, partition=None, max_iter=100, weight='weight', seed=42))\n",
        "kl_group_adjnoun = [list(ele) for ele in kl_group_adjnoun]\n",
        "print('Coverage and performance of a partition of KL in adjnoun graph:', partition_quality(adjnoun_graph, kl_group_adjnoun))\n",
        "print('Modularity of KL in adjnoun graph:', modularity(adjnoun_graph, kl_group_adjnoun, weight='weight', resolution=1))\n",
        "print(\"Time:\", time.time() - start_time_kl_adjnoun)"
      ],
      "metadata": {
        "colab": {
          "base_uri": "https://localhost:8080/"
        },
        "id": "teZrtF90KaKv",
        "outputId": "d8de0fe6-b038-4021-b239-b17f053db2ec"
      },
      "execution_count": null,
      "outputs": [
        {
          "output_type": "stream",
          "name": "stdout",
          "text": [
            "Coverage and performance of a partition of KL in adjnoun graph: (0.7129411764705882, 0.5336229086229086)\n",
            "Modularity of KL in adjnoun graph: 0.20394740484429066\n",
            "Time: 0.01047968864440918\n"
          ]
        }
      ]
    },
    {
      "cell_type": "code",
      "source": [
        "start_time_kl_polbook = time.time()\n",
        "kl_group_polbook = list(kernighan_lin_bisection(political_book_graph, partition=None, max_iter=100, weight='weight', seed=42))\n",
        "kl_group_polbook = [list(ele) for ele in kl_group_polbook]\n",
        "print('Coverage and performance of a partition of KL in political book graph:', partition_quality(political_book_graph, kl_group_polbook))\n",
        "print('Modularity of KL in political book graph:', modularity(political_book_graph, kl_group_polbook, weight='weight', resolution=1))\n",
        "print(\"Time:\", time.time() - start_time_kl_polbook)"
      ],
      "metadata": {
        "colab": {
          "base_uri": "https://localhost:8080/"
        },
        "id": "AoAcWQOjKlMR",
        "outputId": "0cd98bc9-09b1-4bfe-d649-de016b1f7b7a"
      },
      "execution_count": null,
      "outputs": [
        {
          "output_type": "stream",
          "name": "stdout",
          "text": [
            "Coverage and performance of a partition of KL in political book graph: (0.9365079365079365, 0.5752747252747252)\n",
            "Modularity of KL in political book graph: 0.4365053655627028\n",
            "Time: 0.012822151184082031\n"
          ]
        }
      ]
    },
    {
      "cell_type": "markdown",
      "source": [
        "![](https://drive.google.com/uc?export=view&id=1e_gwCJPycnIL5JKK3bdI1BR5ZLB-QML2)\n",
        "\n",
        "Để cho công bằng trong việc so sánh, chúng ta sẽ chỉ sử dụng 4 thuật toán phát hiện cộng đồng cho việc đánh giá là Girvan Newman, FluidC, LPA và KL vì các thuật toán này dùng để phát hiện các cộng đồng không chùng lấp (nonoverlapping communities) trong khi thuật toán CPM lại được sử dụng cho các cộng đồng chùng lấp (overlapping communities).\n",
        "\n",
        "Về thời gian thực thi của các thuật toán khi chạy trên các tập dữ liệu thế giới thực với kích thước từ vài chục đỉnh đến vài trăm đỉnh, chúng ta có thể thấy được Girvan Newman có thời gian thực thi tương đối chậm hơn so với các thuật toán còn lại vì độ phức tạp tính toán của nó khá cao nên gần như không khả thi khi chạy trên các đồ thị lớn từ vài triệu đỉnh trong thời gian lý tưởng. Thời gian thực thi nhanh nhất thuộc về 2 thuật toán FluiC và KL, xếp sau đó là thuật toán LPA. LPA là 1 thuật toán tương đối tốt để sử dụng trên các đồ thị kích thước lớn vì độ phức tạp tính toán của nó hầu như là tuyến tính trong khi đó FluiC dựa trên sự tương tác fluid mà là 1 sự cải tiến của LPA nên thời gian thực thi tương đối tốt hơn so với LPA. \n",
        "\n",
        "Về chất lượng của các phân vùng của mỗi thuật toán, độ đo coverage cho biết tỷ lệ số lượng giữa số cạnh trong cộng đồng với tổng số cạnh trong đồ thị thì các giá trị của thuật toán Girvan Newman hầu như là tốt nhất trong khi đó ở độ đo performance mà được định nghĩa là số cạnh trong cộng đồng cộng với các cạnh không thuộc cộng đồng đó chia cho tổng số cạnh tiềm năng thì các kết quả của LPA gần như là tốt nhất. Ở độ đo modularity, nó được xem như là 1 thước đo 1 mạng được phân vùng đến các cộng đồng tốt như thế nào, giá trị này luôn nằm trong đoạn [-1, 1] và nếu 1 mạng có giá trị modularity thuộc [0.3, 0.7] thì có ý nghĩa là 1 cấu trúc cộng đồng quan trọng. Nhìn chung kết quả thì LPA có các kết quả độ đo modularity khá tốt so với các thuật toán còn lại. Tuy nhiên ở tập dữ liệu word adjacencies thì giá trị modularity của LPA lại là 0 mà có hàm ý là đây là 1 cộng đồng đơn (tất cả nút trong mạng thuộc cùng 1 cộng đồng và độc lập với cấu trúc mạng)."
      ],
      "metadata": {
        "id": "axsAm3coS1i3"
      }
    },
    {
      "cell_type": "markdown",
      "source": [
        "# Link tham khảo\n",
        "[1] Wikimedia Foundation. (2022, February 7). Fluid–structure interaction. Wikipedia. Retrieved February 12, 2022, from https://en.wikipedia.org/wiki/Fluid%E2%80%93structure_interaction#:~:text=Fluid%E2%80%93structure%20interaction%20(FSI),can%20be%20stable%20or%20oscillatory.\n",
        "\n",
        "[2] Parés, F., Gasulla, D. G., Vilalta, A., Moreno, J., Ayguadé, E., Labarta, J., ... & Suzumura, T. (2017, November). Fluid communities: a competitive, scalable and diverse community detection algorithm. In International conference on complex networks and their applications (pp. 229-240). Springer, Cham.\n",
        "\n",
        "[3] Raghavan, U. N., Albert, R., & Kumara, S. (2007). Near linear time algorithm to detect community structures in large-scale networks. Physical review E, 76(3), 036106.\n",
        "\n",
        "[4] Neo4j Community. (2019, April 8). Graph algorithms in neo4j: Label Propagation. Neo4j Graph Data Platform. Retrieved February 12, 2022, from https://neo4j.com/blog/graph-algorithms-neo4j-label-propagation/.\n",
        "\n",
        "[5] Kernighan, B. W., & Lin, S. (1970). An efficient heuristic procedure for partitioning graphs. The Bell system technical journal, 49(2), 291-307.\n",
        "\n",
        "[6] Hadi, K., Kernighan, Lin, &amp; toV. (n.d.). A fundamental bi-partition algorithm of Kernighan-lin - ppt download. SlidePlayer. Retrieved February 12, 2022, from https://slideplayer.com/slide/15915668/.\n",
        "\n",
        "[7] Palla, G., Derényi, I., Farkas, I., & Vicsek, T. (2005). Uncovering the overlapping community structure of complex networks in nature and society. nature, 435(7043), 814-818.\n",
        "\n",
        "[8] YouTube. (2020, March 28). BDA-CPM-Diksha Kumar-It Department. YouTube. Retrieved February 12, 2022, from https://www.youtube.com/watch?v=oG8KDaLMdWY.\n",
        "\n",
        "[9] Girvan, M., & Newman, M. E. (2002). Community structure in social and biological networks. Proceedings of the national academy of sciences, 99(12), 7821-7826.\n",
        "\n",
        "[10] YouTube. (2019, May 19). Girvan Newman BDA. YouTube. Retrieved February 12, 2022, from https://www.youtube.com/watch?v=LtQoPEKKRYM.\n",
        "\n",
        "[11] Newman, M. (2013, April 19). Network Data. Retrieved February 12, 2022, from http://www-personal.umich.edu/~mejn/netdata/."
      ],
      "metadata": {
        "id": "7lBU5U29DTZf"
      }
    }
  ]
}