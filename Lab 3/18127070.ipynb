{
  "nbformat": 4,
  "nbformat_minor": 0,
  "metadata": {
    "colab": {
      "name": "Lab3_GraphMining.ipynb",
      "provenance": [],
      "collapsed_sections": []
    },
    "kernelspec": {
      "name": "python3",
      "display_name": "Python 3"
    },
    "language_info": {
      "name": "python"
    }
  },
  "cells": [
    {
      "cell_type": "markdown",
      "source": [
        "#Tên: Trần Đại Chí\n",
        "#MSSV: 18127070"
      ],
      "metadata": {
        "id": "F8-Yi9fCiza9"
      }
    },
    {
      "cell_type": "markdown",
      "source": [
        "Chúng ta sẽ chia làm tổng cộng 3 phần cho bài lab này. Ở phần 1, chúng ta sẽ tải toàn bộ dataset về từ cuộc thi dự đoán liên kết trên đồ thị mạng xã hội của Facebook tại link sau https://www.kaggle.com/c/FacebookRecruiting/overview. Ở phần 2, chúng ta sẽ đề cập đến cách thức mà tác giả huấn luyện mô hình như cách tạo ra các tập dữ liệu train, test, các liên kết giả hay còn gọi là kỹ thuật lấy mẫu âm (negative sampling), cách tính các độ đo tương tự và 1 số đặc trưng khác như tính đường dẫn ngắn nhất, kiểm tra 2 nút thuộc cùng 1 cộng đồng hay không... để cải thiện kết quả dự đoán cho mô hình. Ở phần cuối cùng, chúng ta sẽ chạy thực nghiệm và giải thích lại từng phần trong code của tác giả trên tập dữ liệu đã được cung cấp sẵn"
      ],
      "metadata": {
        "id": "R6epCRp3jniF"
      }
    },
    {
      "cell_type": "markdown",
      "source": [
        "# 1. Tải dữ liệu từ kaggle\n",
        "Khi tải dữ liệu ở kaggle từ 1 cuộc thi nào đó về, nó đòi hỏi chúng ta cần phải xuất file json tài khoản kaggle của chúng ta và upload lên colab, sau đó chúng ta sẽ chạy tiếp các đoạn code như dưới đây là có thể tải thành công toàn bộ dữ liệu từ cuộc thi đó về"
      ],
      "metadata": {
        "id": "yVzv5fJ6VJ-5"
      }
    },
    {
      "cell_type": "code",
      "source": [
        "!pip install -q kaggle"
      ],
      "metadata": {
        "id": "FuvBorT_TBw0"
      },
      "execution_count": null,
      "outputs": []
    },
    {
      "cell_type": "code",
      "source": [
        "from google.colab import files\n",
        "\n",
        "files.upload()"
      ],
      "metadata": {
        "id": "LRaTn_g2TFrx"
      },
      "execution_count": null,
      "outputs": []
    },
    {
      "cell_type": "code",
      "source": [
        "!mkdir ~/.kaggle\n",
        "!cp kaggle.json ~/.kaggle/"
      ],
      "metadata": {
        "id": "fUUKzu_MTMA3"
      },
      "execution_count": null,
      "outputs": []
    },
    {
      "cell_type": "code",
      "source": [
        "!chmod 600 ~/.kaggle/kaggle.json"
      ],
      "metadata": {
        "id": "7oNiKZk7TQQF"
      },
      "execution_count": null,
      "outputs": []
    },
    {
      "cell_type": "code",
      "source": [
        "!kaggle competitions download -c FacebookRecruiting"
      ],
      "metadata": {
        "id": "6TZLFB5MTTif"
      },
      "execution_count": null,
      "outputs": []
    },
    {
      "cell_type": "markdown",
      "source": [
        "#2. Các quy trình huấn luyện mô hình cho bài toán dự đoán liên kết, các độ đo tương tự, các độ đo xếp hạng, các độ đo đánh giá và 1 số đặc trưng khác\n",
        "2.1 Về phần quy trình huấn luyện mô hình cho bài toán dự đoán liên kết, ở cuộc thi này, tác giả sẽ coi vấn đề dự đoán liên kết trên đồ thị mạng xã hội như là 1 vấn đề phân loại. Chúng ta có thể hiểu đơn giản vấn đề phân loại ở đây là với các liên kết mà tồn tại thật thì sẽ có nhãn là 1 và với các liên kết giả được tạo ra thì sẽ có nhãn là 0. Về toàn bộ các bước của tác giả sẽ được mô tả chi tiết như sau\n",
        "+ Đầu tiên, tác giả tiến hành bước tiền xử lý bằng cách đọc file train.csv (file này bao gồm 2 cột ở dạng int, 1 cột là các nút nguồn và cột còn lại là các nút đích mà chỉ ra 1 người đang follow 1 người trên mạng xã hội) và kiểm tra có dữ liệu NaN hay hàng nào bị trùng không, sau khi kiểm tra không có vấn đề gì bất thường thì sẽ đọc toàn bộ file dữ liệu này bằng networkx ở dạng đồ thị có hướng\n",
        "+ Sau khi đã có được đồ thị có hướng, tác giả tiến hành tạo các liên kết giả hay còn gọi là lấy mẫu âm (negative sampling) bằng cách gán toàn bộ các liên kết trong mạng ban đầu là 1, sau đó tạo ra 2 biến ngẫu nhiên a và b mà nhận \n",
        "các giá trị từ 1 đến 1.862.220 vì mạng ban đầu có nút lớn nhất là 1.862.220. Khi đã có 2 biến a và b khác nhau thì nếu chiều dài đường dẫn ngắn nhất giữa 2 biến này > 2 thì tác giả coi đó là 1 liên kết giả và gán nó là -1 để phân biệt với các liên kết thật\n",
        "+ Sau khi đã có được 2 file csv bao gồm các liên kết thật và các liên kết giả, tác giả tiến hành chia train, test cho 2 file này với tỷ lệ là 80:20 và đọc chỉ tập train ở cả 2 file này vào 2 đồ thị để kiểm tra 1 số thông tin như số người có ở trong cả 2 tập train và test, số người ko có trong tập train nhưng lại có trong tập test và phát hiện có vấn đề coldstart xảy ở ra đây nên để giải quyết vấn đề này, tác giả đọc cả phần train, test ở cả 2 file lên và gộp phần train ở file 1 bao gồm các liên kết thật vào phần train ở file 2 bao gồm các liên kết giả lại với nhau. Một cách tương tự thì phần test ở cả 2 file cũng được gộp như vậy\n",
        "+ Ở bước tiếp theo, tác giả tiến hành đọc 2 file train và test sau khi đã gộp xong ở trên nhưng để tránh bị vượt quá bộ nhớ khi đọc 1 file lớn vào dataframe, tác giả chỉ đọc 1 lượng nhỏ các hàng trong file ở vị trí ngẫu nhiên và bỏ qua \n",
        "các hàng còn lại\n",
        "+ Sau khi đã đọc và có được 2 dataframe từ bước trên, tác giả tiến hành thêm vào 1 số đặc trưng để mô hình dự đoán như độ đo jaccard, cosine, tổng số người mà 1 người đang theo dõi và được theo dõi và tổng số người đang theo dõi và \n",
        "được theo dõi mà có chung ở cả nút nguồn lẫn nút đích của liên kết tương ứng, chỉ số adar, đánh nhãn cho biết 2 nút nguồn và đích có thuộc về cùng 1 cộng đồng kết nối hay không, nút đích có theo dõi nút nguồn hay không, đường dẫn ngắn nhất giữa nút nguồn và nút đích mà không tính đường dẫn trực tiếp (nếu có), trọng số các cạnh vào, ra, page rank của các nút nguồn và nút đích, katz của các nút nguồn và nút đích, hits của các nút nguồn và nút đích, các đặc trưng SVD cho các nút nguồn và nút đích\n",
        "+ Cuối cùng, sau khi dataframe đã có đủ các cột đặc trưng đủ để cho mô hình dự đoán, tác giả loại bỏ 3 cột nút nguồn, nút đích và cột nhãn dự đoán của liên kết và sử dụng mô hình RandomForestClassifier để dự đoán và đánh giá mô hình theo độ đo f1 score thì kết quả tốt nhất đạt được trên tập train và test tương ứng là 0.966 và 0.927 tại chiều sâu của mô hình là 20. Để xem với các siêu tham số khác mô hình còn đạt được kết quả tốt hơn không, tác giả sử dụng RandomizedSearchCV() để dò ra các siêu tham số tốt nhất cho mô hình và kết quả cuối cùng tính theo độ đo f1 score cho cả tập train và test vẫn giữ như cũ nên có thể thấy đây là kết quả tốt nhất hiện tại mà mô hình đạt được\n",
        "+ Ở bước trên thì tác giả huấn luyện mô hình trên tập train và test mà bao gồm các liên kết thật và các liên kết giả, ở bước này tác giả tiến hành đọc train và test mà chỉ bao gồm các liên kết thật vào 2 đồ thị mới. Tiếp theo, tác giả\n",
        "sẽ tính lại tổng số người theo dõi cho các nút nguồn và nút đích ở trong 2 đồ thị mới này và đưa các cột mới này vào 2 dataframe train và test mà đã tạo ra ở trên và tác giả thêm 1 số đặc trưng mới vào dataframe train và test này tiếp \n",
        "như cột \"followers_preferential_attach\" và \"followers_preferential_attach\" mà bao gồm kết quả tổng số lượng theo dõi và được theo dõi ở nút nguồn nhân với tổng số lượng theo dõi và được theo dõi ở nút đích, tích của các thành phần u, s và v ở trong SVD\n",
        "+ Sau khi đã thêm được 1 số đặc trưng mới vào dataframe như trên, tác giả chuyển sang sử dụng mô hình xgboost với RandomizedSearchCV() để dò ra các siêu tham số tốt nhất và kết quả tốt nhất trên tập train và test bằng độ đo f1 score\n",
        "lần lượt là 0.992 và 0.908. Với kết quả này thì nhìn chung kết quả train đạt được khá tốt so với mô hình RandomForrestClassifier() với các đặc trưng cũ sử dụng ở trên nhưng kết quả test cho ra lại tệ hơn\n",
        "+ Trên đây là toàn bộ tóm gọn quy trình cách thức huấn luyện mô hình của tác giả, về phần cải tiến mô hình thì chúng ta có thể\n",
        "sử dụng 1 phương pháp hiệu quả hơn là stack model mà xếp chồng nhiều mô hình hồi quy lại với nhau và điều chỉnh trọng số phù hợp cho từng mô hình nhưng chúng ta sẽ không đề cập đến cách giải quyết này ở đây\n",
        "\n",
        "2.2 Về độ đo tương tự, tác giả sử dụng 2 độ đo là chỉ số jaccard và hệ số Otsuka–Ochiai\n",
        "\n",
        "\\begin{equation}\n",
        "JaccardIndex = \\frac{|X\\cap Y|}{|X \\cup Y|} \n",
        "\\end{equation}\n",
        "\n",
        "Về chỉ số jaccard, nó là 1 hệ số thống kê được sử dụng để đánh giá mức độ tương đồng cho 2 nút X và Y, nó được tính bởi công thức như trên (trong đó X và Y là danh sách các nút vào hoặc ra tương ứng của nút đó tùy vào việc chúng ta đang tính chỉ số jaccard cho 2 nút đang theo dõi người khác hay là được người khác theo dõi) và có giá trị từ 0-100%. Nếu giá trị này càng lớn thì 2 nút sẽ càng có nhiều điểm giống nhau. Tuy nhiên, độ đo này có 1 nhược điểm là nó lại nhạy cảm với các bộ dữ liệu có kích thước nhỏ mà dẫn đến kết quả có thể bị sai\n",
        "\n",
        "\\begin{equation}\n",
        "Otsuka–Ochiai = \\frac{|X\\cap Y|}{\\sqrt{|X|\\times|Y|}} \n",
        "\\end{equation}\n",
        "\n",
        "Mặc dù trong code tác giả ghi là độ tương tự cosine nhưng về công thức trong code thì nó có phần giống với hệ số Otsuka–Ochiai mà là 1 độ đo tương tự từng được sử dụng trong lĩnh vực sinh học. Về công thức của nó thì được tính như ở trên (trong đó X và Y là là danh sách các nút vào hoặc ra tương ứng của nút đó tùy vào việc chúng ta đang tính độ tương tự cosine cho 2 nút đang theo dõi người khác hay là được người khác theo dõi)\n",
        "\n",
        "2.3 Về độ đo xếp hạng tác giả sử dụng thuật toán page rank cho các nút nguồn và đích\n",
        "\n",
        "Page rank là 1 thuật toán kinh điển của google được dùng trong google search để xếp hạng các trang web. Tuy nhiên, khác với khái niệm link popularity mà cho ra kết quả các trang web bằng cách tính độ quan trọng của trang web đó (1 trang web được coi là quan trọng nếu có nhiều trang web liên kết với nó), page rank xác định độ quan trọng của 1 trang web còn dựa trên xếp hạng của các trang web liên kết đến nó. Về cách tính của thuật toán, đầu tiên đưa ra 1 đồ thị có hướng như hình dưới đây\n",
        "\n",
        "![](https://drive.google.com/uc?export=view&id=1nocJKqKuNFaUFCiz7yAcOdwn6xfp_xwP)\n",
        "\n",
        "Kết quả page rank của thuật toán này được tính như bảng dưới đây\n",
        "\n",
        "<table>\n",
        "  <tr>\n",
        "    <th></th>\n",
        "    <th>Iteration 0</th>\n",
        "    <th>Iteration 1</th>\n",
        "    <th>Iteration 2</th>\n",
        "    <th>Page Rank</th>\n",
        "  </tr>\n",
        "  <tr>\n",
        "    <td>A</td>\n",
        "    <td>1/4</td>\n",
        "    <td>1/12</td>\n",
        "    <td>1.5/12</td>\n",
        "    <td>1</td>\n",
        "  </tr>\n",
        "  <tr>\n",
        "    <td>B</td>\n",
        "    <td>1/4</td>\n",
        "    <td>2.5/12</td>\n",
        "    <td>2/12</td>\n",
        "    <td>2</td>\n",
        "  </tr>\n",
        "  <tr>\n",
        "    <td>C</td>\n",
        "    <td>1/4</td>\n",
        "    <td>4.5/12</td>\n",
        "    <td>4.5/12</td>\n",
        "    <td>4</td>\n",
        "  </tr>\n",
        "  <tr>\n",
        "    <td>D</td>\n",
        "    <td>1/4</td>\n",
        "    <td>4/12</td>\n",
        "    <td>4/12</td>\n",
        "    <td>3</td>\n",
        "  </tr>\n",
        "</table>\n",
        "\n",
        "Đầu tiên, ở iteration 0 chúng ta sẽ tối ưu toàn bộ các trang web có giá trị page rank là 1/N = 1/4 (trong đó N là tổng số trang web). Ở iteration 1, trang web A có trang web C liên kết đến mà page rank của trang web C là 1/4 và có 3 liên kết đi ra nên page rank của trang web A là PR(A) = (1/4)/3 = 1/12. Trang web B có 2 trang web liên kết đến là trang web A và C, trang web A có page rank là 1/4 và có 2 liên kết đi ra, trang web C có page rank là 1/4 và có 3 liên kết đi ra nên page rank của trang web B là PR(B) = (1/4)/2 + (1/4)/3 = 2.5/12. Một cách tương tự, ta sẽ có page rank của trang web C và D ở iteration 1 là 4.5/12 và 4/12. Ở iteration 1, chúng ta cũng sẽ lặp lại các bước như trên nhưng ở mỗi lần tính chúng ta cần lưu ý cập nhật lại giá trị page rank ở iteration trước đó\n",
        "\n",
        "2.4 Về độ độ đo đánh giá tác giả sử dụng 4 độ đo chính là Precision, Recall, F1 Score và AUC - ROC\n",
        "\n",
        "Về F1 score, nó là 1 độ đo về sự cân bằng giữa 2 độ đo precision và recall. Nó có công thức F Score = 2*((precision*recall)/(precision+recall)) (trong đó độ chuẩn xác precision sẽ cho chúng ta biết được mô hình của chúng ta phân loại \n",
        "các dữ liệu positive tốt ra sao và nó có tông thức là Precision = TP/(TP + FP) với TP là tổng số trường hợp dự đoán mà đúng với mẫu positive và FP là tổng số trường hợp nhãn là negative nhưng được dự đoán thành positive còn với độ phủ recall, nó cho chúng ta biết được tỷ lệ dự báo chính xác với các trường hợp positive trên toàn bộ các mẫu thuộc nhóm positive thực sự là bao nhiêu và nó có công thức là Recall = TP/(TP+FN) với FN là tổng các trường hợp từ positive nhưng dự đoán thành negative). Về AUC - ROC, đây là 1 phương pháp phổ biến được dùng để đánh giá hiệu suất của các mô hình phân lớp bên cạnh 1 phương pháp phổ biến khác là Confusion Matrix. Nếu chỉ số AUC càng cao thì mô hình của chúng ta sẽ càng chính xác hơn trong việc phân lớp. Trong AUC, nó sử dụng 2 chỉ số là TPR và FPR. TPR cho biết tỷ lệ phân loại chính xác giữa các mẫu dương trên toàn bộ các mẫu dương và có công thức giống với Recall. FPR sẽ cho chúng ta biết tỷ lệ các mẫu negative được dự đoán sai thành positive trên toàn bộ các mẫu negative và có công thức là FPR = FP/(TN+FP) với TN là tổng trường hợp dự báo đúng với mẫu negative\n",
        "\n",
        "2.5 Về 1 số đặc trưng khác mà tác giả thêm vào cho có thêm nhiều dữ liệu để mô hình dự đoán tốt hơn, chúng ta có đặc trưng đường dẫn ngắn nhất mà cho biết đường dẫn ngắn nhất giữa 2 nút trong đồ thị mà đã loại bỏ đường dẫn trực tiếp giữa 2 nút này nếu có tồn tại, kiểm tra 2 nút có thuộc cùng 1 cộng đồng hay không thông qua hàm weakly_connected_components có sẵn trong networkx, kiểm tra xem giữa 2 nút a và b thì nút b có liên kết đến nút a hay không mà cho biết người b có đang follow người a trên mạng xã hội không. Ngoài các đặc trưng này còn có 1 số đặc trưng khác nữa như chỉ số adamic/adar, độ trung tâm katz, điểm hits, đặc trưng trọng số các cạnh vào, ra và các đặc trưng svd mà có sẵn trong thư viện scipy cho các nút nguồn cũng như nút đích\n",
        "\n",
        "$$Adamic(x,y)=\\sum_{u \\in N(x) \\cap N(y)}\\frac{1}{log(|N(u)|)}$$\n",
        "\n",
        "Về chỉ số adamic/adar, nó được định nghĩa là tổng nghịch đảo logarithmic bậc trung tâm của các láng giềng chung của 2 nút với công thức như ở trên mà trong đó N(u) là tập các nút liền kề với u. Nếu giá trị này bằng 0 có nghĩa là 2 nút x và y không liền kề nhau và ngược lại nếu giá trị này càng lớn thì 2 nút sẽ càng gần nhau\n",
        "\n",
        "$$x_i = \\alpha \\sum_{j} A_{ij} x_j + \\beta$$\n",
        "\n",
        "Về độ trung tâm katz, nó đo lường mức độ ảnh hưởng của 1 nút trong 1 mạng bằng cánh tính độ trung tâm của nút đó dựa trên độ trung tâm của các nút láng giềng với nó. Độ trugn tâm katz của 1 nút i có công thức như trên mà trong đó A là 1 ma trận kề của đồ thị G với eigenvalues là $\\lambda$, $\\beta$ là 1 tham số độ trung tâm khởi tạo và $\\alpha < \\frac{1}{\\lambda_{max}}$\n",
        "\n",
        "Về thuật toán hits thì nó là 1 thuật toán được tạo ra bởi tác giả Jon Kleinberg để phân tích các liên kết để xếp hạng các trang web. Thuật toán này bao gồm 2 bước chính là cập nhật Authority và cập nhật Hub. Authority sẽ ước lượng giá trị nút dựa trên các liên kết đến trong khi đó Hub sẽ ước lượng giá trị nút dựa trên các liên kết ra\n",
        "\n",
        "\\begin{equation}\n",
        "W = \\frac{1}{\\sqrt{1+|X|}}\n",
        "\\end{equation}\n",
        "\n",
        "Về đặc trưng cho trọng số cạnh thì tác giả đưa ra công thức tính như ở trên với X là 1 set các nút predecessors hoặc successors của nút X. Sau khi tính được đặc trưng này cho các nút trong đồ thị, tác giả tạo thêm 1 số đặc trưng mới mà là sự kết hợp giữa trọng số cạnh vào và cạnh ra như \n",
        "+ trọng số của các cạnh vào + trọng số của các cạnh ra\n",
        "+ trọng số của các cạnh vào * trọng số của các cạnh ra\n",
        "+ 2*trọng số của các cạnh vào + trọng số của các cạnh ra\n",
        "+ trọng số của các cạnh vào + 2*trọng số của các cạnh ra\n"
      ],
      "metadata": {
        "id": "USYoqYN9PBi0"
      }
    },
    {
      "cell_type": "markdown",
      "source": [
        "#3. Chạy thực nghiệm và giải thích lại từng phần trong code của tác giả trên tập dữ liệu đã được cung cấp sẵn"
      ],
      "metadata": {
        "id": "vRsMNV8vAquz"
      }
    },
    {
      "cell_type": "markdown",
      "source": [
        "#3.1 Đọc đồ thị từ tập dữ liệu\n",
        "Ở bước này, sau khi đã tải tập dữ liệu train.csv từ kaggle, tác giả sẽ tiến hành đọc tập dữ liệu này ở dạng dataframe để kiểm tra có bất thường gì về dữ liệu ở các hàng hay không, sau khi không có sự bất thường nào sẽ lưu vào 1 file mới có tên train_woheader.csv. Tập dữ liệu này sẽ bao gồm 2 cột tương ứng với các nút nguồn và các nút đích ở dạng int. Sau khi đã có file mới, tác giả sử dụng networkx và đọc dữ liệu từ file này vào 1 đồ thị có hướng mà bao gồm 1.862.220 nút và 9.437.519 cạnh"
      ],
      "metadata": {
        "id": "T3aBLFw8VN-e"
      }
    },
    {
      "cell_type": "code",
      "source": [
        "!mkdir data"
      ],
      "metadata": {
        "id": "OzqAnursVdGZ"
      },
      "execution_count": null,
      "outputs": []
    },
    {
      "cell_type": "code",
      "source": [
        "!unzip /content/train.csv.zip -d /content/data"
      ],
      "metadata": {
        "id": "WbxC9kyHVga3"
      },
      "execution_count": null,
      "outputs": []
    },
    {
      "cell_type": "code",
      "source": [
        "!mkdir /content/data/after_eda"
      ],
      "metadata": {
        "id": "BEFpiPrGWO1w"
      },
      "execution_count": null,
      "outputs": []
    },
    {
      "cell_type": "code",
      "source": [
        "import os\n",
        "import pandas as pd\n",
        "import networkx as nx\n",
        "\n",
        "if not os.path.isfile('data/after_eda/train_woheader.csv'):\n",
        "    traincsv = pd.read_csv('data/train.csv')\n",
        "    print(traincsv[traincsv.isna().any(1)])\n",
        "    print(traincsv.info())\n",
        "    print(\"Number of diplicate entries: \", sum(traincsv.duplicated()))\n",
        "    traincsv.to_csv('data/after_eda/train_woheader.csv', header=False, index=False)\n",
        "    print(\"saved the graph into file\")\n",
        "else:\n",
        "    g = nx.read_edgelist('data/after_eda/train_woheader.csv', delimiter=',', create_using=nx.DiGraph(), nodetype=int)\n",
        "    print(nx.info(g))"
      ],
      "metadata": {
        "colab": {
          "base_uri": "https://localhost:8080/"
        },
        "id": "SWn5GBlgUvpV",
        "outputId": "6f5982bf-2858-4adb-c3dd-9acb8bbc2d60"
      },
      "execution_count": null,
      "outputs": [
        {
          "output_type": "stream",
          "name": "stdout",
          "text": [
            "DiGraph with 1862220 nodes and 9437519 edges\n"
          ]
        }
      ]
    },
    {
      "cell_type": "markdown",
      "source": [
        "#3.2 Phân tích khám phá dữ liệu\n",
        "Ở bước này tác giả sử dụng đồ thị đã đọc từ networkx ở trên và thực hiện 1 số câu hỏi phân tích như tổng số nút trong đồ thị là bao nhiêu, tổng số lượng người theo dõi của mỗi người là bao nhiêu và tổng số lượng người mà mỗi người đang theo dõi là bao nhiêu, số lượng người mà không theo dõi bất kỳ người nào hay không được bất kỳ người nào theo dõi, số lượng người không theo dõi bất kỳ ai và cũng không có bất kỳ ai theo dõi lại, tổng số lượng người đang theo dõi cộng với tổng số lượng người được được theo dõi của mỗi người, tổng số lượng người đang theo dõi cộng với tổng số lượng người được theo dõi lớn nhất, nhỏ nhất và lớn hơn 10 của mỗi người"
      ],
      "metadata": {
        "id": "2p4CZGdFYuAc"
      }
    },
    {
      "cell_type": "code",
      "source": [
        "print(\"The number of unique persons\", len(g.nodes()))"
      ],
      "metadata": {
        "colab": {
          "base_uri": "https://localhost:8080/"
        },
        "id": "YjFwkeasYrzA",
        "outputId": "af3401ab-0a04-4770-8b3b-917b92a3d822"
      },
      "execution_count": null,
      "outputs": [
        {
          "output_type": "stream",
          "name": "stdout",
          "text": [
            "The number of unique persons 1862220\n"
          ]
        }
      ]
    },
    {
      "cell_type": "markdown",
      "source": [
        "<b>Number of followers for each person</b>"
      ],
      "metadata": {
        "id": "X62k7rNXY88Z"
      }
    },
    {
      "cell_type": "code",
      "source": [
        "import matplotlib.pyplot as plt\n",
        "\n",
        "indegree_dist = list(dict(g.in_degree()).values())\n",
        "indegree_dist.sort()\n",
        "plt.figure(figsize=(10,6))\n",
        "plt.plot(indegree_dist)\n",
        "plt.xlabel('Index No')\n",
        "plt.ylabel('No Of Followers')\n",
        "plt.show()"
      ],
      "metadata": {
        "colab": {
          "base_uri": "https://localhost:8080/",
          "height": 388
        },
        "id": "KDLX0m9UY8fO",
        "outputId": "7f64179a-0c02-41b1-b2dd-70e92df057be"
      },
      "execution_count": null,
      "outputs": [
        {
          "output_type": "display_data",
          "data": {
            "image/png": "[encoded data removed]",
            "text/plain": [
              "<Figure size 720x432 with 1 Axes>"
            ]
          },
          "metadata": {
            "needs_background": "light"
          }
        }
      ]
    },
    {
      "cell_type": "markdown",
      "source": [
        "<b>Number of people each person is following</b>"
      ],
      "metadata": {
        "id": "yPME4qQ7bti9"
      }
    },
    {
      "cell_type": "code",
      "source": [
        "outdegree_dist = list(dict(g.out_degree()).values())\n",
        "outdegree_dist.sort()\n",
        "plt.figure(figsize=(10,6))\n",
        "plt.plot(outdegree_dist)\n",
        "plt.xlabel('Index No')\n",
        "plt.ylabel('No Of people each person is following')\n",
        "plt.show()"
      ],
      "metadata": {
        "colab": {
          "base_uri": "https://localhost:8080/",
          "height": 388
        },
        "id": "m0Z1jtF3aZpQ",
        "outputId": "073c3fe0-50d7-4827-d38e-cc674d397804"
      },
      "execution_count": null,
      "outputs": [
        {
          "output_type": "display_data",
          "data": {
            "image/png": "[encoded data removed]",
            "text/plain": [
              "<Figure size 720x432 with 1 Axes>"
            ]
          },
          "metadata": {}
        }
      ]
    },
    {
      "cell_type": "code",
      "source": [
        "print('No of persons those are not following anyone are' ,sum(np.array(outdegree_dist)==0),'and % is',\n",
        "                                sum(np.array(outdegree_dist)==0)*100/len(outdegree_dist) )"
      ],
      "metadata": {
        "colab": {
          "base_uri": "https://localhost:8080/"
        },
        "id": "0wJPdAKjdUUY",
        "outputId": "9718c80b-e81d-4d13-ae11-9dfb324d2f0e"
      },
      "execution_count": null,
      "outputs": [
        {
          "output_type": "stream",
          "name": "stdout",
          "text": [
            "No of persons those are not following anyone are 274512 and % is 14.741115442858524\n"
          ]
        }
      ]
    },
    {
      "cell_type": "code",
      "source": [
        "print('No of persons having zero followers are' ,sum(np.array(indegree_dist)==0),'and % is',\n",
        "                                sum(np.array(indegree_dist)==0)*100/len(indegree_dist))"
      ],
      "metadata": {
        "colab": {
          "base_uri": "https://localhost:8080/"
        },
        "id": "qqPjqtn2dZex",
        "outputId": "7bad27e6-c11b-46bb-887f-1bc95224d90a"
      },
      "execution_count": null,
      "outputs": [
        {
          "output_type": "stream",
          "name": "stdout",
          "text": [
            "No of persons having zero followers are 188043 and % is 10.097786512871734\n"
          ]
        }
      ]
    },
    {
      "cell_type": "code",
      "source": [
        "count=0\n",
        "for i in g.nodes():\n",
        "    if len(list(g.predecessors(i)))==0 :\n",
        "        if len(list(g.successors(i)))==0:\n",
        "            count+=1\n",
        "print('No of persons those are not not following anyone and also not having any followers are',count)"
      ],
      "metadata": {
        "colab": {
          "base_uri": "https://localhost:8080/"
        },
        "id": "bpApV25Zddu5",
        "outputId": "c27f3cac-1965-4b4d-a880-460b794256c4"
      },
      "execution_count": null,
      "outputs": [
        {
          "output_type": "stream",
          "name": "stdout",
          "text": [
            "No of persons those are not not following anyone and also not having any followers are 0\n"
          ]
        }
      ]
    },
    {
      "cell_type": "markdown",
      "source": [
        "<b>both followers + following of each person</b>"
      ],
      "metadata": {
        "id": "YeDROhordpXu"
      }
    },
    {
      "cell_type": "code",
      "source": [
        "from collections import Counter\n",
        "\n",
        "dict_in = dict(g.in_degree())\n",
        "dict_out = dict(g.out_degree())\n",
        "d = Counter(dict_in) + Counter(dict_out)\n",
        "in_out_degree = np.array(list(d.values()))"
      ],
      "metadata": {
        "id": "fM4R-gytdpFA"
      },
      "execution_count": null,
      "outputs": []
    },
    {
      "cell_type": "code",
      "source": [
        "in_out_degree_sort = sorted(in_out_degree)\n",
        "plt.figure(figsize=(10,6))\n",
        "plt.plot(in_out_degree_sort)\n",
        "plt.xlabel('Index No')\n",
        "plt.ylabel('No Of people each person is following + followers')\n",
        "plt.show()"
      ],
      "metadata": {
        "colab": {
          "base_uri": "https://localhost:8080/",
          "height": 388
        },
        "id": "BfyHImPudyCB",
        "outputId": "480da296-d6e4-4a6d-b016-402e23e1a3fd"
      },
      "execution_count": null,
      "outputs": [
        {
          "output_type": "display_data",
          "data": {
            "image/png": "[encoded data removed]",
            "text/plain": [
              "<Figure size 720x432 with 1 Axes>"
            ]
          },
          "metadata": {}
        }
      ]
    },
    {
      "cell_type": "code",
      "source": [
        "print('Min of no of followers + following is',in_out_degree.min())\n",
        "print(np.sum(in_out_degree==in_out_degree.min()),' persons having minimum no of followers + following')"
      ],
      "metadata": {
        "colab": {
          "base_uri": "https://localhost:8080/"
        },
        "id": "WhztdNvPd2kg",
        "outputId": "f946699a-5269-428e-88e6-3dcb36e0c2da"
      },
      "execution_count": null,
      "outputs": [
        {
          "output_type": "stream",
          "name": "stdout",
          "text": [
            "Min of no of followers + following is 1\n",
            "334291  persons having minimum no of followers + following\n"
          ]
        }
      ]
    },
    {
      "cell_type": "code",
      "source": [
        "print('Max of no of followers + following is',in_out_degree.max())\n",
        "print(np.sum(in_out_degree==in_out_degree.max()),' persons having maximum no of followers + following')"
      ],
      "metadata": {
        "colab": {
          "base_uri": "https://localhost:8080/"
        },
        "id": "Q6MM2l_5eA8Y",
        "outputId": "f4f097a6-542d-4e54-e807-4f15f7db5905"
      },
      "execution_count": null,
      "outputs": [
        {
          "output_type": "stream",
          "name": "stdout",
          "text": [
            "Max of no of followers + following is 1579\n",
            "1  persons having maximum no of followers + following\n"
          ]
        }
      ]
    },
    {
      "cell_type": "code",
      "source": [
        "print('No of persons having followers + following less than 10 are',np.sum(in_out_degree<10))"
      ],
      "metadata": {
        "colab": {
          "base_uri": "https://localhost:8080/"
        },
        "id": "kjV1IxTZeGPg",
        "outputId": "878239c9-3327-4bc4-e9c5-5547c5513ce2"
      },
      "execution_count": null,
      "outputs": [
        {
          "output_type": "stream",
          "name": "stdout",
          "text": [
            "No of persons having followers + following less than 10 are 1320326\n"
          ]
        }
      ]
    },
    {
      "cell_type": "markdown",
      "source": [
        "#3.3 Xem dự đoán liên kết trên đồ thị như là 1 vấn đề phân lớp nhị phân"
      ],
      "metadata": {
        "id": "mTf3T5bsefdH"
      }
    },
    {
      "cell_type": "markdown",
      "source": [
        "<b>Tạo 1 số cạnh không có trong đồ thị cho việc học giám sát</b>\n",
        "\n",
        "Ở bước này, tác giả tiến hành tạo ra các liên kết giả không có trong đồ thị với tổng liên kết bằng với tổng số lượng liên kết thật mà có đường dẫn ngắn nhất lớn hơn 2 bằng các tạo ra ngẫu nhiên 2 nút trong khoảng từ 1 đến 1.862.220 vì đồ thị ban đầu có tổng cộng 1.862.220 nút, sau đó với các liên kết thật ở đồ thị gốc sẽ được gán là 1 còn với các liên kết giả được tạo ra sẽ được gán là -1 và cuối cùng là dùng thư viện pickle để lưu để lưu lại các liên kết giả này. "
      ],
      "metadata": {
        "id": "2-8n4n_CekVk"
      }
    },
    {
      "cell_type": "code",
      "source": [
        "#from google.colab import drive\n",
        "\n",
        "#drive.mount('/content/drive')"
      ],
      "metadata": {
        "id": "VzeXHPrNO7sM"
      },
      "execution_count": null,
      "outputs": []
    },
    {
      "cell_type": "code",
      "source": [
        "#!unzip /content/drive/MyDrive/graph_mining_lab3.zip -d /content"
      ],
      "metadata": {
        "id": "JGNwsa-4PRy3"
      },
      "execution_count": null,
      "outputs": []
    },
    {
      "cell_type": "code",
      "source": [
        "#cd /content/content"
      ],
      "metadata": {
        "id": "-chRAn3UPljb"
      },
      "execution_count": null,
      "outputs": []
    },
    {
      "cell_type": "code",
      "source": [
        "import random\n",
        "import csv\n",
        "import pickle\n",
        "import os\n",
        "\n",
        "if not os.path.isfile('data/after_eda/missing_edges_final.p'):\n",
        "    r = csv.reader(open('data/after_eda/train_woheader.csv','r'))\n",
        "    edges = dict()\n",
        "    for edge in r:\n",
        "        edges[(edge[0], edge[1])] = 1 \n",
        "    missing_edges = set([])\n",
        "    while (len(missing_edges) < 9437519):\n",
        "        a=random.randint(1, 1862220)\n",
        "        b=random.randint(1, 1862220)\n",
        "        tmp = edges.get((a,b),-1)\n",
        "        if tmp == -1 and a!=b:\n",
        "            try:\n",
        "                if nx.shortest_path_length(g,source=a,target=b) > 2: \n",
        "                    missing_edges.add((a,b))\n",
        "                else:\n",
        "                    continue  \n",
        "            except:  \n",
        "                    missing_edges.add((a,b))              \n",
        "        else:\n",
        "            continue\n",
        "    pickle.dump(missing_edges,open('data/after_eda/missing_edges_final.p','wb'))\n",
        "else:\n",
        "    missing_edges = pickle.load(open('data/after_eda/missing_edges_final.p','rb'))"
      ],
      "metadata": {
        "id": "B4Us3F9uefDE"
      },
      "execution_count": null,
      "outputs": []
    },
    {
      "cell_type": "code",
      "source": [
        "len(missing_edges)"
      ],
      "metadata": {
        "colab": {
          "base_uri": "https://localhost:8080/"
        },
        "id": "Wzv0gf9egFgX",
        "outputId": "b31c3612-7571-4b6d-d4a6-8160d9809892"
      },
      "execution_count": null,
      "outputs": [
        {
          "output_type": "execute_result",
          "data": {
            "text/plain": [
              "9437519"
            ]
          },
          "metadata": {},
          "execution_count": 7
        }
      ]
    },
    {
      "cell_type": "markdown",
      "source": [
        "<b>Phân chia các phần train, test từ dữ liệu</b>"
      ],
      "metadata": {
        "id": "3ySYaK_Gd6oU"
      }
    },
    {
      "cell_type": "markdown",
      "source": [
        "Sau khi đã tạo được file pickle bao gồm danh sách các liên kết giả với số lượng liên kết bằng với số lượng các liên kết thật ban đầu, tác giả sử dụng 2 dataframe là df_pos để lưu danh sách các liên kết thật và df_neg để lưu danh sách các liên kết giả. Tiếp theo, với mỗi dataframe đã tạo, tác giả sử dụng hàm train_test_split() trong thư viện sklearn để tách tập dữ liệu ra với tỷ lệ train:test là 80:20 mà trong đó x_train_pos, x_test_pos, x_train_neg và x_test_neg là toàn bộ giá trị của 2 cột (nút nguồn và nút đích) trong dataframe ứng với các liên kết thật và các liên kết giả còn y_train_pos, y_test_pos, y_train_neg và t_test_neg sẽ là các giá trị đầu ra mô hình cần phải dự đoán mà được gán nhãn toán bộ là giá trị 1 nếu dataframe đó là dataframe của các liên kết thật và 0 ngược lại. Cuối cùng, với các giá trị train và test ở đầu vào sau khi đã tách ra cho cả dataframe chứa các liên kết thật và liên kết giả, tác giả tiến hành lưu vào 4 file csv khác nhau là train_pos_after_eda.csv, test_pos_after_eda.csv, train_neg_after_eda.csv và test_neg_after_eda.csv"
      ],
      "metadata": {
        "id": "XL5PW6mIQx-y"
      }
    },
    {
      "cell_type": "code",
      "source": [
        "from sklearn.model_selection import train_test_split\n",
        "import numpy as np\n",
        "import pandas as pd\n",
        "\n",
        "if (not os.path.isfile('data/after_eda/train_pos_after_eda.csv')) and (not os.path.isfile('data/after_eda/test_pos_after_eda.csv')):\n",
        "    #reading total data df\n",
        "    df_pos = pd.read_csv('data/train.csv')\n",
        "    df_neg = pd.DataFrame(list(missing_edges), columns=['source_node', 'destination_node'])\n",
        "    \n",
        "    print(\"Number of nodes in the graph with edges\", df_pos.shape[0])\n",
        "    print(\"Number of nodes in the graph without edges\", df_neg.shape[0])\n",
        "    \n",
        "    #Trian test split \n",
        "    #Spiltted data into 80-20 \n",
        "    #positive links and negative links seperatly because we need positive training data only for creating graph \n",
        "    #and for feature generation\n",
        "    X_train_pos, X_test_pos, y_train_pos, y_test_pos  = train_test_split(df_pos,np.ones(len(df_pos)),test_size=0.2, random_state=9)\n",
        "    X_train_neg, X_test_neg, y_train_neg, y_test_neg  = train_test_split(df_neg,np.zeros(len(df_neg)),test_size=0.2, random_state=9)\n",
        "    \n",
        "    print('='*60)\n",
        "    print(\"Number of nodes in the train data graph with edges\", X_train_pos.shape[0],\"=\",y_train_pos.shape[0])\n",
        "    print(\"Number of nodes in the train data graph without edges\", X_train_neg.shape[0],\"=\", y_train_neg.shape[0])\n",
        "    print('='*60)\n",
        "    print(\"Number of nodes in the test data graph with edges\", X_test_pos.shape[0],\"=\",y_test_pos.shape[0])\n",
        "    print(\"Number of nodes in the test data graph without edges\", X_test_neg.shape[0],\"=\",y_test_neg.shape[0])\n",
        "\n",
        "    #removing header and saving\n",
        "    X_train_pos.to_csv('data/after_eda/train_pos_after_eda.csv',header=False, index=False)\n",
        "    X_test_pos.to_csv('data/after_eda/test_pos_after_eda.csv',header=False, index=False)\n",
        "    X_train_neg.to_csv('data/after_eda/train_neg_after_eda.csv',header=False, index=False)\n",
        "    X_test_neg.to_csv('data/after_eda/test_neg_after_eda.csv',header=False, index=False)\n",
        "else:\n",
        "    #Graph from Traing data only \n",
        "    del missing_edges"
      ],
      "metadata": {
        "id": "AF9XGPVCPtu3",
        "colab": {
          "base_uri": "https://localhost:8080/"
        },
        "outputId": "2ed0e0dd-1368-422e-8c9c-3fea57b8e719"
      },
      "execution_count": null,
      "outputs": [
        {
          "output_type": "stream",
          "name": "stdout",
          "text": [
            "Number of nodes in the graph with edges 9437519\n",
            "Number of nodes in the graph without edges 9437519\n",
            "============================================================\n",
            "Number of nodes in the train data graph with edges 7550015 = 7550015\n",
            "Number of nodes in the train data graph without edges 7550015 = 7550015\n",
            "============================================================\n",
            "Number of nodes in the test data graph with edges 1887504 = 1887504\n",
            "Number of nodes in the test data graph without edges 1887504 = 1887504\n"
          ]
        }
      ]
    },
    {
      "cell_type": "markdown",
      "source": [
        "Ở bước này, tác giả dùng networkx và đọc 2 file train_pos_after_eda.csv và test_pos_after_eda.csv mà chứa các liên kết thật vào 2 đồ thị có hướng, sau đó lấy ra các nút không trùng nhau ở cả 2 đồ thị train và test và tiến hành 1 số khảo sát như in ra số lượng các nút xuất hiện đồng thời trong cả 2 đồ thị train và test, số lượng nút xuất hiện trong tập train nhưng không xuất hiện trong tập test, số lượng nút xuất hiện trọng tập test nhưng không xuất hiện trong tập train "
      ],
      "metadata": {
        "id": "ew3-VxHLWdvz"
      }
    },
    {
      "cell_type": "code",
      "source": [
        "import networkx as nx\n",
        "\n",
        "if (os.path.isfile('data/after_eda/train_pos_after_eda.csv')) and (os.path.isfile('data/after_eda/test_pos_after_eda.csv')):        \n",
        "    train_graph=nx.read_edgelist('data/after_eda/train_pos_after_eda.csv',delimiter=',',create_using=nx.DiGraph(),nodetype=int)\n",
        "    test_graph=nx.read_edgelist('data/after_eda/test_pos_after_eda.csv',delimiter=',',create_using=nx.DiGraph(),nodetype=int)\n",
        "    print(nx.info(train_graph))\n",
        "    print(nx.info(test_graph))\n",
        "\n",
        "    # finding the unique nodes in the both train and test graphs\n",
        "    train_nodes_pos = set(train_graph.nodes())\n",
        "    test_nodes_pos = set(test_graph.nodes())\n",
        "\n",
        "    trY_teY = len(train_nodes_pos.intersection(test_nodes_pos))\n",
        "    trY_teN = len(train_nodes_pos - test_nodes_pos)\n",
        "    teY_trN = len(test_nodes_pos - train_nodes_pos)\n",
        "\n",
        "    print('no of people common in train and test -- ',trY_teY)\n",
        "    print('no of people present in train but not present in test -- ',trY_teN)\n",
        "\n",
        "    print('no of people present in test but not present in train -- ',teY_trN)\n",
        "    print(' % of people not there in Train but exist in Test in total Test data are {} %'.format(teY_trN/len(test_nodes_pos)*100))"
      ],
      "metadata": {
        "colab": {
          "base_uri": "https://localhost:8080/"
        },
        "id": "PcB8u_oTVfPn",
        "outputId": "27306be8-2464-470c-c49e-4f54609ab630"
      },
      "execution_count": null,
      "outputs": [
        {
          "output_type": "stream",
          "name": "stdout",
          "text": [
            "DiGraph with 1780722 nodes and 7550015 edges\n",
            "DiGraph with 1144623 nodes and 1887504 edges\n",
            "no of people common in train and test --  1063125\n",
            "no of people present in train but not present in test --  717597\n",
            "no of people present in test but not present in train --  81498\n",
            " % of people not there in Train but exist in Test in total Test data are 7.1200735962845405 %\n"
          ]
        }
      ]
    },
    {
      "cell_type": "markdown",
      "source": [
        "Trong các hệ thống gợi ý sản phẩm thì có 1 vấn đề thường xảy ra đó là hệ thống đang dựa trên những dữ liệu từ hiện tại nên với những người dùng hiện tại nó xử lý tốt nhưng với những người mới vào hệ thống thì hệ thống có thể sẽ không hoạt động chính xác như chúng ta mong muốn mà vấn đề đó còn được gọi là cold start. Trong dự đoán liên kết thì vấn đề này cũng là một vấn đề phổ biến. Vì vậy sau khi đã đưa ra 1 số khảo sát ở trên, tác giả nhận thấy có vấn đề cold start xảy ra ở đây nên ở bước tiếp theo này, tác giả đầu tiên tiến hành đọc 2 tập dữ liệu train, test của các liên kết thật và 2 tập dữ liệu train, test của các liên kết giả, sau đó tác giả tiến hành tạo ra 4 file mới. Ở file train_after_eda.csv, nó chứa toàn bộ các liên kết từ cả 2 tập train của các liên kết giả và liên kết thật. Ở file train_y.csv, tác giả nối các kết quả đầu ra ở 2 file train chứa liên kết thật và liên kết giả lại với nhau. Một cách tương tự, file test_after_eda.csv chứa toàn bộ các liên kết từ cả 2 tập test của các liên kết thật và giả và ở file cuối cùng là test_y.csv, tác giả nối các kết quả đầu ra ở 2 file test chứa liên kết thật và liên kết giả lại với nhau"
      ],
      "metadata": {
        "id": "C6xL862TZ4Gn"
      }
    },
    {
      "cell_type": "code",
      "source": [
        "#final train and test data sets\n",
        "if (not os.path.isfile('data/after_eda/train_after_eda.csv')) and \\\n",
        "(not os.path.isfile('data/after_eda/test_after_eda.csv')) and \\\n",
        "(not os.path.isfile('data/train_y.csv')) and \\\n",
        "(not os.path.isfile('data/test_y.csv')) and \\\n",
        "(os.path.isfile('data/after_eda/train_pos_after_eda.csv')) and \\\n",
        "(os.path.isfile('data/after_eda/test_pos_after_eda.csv')) and \\\n",
        "(os.path.isfile('data/after_eda/train_neg_after_eda.csv')) and \\\n",
        "(os.path.isfile('data/after_eda/test_neg_after_eda.csv')):\n",
        "    \n",
        "    X_train_pos = pd.read_csv('data/after_eda/train_pos_after_eda.csv', names=['source_node', 'destination_node'])\n",
        "    X_test_pos = pd.read_csv('data/after_eda/test_pos_after_eda.csv', names=['source_node', 'destination_node'])\n",
        "    X_train_neg = pd.read_csv('data/after_eda/train_neg_after_eda.csv', names=['source_node', 'destination_node'])\n",
        "    X_test_neg = pd.read_csv('data/after_eda/test_neg_after_eda.csv', names=['source_node', 'destination_node'])\n",
        "\n",
        "    print('='*60)\n",
        "    print(\"Number of nodes in the train data graph with edges\", X_train_pos.shape[0])\n",
        "    print(\"Number of nodes in the train data graph without edges\", X_train_neg.shape[0])\n",
        "    print('='*60)\n",
        "    print(\"Number of nodes in the test data graph with edges\", X_test_pos.shape[0])\n",
        "    print(\"Number of nodes in the test data graph without edges\", X_test_neg.shape[0])\n",
        "\n",
        "    X_train = X_train_pos.append(X_train_neg,ignore_index=True)\n",
        "    y_train = np.concatenate((y_train_pos,y_train_neg))\n",
        "    X_test = X_test_pos.append(X_test_neg,ignore_index=True)\n",
        "    y_test = np.concatenate((y_test_pos,y_test_neg)) \n",
        "    \n",
        "    X_train.to_csv('data/after_eda/train_after_eda.csv',header=False,index=False)\n",
        "    X_test.to_csv('data/after_eda/test_after_eda.csv',header=False,index=False)\n",
        "    pd.DataFrame(y_train.astype(int)).to_csv('data/train_y.csv',header=False,index=False)\n",
        "    pd.DataFrame(y_test.astype(int)).to_csv('data/test_y.csv',header=False,index=False)"
      ],
      "metadata": {
        "colab": {
          "base_uri": "https://localhost:8080/"
        },
        "id": "G6dGYVsxXXAE",
        "outputId": "52f7cf2a-601e-45cd-937a-04ab5d35f82d"
      },
      "execution_count": null,
      "outputs": [
        {
          "output_type": "stream",
          "name": "stdout",
          "text": [
            "============================================================\n",
            "Number of nodes in the train data graph with edges 7550015\n",
            "Number of nodes in the train data graph without edges 7550015\n",
            "============================================================\n",
            "Number of nodes in the test data graph with edges 1887504\n",
            "Number of nodes in the test data graph without edges 1887504\n"
          ]
        }
      ]
    },
    {
      "cell_type": "code",
      "source": [
        "print(\"Data points in train data\",X_train.shape)\n",
        "print(\"Data points in test data\",X_test.shape)\n",
        "print(\"Shape of traget variable in train\",y_train.shape)\n",
        "print(\"Shape of traget variable in test\", y_test.shape)"
      ],
      "metadata": {
        "colab": {
          "base_uri": "https://localhost:8080/"
        },
        "id": "enezv-DWcjGL",
        "outputId": "59830e33-38a5-46ca-f5c2-081257dea68b"
      },
      "execution_count": null,
      "outputs": [
        {
          "output_type": "stream",
          "name": "stdout",
          "text": [
            "Data points in train data (15100030, 2)\n",
            "Data points in test data (3775008, 2)\n",
            "Shape of traget variable in train (15100030,)\n",
            "Shape of traget variable in test (3775008,)\n"
          ]
        }
      ]
    },
    {
      "cell_type": "markdown",
      "source": [
        "#3.4 Các độ đo tương đồng\n",
        "Ở bước này, tác giả tiền hành đọc file train_pos_after_eda.csv mà chứa các liên kết thật trong tập train bằng networkx và tiến hành sử dụng 1 số độ đo tương đồng như jaccard và cosine cho 2 nút X và Y mà chia làm 2 trường hợp là tập các người ở trong nút X và Y đang theo dõi và tập các người mà nút X và Y được theo dõi. Về công thức tính của 2 độ đo này thì đã được nêu ở trong phần 2 của notebook"
      ],
      "metadata": {
        "id": "RAFdchNfeJ_J"
      }
    },
    {
      "cell_type": "code",
      "source": [
        "if os.path.isfile('data/after_eda/train_pos_after_eda.csv'):\n",
        "    train_graph=nx.read_edgelist('data/after_eda/train_pos_after_eda.csv',delimiter=',',create_using=nx.DiGraph(),nodetype=int)\n",
        "    print(nx.info(train_graph))\n",
        "else:\n",
        "    print(\"please run the FB_EDA.ipynb or download the files from drive\")"
      ],
      "metadata": {
        "colab": {
          "base_uri": "https://localhost:8080/"
        },
        "id": "vGQr9BtneJts",
        "outputId": "250322af-102e-46c3-f41b-a7bc8102ba3a"
      },
      "execution_count": null,
      "outputs": [
        {
          "output_type": "stream",
          "name": "stdout",
          "text": [
            "DiGraph with 1780722 nodes and 7550015 edges\n"
          ]
        }
      ]
    },
    {
      "cell_type": "markdown",
      "source": [
        "<b>Jaccard index</b>"
      ],
      "metadata": {
        "id": "TheoGCjSZYnZ"
      }
    },
    {
      "cell_type": "code",
      "source": [
        "def jaccard_for_followees(a,b):\n",
        "    try:\n",
        "        if len(set(train_graph.successors(a))) == 0  | len(set(train_graph.successors(b))) == 0:\n",
        "            return 0\n",
        "        sim = (len(set(train_graph.successors(a)).intersection(set(train_graph.successors(b)))))/\\\n",
        "                                    (len(set(train_graph.successors(a)).union(set(train_graph.successors(b)))))\n",
        "    except:\n",
        "        return 0\n",
        "    return sim\n",
        "\n",
        "def jaccard_for_followers(a,b):\n",
        "    try:\n",
        "        if len(set(train_graph.predecessors(a))) == 0  | len(set(g.predecessors(b))) == 0:\n",
        "            return 0\n",
        "        sim = (len(set(train_graph.predecessors(a)).intersection(set(train_graph.predecessors(b)))))/\\\n",
        "                                 (len(set(train_graph.predecessors(a)).union(set(train_graph.predecessors(b)))))\n",
        "        return sim\n",
        "    except:\n",
        "        return 0\n",
        "\n",
        "print(jaccard_for_followees(273084,1505602))\n",
        "print(jaccard_for_followers(273084,1505602))"
      ],
      "metadata": {
        "colab": {
          "base_uri": "https://localhost:8080/"
        },
        "id": "-4KkShWEhDu4",
        "outputId": "c1cfaf9e-afcb-40f8-9a1b-28e079e25d92"
      },
      "execution_count": null,
      "outputs": [
        {
          "output_type": "stream",
          "name": "stdout",
          "text": [
            "0.0\n",
            "0\n"
          ]
        }
      ]
    },
    {
      "cell_type": "markdown",
      "source": [
        "<b>Cosine similarity</b>"
      ],
      "metadata": {
        "id": "FNhFmn51aEoW"
      }
    },
    {
      "cell_type": "code",
      "source": [
        "import math\n",
        "\n",
        "def cosine_for_followees(a,b):\n",
        "    try:\n",
        "        if len(set(train_graph.successors(a))) == 0  | len(set(train_graph.successors(b))) == 0:\n",
        "            return 0\n",
        "        sim = (len(set(train_graph.successors(a)).intersection(set(train_graph.successors(b)))))/\\\n",
        "                                    (math.sqrt(len(set(train_graph.successors(a)))*len((set(train_graph.successors(b))))))\n",
        "        return sim\n",
        "    except:\n",
        "        return 0\n",
        "\n",
        "def cosine_for_followers(a,b):\n",
        "    try:\n",
        "        if len(set(train_graph.predecessors(a))) == 0  | len(set(g.predecessors(b))) == 0:\n",
        "            return 0\n",
        "        sim = (len(set(train_graph.predecessors(a)).intersection(set(train_graph.predecessors(b)))))/\\\n",
        "                                 (len(set(train_graph.predecessors(a)).union(set(train_graph.predecessors(b)))))\n",
        "        return sim\n",
        "    except:\n",
        "        return 0\n",
        "\n",
        "print(cosine_for_followees(273084,1505602))\n",
        "print(cosine_for_followers(273084,1505602))"
      ],
      "metadata": {
        "colab": {
          "base_uri": "https://localhost:8080/"
        },
        "id": "ncTz3PWlvT7e",
        "outputId": "d0c89193-04cf-4a32-e75a-681223166f12"
      },
      "execution_count": null,
      "outputs": [
        {
          "output_type": "stream",
          "name": "stdout",
          "text": [
            "0.0\n",
            "0\n"
          ]
        }
      ]
    },
    {
      "cell_type": "markdown",
      "source": [
        "#3.5 Các độ đo xếp hạng\n",
        "\n",
        "Ở đây thì tác giả sử dụng độ đo xếp hạng page rank để tính ra giá trị min, max và mean cho đồ thị train_graph mà chúng ta đã đọc từ file chứa các liên kết thật trong file train ở trên"
      ],
      "metadata": {
        "id": "Nvz0Yy1WwG_y"
      }
    },
    {
      "cell_type": "code",
      "source": [
        "!mkdir /content/content/data/fea_sample"
      ],
      "metadata": {
        "id": "w0AR3OehaxEq"
      },
      "execution_count": null,
      "outputs": []
    },
    {
      "cell_type": "code",
      "source": [
        "import pickle\n",
        "\n",
        "if not os.path.isfile('data/fea_sample/page_rank.p'):\n",
        "    pr = nx.pagerank(train_graph, alpha=0.85)\n",
        "    pickle.dump(pr,open('data/fea_sample/page_rank.p','wb'))\n",
        "else:\n",
        "    pr = pickle.load(open('data/fea_sample/page_rank.p','rb'))\n",
        "\n",
        "print('min',pr[min(pr, key=pr.get)])\n",
        "print('max',pr[max(pr, key=pr.get)])\n",
        "print('mean',float(sum(pr.values())) / len(pr))\n",
        "\n",
        "#for imputing to nodes which are not there in Train data\n",
        "mean_pr = float(sum(pr.values())) / len(pr)\n",
        "print(mean_pr)"
      ],
      "metadata": {
        "colab": {
          "base_uri": "https://localhost:8080/"
        },
        "id": "J4sYIymHv43r",
        "outputId": "9f2d49d1-9cfd-4974-a95f-7e2669b278c2"
      },
      "execution_count": null,
      "outputs": [
        {
          "output_type": "stream",
          "name": "stdout",
          "text": [
            "min 1.6556497245737814e-07\n",
            "max 2.709825134193587e-05\n",
            "mean 5.615699699389075e-07\n",
            "5.615699699389075e-07\n"
          ]
        }
      ]
    },
    {
      "cell_type": "markdown",
      "source": [
        "#3.6 Một số đặc trưng khác"
      ],
      "metadata": {
        "id": "U5ZQhwZuyuYM"
      }
    },
    {
      "cell_type": "markdown",
      "source": [
        "<b>Đường dẫn ngắn nhất</b>\n",
        "\n",
        "Đặc trưng này là về đường dẫn ngắn nhất giữa 2 nút trong đồ thị mà đã loại bỏ đi các đường dẫn trực tiếp nếu có"
      ],
      "metadata": {
        "id": "e34WqmplzrG9"
      }
    },
    {
      "cell_type": "code",
      "source": [
        "#if has direct edge then deleting that edge and calculating shortest path\n",
        "def compute_shortest_path_length(a,b):\n",
        "    p=-1\n",
        "    try:\n",
        "        if train_graph.has_edge(a,b):\n",
        "            train_graph.remove_edge(a,b)\n",
        "            p= nx.shortest_path_length(train_graph,source=a,target=b)\n",
        "            train_graph.add_edge(a,b)\n",
        "        else:\n",
        "            p= nx.shortest_path_length(train_graph,source=a,target=b)\n",
        "        return p\n",
        "    except:\n",
        "        return -1\n",
        "\n",
        "compute_shortest_path_length(77697, 826021)"
      ],
      "metadata": {
        "colab": {
          "base_uri": "https://localhost:8080/"
        },
        "id": "MOmf0W0gyuPO",
        "outputId": "ee20c23a-36fa-4c4e-e4fe-537941b2b0f9"
      },
      "execution_count": null,
      "outputs": [
        {
          "output_type": "execute_result",
          "data": {
            "text/plain": [
              "10"
            ]
          },
          "metadata": {},
          "execution_count": 15
        }
      ]
    },
    {
      "cell_type": "markdown",
      "source": [
        "<b>Kiểm tra cùng cộng đồng</b>\n",
        "\n",
        "Đặc trưng này tác giả sẽ sử dụng hàm weakly_connected_components() có sẵn trong thư viện network để kiểm tra xem 2 nút có thuộc cùng cộng đồng hay không. Nếu có cạnh nối từ nút b đến a hoặc tồn tại cạnh nối từ nút a đến b sau khi đã loại bỏ cạnh nối trực tiếp thì xem như kết quả trả về 1 là 2 nút đó thuộc về cùng 1 cộng đồng cạnh kết nối và ngược lại là trả về 0 "
      ],
      "metadata": {
        "id": "6DCp3OvrztCM"
      }
    },
    {
      "cell_type": "code",
      "source": [
        "wcc=list(nx.weakly_connected_components(train_graph))\n",
        "def belongs_to_same_wcc(a,b):\n",
        "    index = []\n",
        "    if train_graph.has_edge(b,a):\n",
        "        return 1\n",
        "    if train_graph.has_edge(a,b):\n",
        "            for i in wcc:\n",
        "                if a in i:\n",
        "                    index= i\n",
        "                    break\n",
        "            if (b in index):\n",
        "                train_graph.remove_edge(a,b)\n",
        "                if compute_shortest_path_length(a,b)==-1:\n",
        "                    train_graph.add_edge(a,b)\n",
        "                    return 0\n",
        "                else:\n",
        "                    train_graph.add_edge(a,b)\n",
        "                    return 1\n",
        "            else:\n",
        "                return 0\n",
        "    else:\n",
        "            for i in wcc:\n",
        "                if a in i:\n",
        "                    index= i\n",
        "                    break\n",
        "            if(b in index):\n",
        "                return 1\n",
        "            else:\n",
        "                return 0\n",
        "\n",
        "belongs_to_same_wcc(861, 1659750)"
      ],
      "metadata": {
        "colab": {
          "base_uri": "https://localhost:8080/"
        },
        "id": "qz1nkacnzsqd",
        "outputId": "1a791acc-4cad-40e9-a277-e4c36e051441"
      },
      "execution_count": null,
      "outputs": [
        {
          "output_type": "execute_result",
          "data": {
            "text/plain": [
              "0"
            ]
          },
          "metadata": {},
          "execution_count": 39
        }
      ]
    },
    {
      "cell_type": "markdown",
      "source": [
        "<b>Adamic/Adar Index</b>\n",
        "\n",
        "Về đặc trưng chỉ số adamic/adar thì công thức của nó đã được chúng ta đề cập trong phần 2 của notebook"
      ],
      "metadata": {
        "id": "SnRyzDyM0AOw"
      }
    },
    {
      "cell_type": "code",
      "source": [
        "def calc_adar_in(a,b):\n",
        "    sum=0\n",
        "    try:\n",
        "        n=list(set(train_graph.successors(a)).intersection(set(train_graph.successors(b))))\n",
        "        if len(n)!=0:\n",
        "            for i in n:\n",
        "                sum=sum+(1/np.log10(len(list(train_graph.predecessors(i)))))\n",
        "            return sum\n",
        "        else:\n",
        "            return 0\n",
        "    except:\n",
        "        return 0\n",
        "\n",
        "calc_adar_in(1,189226)"
      ],
      "metadata": {
        "colab": {
          "base_uri": "https://localhost:8080/"
        },
        "id": "AMkMI00iz_8G",
        "outputId": "acb41913-eadd-4cbc-cea5-1a35c0f34a04"
      },
      "execution_count": null,
      "outputs": [
        {
          "output_type": "execute_result",
          "data": {
            "text/plain": [
              "0"
            ]
          },
          "metadata": {},
          "execution_count": 42
        }
      ]
    },
    {
      "cell_type": "markdown",
      "source": [
        "<b>Nút nguồn có được theo dõi lại bởi nút đích hay không</b>\n",
        "\n",
        "Đặc trưng này sẽ trả về kết quả là 1 nếu tồn tại cạnh nối từ nút b đến a và ngược lại kết quả là 0"
      ],
      "metadata": {
        "id": "1OnJp_IE0Ukj"
      }
    },
    {
      "cell_type": "code",
      "source": [
        "def follows_back(a,b):\n",
        "    if train_graph.has_edge(b,a):\n",
        "        return 1\n",
        "    else:\n",
        "        return 0\n",
        "\n",
        "follows_back(1,189226)"
      ],
      "metadata": {
        "colab": {
          "base_uri": "https://localhost:8080/"
        },
        "id": "GyivlawL0US3",
        "outputId": "1d59b968-e437-4d02-8dea-edd0042ce5d6"
      },
      "execution_count": null,
      "outputs": [
        {
          "output_type": "execute_result",
          "data": {
            "text/plain": [
              "1"
            ]
          },
          "metadata": {},
          "execution_count": 43
        }
      ]
    },
    {
      "cell_type": "markdown",
      "source": [
        "<b>Katz Centrality</b>\n",
        "\n",
        "Về đặc trưng độ trung tâm Katz cũng đã được chúng ta trình bày ở phần 2 notebook, ở đây tác giả cũng lấy ra các giá trị min, max và mean giống như thuật toán page rank ở trên"
      ],
      "metadata": {
        "id": "NlV_Izr50bJ1"
      }
    },
    {
      "cell_type": "code",
      "source": [
        "if not os.path.isfile('data/fea_sample/katz.p'):\n",
        "    katz = nx.katz.katz_centrality(train_graph,alpha=0.005,beta=1)\n",
        "    pickle.dump(katz,open('data/fea_sample/katz.p','wb'))\n",
        "else:\n",
        "    katz = pickle.load(open('data/fea_sample/katz.p','rb'))\n",
        "\n",
        "print('min',katz[min(katz, key=katz.get)])\n",
        "print('max',katz[max(katz, key=katz.get)])\n",
        "print('mean',float(sum(katz.values())) / len(katz))\n",
        "\n",
        "mean_katz = float(sum(katz.values())) / len(katz)\n",
        "print(mean_katz)"
      ],
      "metadata": {
        "colab": {
          "base_uri": "https://localhost:8080/"
        },
        "id": "T3xrWCCZ0a6q",
        "outputId": "82cd2958-2882-4d55-95a5-6e0a90aeb062"
      },
      "execution_count": null,
      "outputs": [
        {
          "output_type": "stream",
          "name": "stdout",
          "text": [
            "min 0.0007313532503674038\n",
            "max 0.003394554990800175\n",
            "mean 0.0007483800934937644\n",
            "0.0007483800934937644\n"
          ]
        }
      ]
    },
    {
      "cell_type": "markdown",
      "source": [
        "<b>Hits Score</b>\n",
        "\n",
        "Đặc trưng điểm hits cũng được chúng ta trình bày ở phần 2 notebook và tác giả cũng lấy ra các giá trị min, max và mean giống như thuật toán page rank và độ trung tâm Katz ở trên"
      ],
      "metadata": {
        "id": "g-pyL8gi0tLI"
      }
    },
    {
      "cell_type": "code",
      "source": [
        "if not os.path.isfile('data/fea_sample/hits.p'):\n",
        "    hits = nx.hits(train_graph, max_iter=100, tol=1e-08, nstart=None, normalized=True)\n",
        "    pickle.dump(hits,open('data/fea_sample/hits.p','wb'))\n",
        "else:\n",
        "    hits = pickle.load(open('data/fea_sample/hits.p','rb'))\n",
        "\n",
        "print('min',hits[0][min(hits[0], key=hits[0].get)])\n",
        "print('max',hits[0][max(hits[0], key=hits[0].get)])\n",
        "print('mean',float(sum(hits[0].values())) / len(hits[0]))"
      ],
      "metadata": {
        "colab": {
          "base_uri": "https://localhost:8080/"
        },
        "id": "g9Tv2KyF0s59",
        "outputId": "93d060a0-1e14-4845-e22f-9d718e3dba32"
      },
      "execution_count": null,
      "outputs": [
        {
          "output_type": "stream",
          "name": "stdout",
          "text": [
            "min -5.987760234286354e-21\n",
            "max 0.004868653379538979\n",
            "mean 5.615699699308676e-07\n"
          ]
        }
      ]
    },
    {
      "cell_type": "markdown",
      "source": [
        "#3.7 Thêm các độ đo tương đồng, độ đo xếp hạng và các đặc trưng vào dataframe"
      ],
      "metadata": {
        "id": "hk6xNorJ04Sr"
      }
    },
    {
      "cell_type": "markdown",
      "source": [
        "<b>Đọc 1 phần dữ liệu từ tập train và test</b>\n",
        "\n",
        "Ở bước này, do tác giả đã gộp các đầu vào và ra của các liên kết thật và giả lại với nhau nên các file được tạo ra có kích thước tương đối lớn mà có thể dẫn đến không đủ bộ nhớ cho việc đọc file, vì vậy tác giả xử lý bằng cách chỉ đọc ngẫu nhiên 1 lượng nhỏ các hàng trong 2 file train_after_eda.csv mà chứa các liên kết thật và các liên kết giả của phần train và test_after_eda.csv mà chứa các liên kết thật và các liên kết giả của phần test và bỏ qua 1 số lượng lớn các hàng còn lại"
      ],
      "metadata": {
        "id": "4t1QSDcTjz2N"
      }
    },
    {
      "cell_type": "code",
      "source": [
        "import random\n",
        "\n",
        "if os.path.isfile('data/after_eda/train_after_eda.csv'):\n",
        "    filename = \"data/after_eda/train_after_eda.csv\"\n",
        "    # you uncomment this line, if you dont know the lentgh of the file name\n",
        "    # here we have hardcoded the number of lines as 15100030\n",
        "    # n_train = sum(1 for line in open(filename)) #number of records in file (excludes header)\n",
        "    n_train =  15100028\n",
        "    s = 100000 #desired sample size\n",
        "    skip_train = sorted(random.sample(range(1,n_train+1),n_train-s))\n",
        "    #https://stackoverflow.com/a/22259008/4084039\n",
        "\n",
        "if os.path.isfile('data/after_eda/train_after_eda.csv'):\n",
        "    filename = \"data/after_eda/test_after_eda.csv\"\n",
        "    # you uncomment this line, if you dont know the lentgh of the file name\n",
        "    # here we have hardcoded the number of lines as 3775008\n",
        "    # n_test = sum(1 for line in open(filename)) #number of records in file (excludes header)\n",
        "    n_test = 3775006\n",
        "    s = 50000 #desired sample size\n",
        "    skip_test = sorted(random.sample(range(1,n_test+1),n_test-s))\n",
        "    #https://stackoverflow.com/a/22259008/4084039\n",
        "\n",
        "print(\"Number of rows in the train data file:\", n_train)\n",
        "print(\"Number of rows we are going to elimiate in train data are\",len(skip_train))\n",
        "print(\"Number of rows in the test data file:\", n_test)\n",
        "print(\"Number of rows we are going to elimiate in test data are\",len(skip_test))"
      ],
      "metadata": {
        "id": "ttJT-3uA05HD",
        "colab": {
          "base_uri": "https://localhost:8080/"
        },
        "outputId": "8102fd37-a7f2-4cf0-fed5-f49f3930c581"
      },
      "execution_count": null,
      "outputs": [
        {
          "output_type": "stream",
          "name": "stdout",
          "text": [
            "Number of rows in the train data file: 15100028\n",
            "Number of rows we are going to elimiate in train data are 15000028\n",
            "Number of rows in the test data file: 3775006\n",
            "Number of rows we are going to elimiate in test data are 3725006\n"
          ]
        }
      ]
    },
    {
      "cell_type": "markdown",
      "source": [
        "Tiếp theo, sau khi đã có được danh sách các hàng sẽ bỏ qua trong lúc đọc file, tác giả tiến hành đọc 2 file train_after_eda.csv và test_after_eda.csv vào 2 dataframe là df_final_train và df_final_test. Ngoài ra, tác giả cũng tạo thêm 1 cột indicator_link cho 2 dataframe này bằng cách đọc từ 2 file train_y.csv và test_y.csv mà hàng đó có giá trị 1 nếu là liên kết thật và 0 nếu là liên kết giả "
      ],
      "metadata": {
        "id": "cfE6q4GPmf2n"
      }
    },
    {
      "cell_type": "code",
      "source": [
        "import pandas as pd\n",
        "\n",
        "df_final_train = pd.read_csv('data/after_eda/train_after_eda.csv', skiprows=skip_train, names=['source_node', 'destination_node'])\n",
        "df_final_train['indicator_link'] = pd.read_csv('data/train_y.csv', skiprows=skip_train, names=['indicator_link'])\n",
        "print(\"Our train matrix size \",df_final_train.shape)\n",
        "df_final_train.head(2)\n",
        "\n",
        "df_final_test = pd.read_csv('data/after_eda/test_after_eda.csv', skiprows=skip_test, names=['source_node', 'destination_node'])\n",
        "df_final_test['indicator_link'] = pd.read_csv('data/test_y.csv', skiprows=skip_test, names=['indicator_link'])\n",
        "print(\"Our test matrix size \",df_final_test.shape)\n",
        "df_final_test.head(2)"
      ],
      "metadata": {
        "colab": {
          "base_uri": "https://localhost:8080/",
          "height": 147
        },
        "id": "ciWXniuilpGQ",
        "outputId": "a2932e50-986b-4e58-abad-bfdd4d01453d"
      },
      "execution_count": null,
      "outputs": [
        {
          "output_type": "stream",
          "name": "stdout",
          "text": [
            "Our train matrix size  (100002, 3)\n",
            "Our test matrix size  (50002, 3)\n"
          ]
        },
        {
          "output_type": "execute_result",
          "data": {
            "text/html": [
              "\n",
              "  <div id=\"df-e603ab35-8a90-4531-a7dc-7c0f660fcd7e\">\n",
              "    <div class=\"colab-df-container\">\n",
              "      <div>\n",
              "<style scoped>\n",
              "    .dataframe tbody tr th:only-of-type {\n",
              "        vertical-align: middle;\n",
              "    }\n",
              "\n",
              "    .dataframe tbody tr th {\n",
              "        vertical-align: top;\n",
              "    }\n",
              "\n",
              "    .dataframe thead th {\n",
              "        text-align: right;\n",
              "    }\n",
              "</style>\n",
              "<table border=\"1\" class=\"dataframe\">\n",
              "  <thead>\n",
              "    <tr style=\"text-align: right;\">\n",
              "      <th></th>\n",
              "      <th>source_node</th>\n",
              "      <th>destination_node</th>\n",
              "      <th>indicator_link</th>\n",
              "    </tr>\n",
              "  </thead>\n",
              "  <tbody>\n",
              "    <tr>\n",
              "      <th>0</th>\n",
              "      <td>848424</td>\n",
              "      <td>784690</td>\n",
              "      <td>1</td>\n",
              "    </tr>\n",
              "    <tr>\n",
              "      <th>1</th>\n",
              "      <td>1256533</td>\n",
              "      <td>820931</td>\n",
              "      <td>1</td>\n",
              "    </tr>\n",
              "  </tbody>\n",
              "</table>\n",
              "</div>\n",
              "      <button class=\"colab-df-convert\" onclick=\"convertToInteractive('df-e603ab35-8a90-4531-a7dc-7c0f660fcd7e')\"\n",
              "              title=\"Convert this dataframe to an interactive table.\"\n",
              "              style=\"display:none;\">\n",
              "        \n",
              "  <svg xmlns=\"http://www.w3.org/2000/svg\" height=\"24px\"viewBox=\"0 0 24 24\"\n",
              "       width=\"24px\">\n",
              "    <path d=\"M0 0h24v24H0V0z\" fill=\"none\"/>\n",
              "    <path d=\"M18.56 5.44l.94 2.06.94-2.06 2.06-.94-2.06-.94-.94-2.06-.94 2.06-2.06.94zm-11 1L8.5 8.5l.94-2.06 2.06-.94-2.06-.94L8.5 2.5l-.94 2.06-2.06.94zm10 10l.94 2.06.94-2.06 2.06-.94-2.06-.94-.94-2.06-.94 2.06-2.06.94z\"/><path d=\"M17.41 7.96l-1.37-1.37c-.4-.4-.92-.59-1.43-.59-.52 0-1.04.2-1.43.59L10.3 9.45l-7.72 7.72c-.78.78-.78 2.05 0 2.83L4 21.41c.39.39.9.59 1.41.59.51 0 1.02-.2 1.41-.59l7.78-7.78 2.81-2.81c.8-.78.8-2.07 0-2.86zM5.41 20L4 18.59l7.72-7.72 1.47 1.35L5.41 20z\"/>\n",
              "  </svg>\n",
              "      </button>\n",
              "      \n",
              "  <style>\n",
              "    .colab-df-container {\n",
              "      display:flex;\n",
              "      flex-wrap:wrap;\n",
              "      gap: 12px;\n",
              "    }\n",
              "\n",
              "    .colab-df-convert {\n",
              "      background-color: #E8F0FE;\n",
              "      border: none;\n",
              "      border-radius: 50%;\n",
              "      cursor: pointer;\n",
              "      display: none;\n",
              "      fill: #1967D2;\n",
              "      height: 32px;\n",
              "      padding: 0 0 0 0;\n",
              "      width: 32px;\n",
              "    }\n",
              "\n",
              "    .colab-df-convert:hover {\n",
              "      background-color: #E2EBFA;\n",
              "      box-shadow: 0px 1px 2px rgba(60, 64, 67, 0.3), 0px 1px 3px 1px rgba(60, 64, 67, 0.15);\n",
              "      fill: #174EA6;\n",
              "    }\n",
              "\n",
              "    [theme=dark] .colab-df-convert {\n",
              "      background-color: #3B4455;\n",
              "      fill: #D2E3FC;\n",
              "    }\n",
              "\n",
              "    [theme=dark] .colab-df-convert:hover {\n",
              "      background-color: #434B5C;\n",
              "      box-shadow: 0px 1px 3px 1px rgba(0, 0, 0, 0.15);\n",
              "      filter: drop-shadow(0px 1px 2px rgba(0, 0, 0, 0.3));\n",
              "      fill: #FFFFFF;\n",
              "    }\n",
              "  </style>\n",
              "\n",
              "      <script>\n",
              "        const buttonEl =\n",
              "          document.querySelector('#df-e603ab35-8a90-4531-a7dc-7c0f660fcd7e button.colab-df-convert');\n",
              "        buttonEl.style.display =\n",
              "          google.colab.kernel.accessAllowed ? 'block' : 'none';\n",
              "\n",
              "        async function convertToInteractive(key) {\n",
              "          const element = document.querySelector('#df-e603ab35-8a90-4531-a7dc-7c0f660fcd7e');\n",
              "          const dataTable =\n",
              "            await google.colab.kernel.invokeFunction('convertToInteractive',\n",
              "                                                     [key], {});\n",
              "          if (!dataTable) return;\n",
              "\n",
              "          const docLinkHtml = 'Like what you see? Visit the ' +\n",
              "            '<a target=\"_blank\" href=https://colab.research.google.com/notebooks/data_table.ipynb>data table notebook</a>'\n",
              "            + ' to learn more about interactive tables.';\n",
              "          element.innerHTML = '';\n",
              "          dataTable['output_type'] = 'display_data';\n",
              "          await google.colab.output.renderOutput(dataTable, element);\n",
              "          const docLink = document.createElement('div');\n",
              "          docLink.innerHTML = docLinkHtml;\n",
              "          element.appendChild(docLink);\n",
              "        }\n",
              "      </script>\n",
              "    </div>\n",
              "  </div>\n",
              "  "
            ],
            "text/plain": [
              "   source_node  destination_node  indicator_link\n",
              "0       848424            784690               1\n",
              "1      1256533            820931               1"
            ]
          },
          "metadata": {},
          "execution_count": 51
        }
      ]
    },
    {
      "cell_type": "markdown",
      "source": [
        "<b>Thêm các đặc trưng vào dataframe</b>"
      ],
      "metadata": {
        "id": "P7xKzAfanM1S"
      }
    },
    {
      "cell_type": "markdown",
      "source": [
        "Ở phần này, tác giả tiến hành thêm 10 đặc trưng dưới đây cho các điểm dữ liệu trong cả 2 dataframe df_final_train và df_final_test ở trên\n",
        "<ol>\n",
        "<li>jaccard_followers</li>\n",
        "<li>jaccard_followees</li>\n",
        "<li>cosine_followers</li>\n",
        "<li>cosine_followees</li>\n",
        "<li>num_followers_s</li>\n",
        "<li>num_followees_s</li>\n",
        "<li>num_followers_d</li>\n",
        "<li>num_followees_d</li>\n",
        "<li>inter_followers</li>\n",
        "<li>inter_followees</li>\n",
        "</ol>"
      ],
      "metadata": {
        "id": "RyjFTsSynSxu"
      }
    },
    {
      "cell_type": "code",
      "source": [
        "if not os.path.isfile('data/fea_sample/storage_sample_stage1.h5'):\n",
        "    #mapping jaccrd followers to train and test data\n",
        "    df_final_train['jaccard_followers'] = df_final_train.apply(lambda row:\n",
        "                                            jaccard_for_followers(row['source_node'],row['destination_node']),axis=1)\n",
        "    df_final_test['jaccard_followers'] = df_final_test.apply(lambda row:\n",
        "                                            jaccard_for_followers(row['source_node'],row['destination_node']),axis=1)\n",
        "    #mapping jaccrd followees to train and test data\n",
        "    df_final_train['jaccard_followees'] = df_final_train.apply(lambda row:\n",
        "                                            jaccard_for_followees(row['source_node'],row['destination_node']),axis=1)\n",
        "    df_final_test['jaccard_followees'] = df_final_test.apply(lambda row:\n",
        "                                            jaccard_for_followees(row['source_node'],row['destination_node']),axis=1)\n",
        "    #mapping cosine followers to train and test data\n",
        "    df_final_train['cosine_followers'] = df_final_train.apply(lambda row:\n",
        "                                            cosine_for_followers(row['source_node'],row['destination_node']),axis=1)\n",
        "    df_final_test['cosine_followers'] = df_final_test.apply(lambda row:\n",
        "                                            cosine_for_followers(row['source_node'],row['destination_node']),axis=1)\n",
        "    #mapping cosine followees to train and test data\n",
        "    df_final_train['cosine_followees'] = df_final_train.apply(lambda row:\n",
        "                                            cosine_for_followees(row['source_node'],row['destination_node']),axis=1)\n",
        "    df_final_test['cosine_followees'] = df_final_test.apply(lambda row:\n",
        "                                            cosine_for_followees(row['source_node'],row['destination_node']),axis=1)"
      ],
      "metadata": {
        "id": "kmMFxezWnL3W"
      },
      "execution_count": null,
      "outputs": []
    },
    {
      "cell_type": "markdown",
      "source": [
        "Về đặc trưng num_followers_s và num_followees_s thì nó là tổng số lượng người theo dõi và được theo dõi của nút nguồn còn inter_followers và inter_followees là phần giao của tổng số lượng người theo dõi của nút nguồn với nút đích và phần giao tổng số lượng người được theo dõi của nút nguồn với nút đích"
      ],
      "metadata": {
        "id": "qFpoweTcVR8f"
      }
    },
    {
      "cell_type": "code",
      "source": [
        "def compute_features_stage1(df_final):\n",
        "    #calculating no of followers followees for source and destination\n",
        "    #calculating intersection of followers and followees for source and destination\n",
        "    num_followers_s=[]\n",
        "    num_followees_s=[]\n",
        "    num_followers_d=[]\n",
        "    num_followees_d=[]\n",
        "    inter_followers=[]\n",
        "    inter_followees=[]\n",
        "    for i,row in df_final.iterrows():\n",
        "        try:\n",
        "            s1=set(train_graph.predecessors(row['source_node']))\n",
        "            s2=set(train_graph.successors(row['source_node']))\n",
        "        except:\n",
        "            s1 = set()\n",
        "            s2 = set()\n",
        "        try:\n",
        "            d1=set(train_graph.predecessors(row['destination_node']))\n",
        "            d2=set(train_graph.successors(row['destination_node']))\n",
        "        except:\n",
        "            d1 = set()\n",
        "            d2 = set()\n",
        "        num_followers_s.append(len(s1))\n",
        "        num_followees_s.append(len(s2))\n",
        "\n",
        "        num_followers_d.append(len(d1))\n",
        "        num_followees_d.append(len(d2))\n",
        "\n",
        "        inter_followers.append(len(s1.intersection(d1)))\n",
        "        inter_followees.append(len(s2.intersection(d2)))\n",
        "    \n",
        "    return num_followers_s, num_followers_d, num_followees_s, num_followees_d, inter_followers, inter_followees"
      ],
      "metadata": {
        "id": "R-9MXt-suzzh"
      },
      "execution_count": null,
      "outputs": []
    },
    {
      "cell_type": "markdown",
      "source": [
        "Sau khi đã thêm toàn bộ 10 đặc trưng trên vào 2 dataframe df_final_train và df_final_test, tác giả tiến hành lưu vào file storage_sample_stage1.h5 và đọc lại file .h5 vừa lưu này vào 2 dataframe df_final_train và df_final_test mới"
      ],
      "metadata": {
        "id": "Yw_nEIj4WDSZ"
      }
    },
    {
      "cell_type": "code",
      "source": [
        "from pandas import HDFStore\n",
        "from pandas import read_hdf\n",
        "\n",
        "if not os.path.isfile('data/fea_sample/storage_sample_stage1.h5'):\n",
        "    df_final_train['num_followers_s'], df_final_train['num_followers_d'], \\\n",
        "    df_final_train['num_followees_s'], df_final_train['num_followees_d'], \\\n",
        "    df_final_train['inter_followers'], df_final_train['inter_followees']= compute_features_stage1(df_final_train)\n",
        "    \n",
        "    df_final_test['num_followers_s'], df_final_test['num_followers_d'], \\\n",
        "    df_final_test['num_followees_s'], df_final_test['num_followees_d'], \\\n",
        "    df_final_test['inter_followers'], df_final_test['inter_followees']= compute_features_stage1(df_final_test)\n",
        "    \n",
        "    hdf = HDFStore('data/fea_sample/storage_sample_stage1.h5')\n",
        "    hdf.put('train_df',df_final_train, format='table', data_columns=True)\n",
        "    hdf.put('test_df',df_final_test, format='table', data_columns=True)\n",
        "    hdf.close()\n",
        "else:\n",
        "    df_final_train = read_hdf('data/fea_sample/storage_sample_stage1.h5', 'train_df',mode='r')\n",
        "    df_final_test = read_hdf('data/fea_sample/storage_sample_stage1.h5', 'test_df',mode='r')"
      ],
      "metadata": {
        "id": "i6-msCfqvR_f"
      },
      "execution_count": null,
      "outputs": []
    },
    {
      "cell_type": "markdown",
      "source": [
        "Ngoài các đặc trưng đã thêm ở trên, sẽ có 4 đặc trưng khác sẽ được tác giả thêm vào tiếp cho cả 2 dataframe df_final_train và df_final_test\n",
        "<ol>\n",
        "<li>adar index</li>\n",
        "<li>is following back</li>\n",
        "<li>belongs to same weakly connect components</li>\n",
        "<li>shortest path between source and destination</li>\n",
        "</ol>\n",
        "\n",
        "Sau khi đã thêm các đặc trưng này vào 2 dataframe trên, tác giả lưu lại vào storage_sample_stage2.h5 và tiến hành đọc file .h5 này lên và tiếp tục sử dụng 2 dataframe df_final_train và df_final_test trên file .h5 mới này"
      ],
      "metadata": {
        "id": "tdn2wBKSyuQ0"
      }
    },
    {
      "cell_type": "code",
      "source": [
        "if not os.path.isfile('data/fea_sample/storage_sample_stage2.h5'):\n",
        "    #mapping adar index on train\n",
        "    df_final_train['adar_index'] = df_final_train.apply(lambda row: calc_adar_in(row['source_node'],row['destination_node']),axis=1)\n",
        "    #mapping adar index on test\n",
        "    df_final_test['adar_index'] = df_final_test.apply(lambda row: calc_adar_in(row['source_node'],row['destination_node']),axis=1)\n",
        "\n",
        "    #--------------------------------------------------------------------------------------------------------\n",
        "    #mapping followback or not on train\n",
        "    df_final_train['follows_back'] = df_final_train.apply(lambda row: follows_back(row['source_node'],row['destination_node']),axis=1)\n",
        "\n",
        "    #mapping followback or not on test\n",
        "    df_final_test['follows_back'] = df_final_test.apply(lambda row: follows_back(row['source_node'],row['destination_node']),axis=1)\n",
        "\n",
        "    #--------------------------------------------------------------------------------------------------------\n",
        "    #mapping same component of wcc or not on train\n",
        "    df_final_train['same_comp'] = df_final_train.apply(lambda row: belongs_to_same_wcc(row['source_node'],row['destination_node']),axis=1)\n",
        "\n",
        "    ##mapping same component of wcc or not on train\n",
        "    df_final_test['same_comp'] = df_final_test.apply(lambda row: belongs_to_same_wcc(row['source_node'],row['destination_node']),axis=1)\n",
        "    \n",
        "    #--------------------------------------------------------------------------------------------------------\n",
        "    #mapping shortest path on train \n",
        "    df_final_train['shortest_path'] = df_final_train.apply(lambda row: compute_shortest_path_length(row['source_node'],row['destination_node']),axis=1)\n",
        "    #mapping shortest path on test\n",
        "    df_final_test['shortest_path'] = df_final_test.apply(lambda row: compute_shortest_path_length(row['source_node'],row['destination_node']),axis=1)\n",
        "\n",
        "    hdf = HDFStore('data/fea_sample/storage_sample_stage2.h5')\n",
        "    hdf.put('train_df',df_final_train, format='table', data_columns=True)\n",
        "    hdf.put('test_df',df_final_test, format='table', data_columns=True)\n",
        "    hdf.close()\n",
        "else:\n",
        "    df_final_train = read_hdf('data/fea_sample/storage_sample_stage2.h5', 'train_df',mode='r')\n",
        "    df_final_test = read_hdf('data/fea_sample/storage_sample_stage2.h5', 'test_df',mode='r')"
      ],
      "metadata": {
        "id": "kt3Y_iTswOMB"
      },
      "execution_count": null,
      "outputs": []
    },
    {
      "cell_type": "markdown",
      "source": [
        "Sau khi đã thêm tổng cộng 14 đặc trưng ở trên, chúng ta vẫn còn tiếp 9 đặc trưng nữa cần thêm như dưới đây\n",
        "<ol>\n",
        "<li>Weight Features\n",
        "    <ul>\n",
        "        <li>weight of incoming edges</li>\n",
        "        <li>weight of outgoing edges</li>\n",
        "        <li>weight of incoming edges + weight of outgoing edges</li>\n",
        "        <li>weight of incoming edges * weight of outgoing edges</li>\n",
        "        <li>2*weight of incoming edges + weight of outgoing edges</li>\n",
        "        <li>weight of incoming edges + 2*weight of outgoing edges</li>\n",
        "    </ul>\n",
        "</li>\n",
        "<li>Page Ranking of source</li>\n",
        "<li>Page Ranking of dest</li>\n",
        "<li>katz of source</li>\n",
        "<li>katz of dest</li>\n",
        "<li>hubs of source</li>\n",
        "<li>hubs of dest</li>\n",
        "<li>authorities_s of source</li>\n",
        "<li>authorities_s of dest</li>\n",
        "</ol>\n",
        "Về cánh tính đặc trưng trọng số cho các nút thì chúng ta cũng đã chỉ ra ở phần 2 của notebook"
      ],
      "metadata": {
        "id": "XUEsXXcd02hk"
      }
    },
    {
      "cell_type": "code",
      "source": [
        "from tqdm import tqdm\n",
        "import numpy as np\n",
        "\n",
        "#weight for source and destination of each link\n",
        "Weight_in = {}\n",
        "Weight_out = {}\n",
        "for i in tqdm(train_graph.nodes()):\n",
        "    s1=set(train_graph.predecessors(i))\n",
        "    w_in = 1.0/(np.sqrt(1+len(s1)))\n",
        "    Weight_in[i]=w_in\n",
        "    \n",
        "    s2=set(train_graph.successors(i))\n",
        "    w_out = 1.0/(np.sqrt(1+len(s2)))\n",
        "    Weight_out[i]=w_out\n",
        "    \n",
        "#for imputing with mean\n",
        "mean_weight_in = np.mean(list(Weight_in.values()))\n",
        "mean_weight_out = np.mean(list(Weight_out.values()))"
      ],
      "metadata": {
        "colab": {
          "base_uri": "https://localhost:8080/"
        },
        "id": "MrJ_6LWs02Ob",
        "outputId": "37b0ea8e-1305-4b7d-9c50-4363925b66f8"
      },
      "execution_count": null,
      "outputs": [
        {
          "output_type": "stream",
          "name": "stderr",
          "text": [
            "100%|██████████| 1780722/1780722 [00:22<00:00, 80641.24it/s] \n"
          ]
        }
      ]
    },
    {
      "cell_type": "code",
      "source": [
        "if not os.path.isfile('data/fea_sample/storage_sample_stage3.h5'):\n",
        "    #mapping to pandas train\n",
        "    df_final_train['weight_in'] = df_final_train.destination_node.apply(lambda x: Weight_in.get(x,mean_weight_in))\n",
        "    df_final_train['weight_out'] = df_final_train.source_node.apply(lambda x: Weight_out.get(x,mean_weight_out))\n",
        "\n",
        "    #mapping to pandas test\n",
        "    df_final_test['weight_in'] = df_final_test.destination_node.apply(lambda x: Weight_in.get(x,mean_weight_in))\n",
        "    df_final_test['weight_out'] = df_final_test.source_node.apply(lambda x: Weight_out.get(x,mean_weight_out))\n",
        "\n",
        "\n",
        "    #some features engineerings on the in and out weights\n",
        "    df_final_train['weight_f1'] = df_final_train.weight_in + df_final_train.weight_out\n",
        "    df_final_train['weight_f2'] = df_final_train.weight_in * df_final_train.weight_out\n",
        "    df_final_train['weight_f3'] = (2*df_final_train.weight_in + 1*df_final_train.weight_out)\n",
        "    df_final_train['weight_f4'] = (1*df_final_train.weight_in + 2*df_final_train.weight_out)\n",
        "\n",
        "    #some features engineerings on the in and out weights\n",
        "    df_final_test['weight_f1'] = df_final_test.weight_in + df_final_test.weight_out\n",
        "    df_final_test['weight_f2'] = df_final_test.weight_in * df_final_test.weight_out\n",
        "    df_final_test['weight_f3'] = (2*df_final_test.weight_in + 1*df_final_test.weight_out)\n",
        "    df_final_test['weight_f4'] = (1*df_final_test.weight_in + 2*df_final_test.weight_out)"
      ],
      "metadata": {
        "id": "vkyoiWF07dzV"
      },
      "execution_count": null,
      "outputs": []
    },
    {
      "cell_type": "code",
      "source": [
        "if not os.path.isfile('data/fea_sample/storage_sample_stage3.h5'):\n",
        "    #page rank for source and destination in Train and Test\n",
        "    #if anything not there in train graph then adding mean page rank \n",
        "    df_final_train['page_rank_s'] = df_final_train.source_node.apply(lambda x:pr.get(x,mean_pr))\n",
        "    df_final_train['page_rank_d'] = df_final_train.destination_node.apply(lambda x:pr.get(x,mean_pr))\n",
        "\n",
        "    df_final_test['page_rank_s'] = df_final_test.source_node.apply(lambda x:pr.get(x,mean_pr))\n",
        "    df_final_test['page_rank_d'] = df_final_test.destination_node.apply(lambda x:pr.get(x,mean_pr))\n",
        "    #================================================================================\n",
        "\n",
        "    #Katz centrality score for source and destination in Train and test\n",
        "    #if anything not there in train graph then adding mean katz score\n",
        "    df_final_train['katz_s'] = df_final_train.source_node.apply(lambda x: katz.get(x,mean_katz))\n",
        "    df_final_train['katz_d'] = df_final_train.destination_node.apply(lambda x: katz.get(x,mean_katz))\n",
        "\n",
        "    df_final_test['katz_s'] = df_final_test.source_node.apply(lambda x: katz.get(x,mean_katz))\n",
        "    df_final_test['katz_d'] = df_final_test.destination_node.apply(lambda x: katz.get(x,mean_katz))\n",
        "    #================================================================================\n",
        "\n",
        "    #Hits algorithm score for source and destination in Train and test\n",
        "    #if anything not there in train graph then adding 0\n",
        "    df_final_train['hubs_s'] = df_final_train.source_node.apply(lambda x: hits[0].get(x,0))\n",
        "    df_final_train['hubs_d'] = df_final_train.destination_node.apply(lambda x: hits[0].get(x,0))\n",
        "\n",
        "    df_final_test['hubs_s'] = df_final_test.source_node.apply(lambda x: hits[0].get(x,0))\n",
        "    df_final_test['hubs_d'] = df_final_test.destination_node.apply(lambda x: hits[0].get(x,0))\n",
        "    #================================================================================\n",
        "\n",
        "    #Hits algorithm score for source and destination in Train and Test\n",
        "    #if anything not there in train graph then adding 0\n",
        "    df_final_train['authorities_s'] = df_final_train.source_node.apply(lambda x: hits[1].get(x,0))\n",
        "    df_final_train['authorities_d'] = df_final_train.destination_node.apply(lambda x: hits[1].get(x,0))\n",
        "\n",
        "    df_final_test['authorities_s'] = df_final_test.source_node.apply(lambda x: hits[1].get(x,0))\n",
        "    df_final_test['authorities_d'] = df_final_test.destination_node.apply(lambda x: hits[1].get(x,0))\n",
        "    #================================================================================\n",
        "\n",
        "    hdf = HDFStore('data/fea_sample/storage_sample_stage3.h5')\n",
        "    hdf.put('train_df',df_final_train, format='table', data_columns=True)\n",
        "    hdf.put('test_df',df_final_test, format='table', data_columns=True)\n",
        "    hdf.close()\n",
        "else:\n",
        "    df_final_train = read_hdf('data/fea_sample/storage_sample_stage3.h5', 'train_df',mode='r')\n",
        "    df_final_test = read_hdf('data/fea_sample/storage_sample_stage3.h5', 'test_df',mode='r')"
      ],
      "metadata": {
        "id": "nSzeCJ-F75HL"
      },
      "execution_count": null,
      "outputs": []
    },
    {
      "cell_type": "markdown",
      "source": [
        "Đặc trưng cuối cùng mà tác giả sẽ thêm là các đặc trưng SVD trong sẵn trong thư viện scipy mà trong đó số lượng các giá trị singular và các vector singular vectors k cần phải tính là 6. Sau khi đã thêm các đặc trưng SVD vào dataframe, tác giả cũng lưu lại vào file storage_sample_stage4.h4 và tiến hành đọc file này lên và tiếp tục sử dụng 2 dataframe df_final_train và df_final_test trên file .h5 mới này"
      ],
      "metadata": {
        "id": "qSBmCMKN8bQW"
      }
    },
    {
      "cell_type": "code",
      "source": [
        "from scipy.sparse.linalg import svds, eigs\n",
        "\n",
        "def svd(x, S):\n",
        "    try:\n",
        "        z = sadj_dict[x]\n",
        "        return S[z]\n",
        "    except:\n",
        "        return [0,0,0,0,0,0]\n",
        "\n",
        "#for svd features to get feature vector creating a dict node val and inedx in svd vector\n",
        "sadj_col = sorted(train_graph.nodes())\n",
        "sadj_dict = { val:idx for idx,val in enumerate(sadj_col)}\n",
        "\n",
        "Adj = nx.adjacency_matrix(train_graph,nodelist=sorted(train_graph.nodes())).asfptype()\n",
        "\n",
        "U, s, V = svds(Adj, k = 6)\n",
        "print('Adjacency matrix Shape',Adj.shape)\n",
        "print('U Shape',U.shape)\n",
        "print('V Shape',V.shape)\n",
        "print('s Shape',s.shape)"
      ],
      "metadata": {
        "colab": {
          "base_uri": "https://localhost:8080/"
        },
        "id": "VMyvqMEN8Sl3",
        "outputId": "73fcc0a5-8d20-4080-b089-2ad53b2cfea4"
      },
      "execution_count": null,
      "outputs": [
        {
          "output_type": "stream",
          "name": "stdout",
          "text": [
            "Adjacency matrix Shape (1780722, 1780722)\n",
            "U Shape (1780722, 6)\n",
            "V Shape (6, 1780722)\n",
            "s Shape (6,)\n"
          ]
        }
      ]
    },
    {
      "cell_type": "code",
      "source": [
        "if not os.path.isfile('data/fea_sample/storage_sample_stage4.h5'):\n",
        "    #===================================================================================================\n",
        "    df_final_train[['svd_u_s_1', 'svd_u_s_2','svd_u_s_3', 'svd_u_s_4', 'svd_u_s_5', 'svd_u_s_6']] = \\\n",
        "    df_final_train.source_node.apply(lambda x: svd(x, U)).apply(pd.Series)\n",
        "    \n",
        "    df_final_train[['svd_u_d_1', 'svd_u_d_2', 'svd_u_d_3', 'svd_u_d_4', 'svd_u_d_5','svd_u_d_6']] = \\\n",
        "    df_final_train.destination_node.apply(lambda x: svd(x, U)).apply(pd.Series)\n",
        "    #===================================================================================================\n",
        "    \n",
        "    df_final_train[['svd_v_s_1','svd_v_s_2', 'svd_v_s_3', 'svd_v_s_4', 'svd_v_s_5', 'svd_v_s_6',]] = \\\n",
        "    df_final_train.source_node.apply(lambda x: svd(x, V.T)).apply(pd.Series)\n",
        "\n",
        "    df_final_train[['svd_v_d_1', 'svd_v_d_2', 'svd_v_d_3', 'svd_v_d_4', 'svd_v_d_5','svd_v_d_6']] = \\\n",
        "    df_final_train.destination_node.apply(lambda x: svd(x, V.T)).apply(pd.Series)\n",
        "    #===================================================================================================\n",
        "    \n",
        "    df_final_test[['svd_u_s_1', 'svd_u_s_2','svd_u_s_3', 'svd_u_s_4', 'svd_u_s_5', 'svd_u_s_6']] = \\\n",
        "    df_final_test.source_node.apply(lambda x: svd(x, U)).apply(pd.Series)\n",
        "    \n",
        "    df_final_test[['svd_u_d_1', 'svd_u_d_2', 'svd_u_d_3', 'svd_u_d_4', 'svd_u_d_5','svd_u_d_6']] = \\\n",
        "    df_final_test.destination_node.apply(lambda x: svd(x, U)).apply(pd.Series)\n",
        "\n",
        "    #===================================================================================================\n",
        "    \n",
        "    df_final_test[['svd_v_s_1','svd_v_s_2', 'svd_v_s_3', 'svd_v_s_4', 'svd_v_s_5', 'svd_v_s_6',]] = \\\n",
        "    df_final_test.source_node.apply(lambda x: svd(x, V.T)).apply(pd.Series)\n",
        "\n",
        "    df_final_test[['svd_v_d_1', 'svd_v_d_2', 'svd_v_d_3', 'svd_v_d_4', 'svd_v_d_5','svd_v_d_6']] = \\\n",
        "    df_final_test.destination_node.apply(lambda x: svd(x, V.T)).apply(pd.Series)\n",
        "    #===================================================================================================\n",
        "\n",
        "    hdf = HDFStore('data/fea_sample/storage_sample_stage4.h5')\n",
        "    hdf.put('train_df',df_final_train, format='table', data_columns=True)\n",
        "    hdf.put('test_df',df_final_test, format='table', data_columns=True)\n",
        "    hdf.close()"
      ],
      "metadata": {
        "id": "-i1Ifz869Efy"
      },
      "execution_count": null,
      "outputs": []
    },
    {
      "cell_type": "markdown",
      "source": [
        "#3.8 Dự đoán liên kết với mô hình Random Forest\n",
        "Ở phần này tác giả chọn đầu ra cần dự đoán của mô hình là cột indicator_link mà có nhãn là 1 nếu là liên kết thật và 0 nếu là liên kết giả và loại bỏ các cột nút nguồn, nút đích và indicator_link trong 2 dataframe df_final_train, df_final_test và sử dụng các đặc trưng còn lại đã được thêm vào trước đó cho việc học của mô hình"
      ],
      "metadata": {
        "id": "0AFbNtBDBTno"
      }
    },
    {
      "cell_type": "code",
      "source": [
        "from pandas import read_hdf\n",
        "\n",
        "df_final_train = read_hdf('/content/content/data/fea_sample/storage_sample_stage4.h5', 'train_df',mode='r')\n",
        "df_final_test = read_hdf('/content/content/data/fea_sample/storage_sample_stage4.h5', 'test_df',mode='r')"
      ],
      "metadata": {
        "id": "xgOS6_Db_EjY"
      },
      "execution_count": null,
      "outputs": []
    },
    {
      "cell_type": "code",
      "source": [
        "y_train = df_final_train.indicator_link\n",
        "y_test = df_final_test.indicator_link"
      ],
      "metadata": {
        "id": "ctsZYoCZB2wa"
      },
      "execution_count": null,
      "outputs": []
    },
    {
      "cell_type": "code",
      "source": [
        "df_final_train.drop(['source_node', 'destination_node','indicator_link'],axis=1,inplace=True)\n",
        "df_final_test.drop(['source_node', 'destination_node','indicator_link'],axis=1,inplace=True)"
      ],
      "metadata": {
        "id": "mbqsgoPtB_7I"
      },
      "execution_count": null,
      "outputs": []
    },
    {
      "cell_type": "markdown",
      "source": [
        "Do có 1 vài siêu tham số trong mô hình Random Forest của thư viện sklearn ở phiên bản mới nhất đã bị loại bỏ nên nếu muốn chạy cùng các siêu tham số như tác giả chúng ta cần sử dụng sklearn ở phiên bản 0.23.2"
      ],
      "metadata": {
        "id": "c0pq8jKPaoB7"
      }
    },
    {
      "cell_type": "code",
      "source": [
        "!pip install scikit-learn==0.23.2"
      ],
      "metadata": {
        "id": "6PSy895UCl44"
      },
      "execution_count": null,
      "outputs": []
    },
    {
      "cell_type": "markdown",
      "source": [
        "Tác giả thực hiện việc huấn luyện mô hình theo 2 siêu tham số cần dò là theo estimators và theo depths thì nhìn chung nếu chạy mô hình dò siêu tham số theo depths sẽ có kết quả độ đo F score trên cả tập train và test tốt hơn"
      ],
      "metadata": {
        "id": "tYwdAnjda9E1"
      }
    },
    {
      "cell_type": "code",
      "source": [
        "from sklearn.ensemble import RandomForestClassifier\n",
        "from sklearn.metrics import f1_score\n",
        "import matplotlib.pyplot as plt\n",
        "\n",
        "estimators = [10,50,100,250,450]\n",
        "train_scores = []\n",
        "test_scores = []\n",
        "for i in estimators:\n",
        "    clf = RandomForestClassifier(bootstrap=True, class_weight=None, criterion='gini',\n",
        "            max_depth=5, max_features='auto', max_leaf_nodes=None,\n",
        "            min_impurity_decrease=0.0, min_impurity_split=None,\n",
        "            min_samples_leaf=52, min_samples_split=120,\n",
        "            min_weight_fraction_leaf=0.0, n_estimators=i, n_jobs=-1,random_state=25,verbose=0,warm_start=False)\n",
        "    clf.fit(df_final_train,y_train)\n",
        "    train_sc = f1_score(y_train,clf.predict(df_final_train))\n",
        "    test_sc = f1_score(y_test,clf.predict(df_final_test))\n",
        "    test_scores.append(test_sc)\n",
        "    train_scores.append(train_sc)\n",
        "    print('Estimators = ',i,'Train Score',train_sc,'test Score',test_sc)\n",
        "plt.plot(estimators,train_scores,label='Train Score')\n",
        "plt.plot(estimators,test_scores,label='Test Score')\n",
        "plt.xlabel('Estimators')\n",
        "plt.ylabel('Score')\n",
        "plt.title('Estimators vs score at depth of 5')"
      ],
      "metadata": {
        "colab": {
          "base_uri": "https://localhost:8080/",
          "height": 399
        },
        "id": "FyNsNVxWCEv_",
        "outputId": "42a1f999-cfb3-4013-9627-f07c7747cedf"
      },
      "execution_count": null,
      "outputs": [
        {
          "output_type": "stream",
          "name": "stdout",
          "text": [
            "Estimators =  10 Train Score 0.9214118038099591 test Score 0.914811940173271\n",
            "Estimators =  50 Train Score 0.9253917972657553 test Score 0.9200791212491056\n",
            "Estimators =  100 Train Score 0.9247973628482907 test Score 0.9185166445301794\n",
            "Estimators =  250 Train Score 0.9236037879657956 test Score 0.9160750507099391\n",
            "Estimators =  450 Train Score 0.9245633826355812 test Score 0.9176614760506244\n"
          ]
        },
        {
          "output_type": "execute_result",
          "data": {
            "text/plain": [
              "Text(0.5, 1.0, 'Estimators vs score at depth of 5')"
            ]
          },
          "metadata": {},
          "execution_count": 7
        },
        {
          "output_type": "display_data",
          "data": {
            "image/png": "[encoded data removed]",
            "text/plain": [
              "<Figure size 432x288 with 1 Axes>"
            ]
          },
          "metadata": {
            "needs_background": "light"
          }
        }
      ]
    },
    {
      "cell_type": "code",
      "source": [
        "depths = [3,9,11,15,20,35,50,70,130]\n",
        "train_scores = []\n",
        "test_scores = []\n",
        "for i in depths:\n",
        "    clf = RandomForestClassifier(bootstrap=True, class_weight=None, criterion='gini',\n",
        "            max_depth=i, max_features='auto', max_leaf_nodes=None,\n",
        "            min_impurity_decrease=0.0, min_impurity_split=None,\n",
        "            min_samples_leaf=52, min_samples_split=120,\n",
        "            min_weight_fraction_leaf=0.0, n_estimators=115, n_jobs=-1,random_state=25,verbose=0,warm_start=False)\n",
        "    clf.fit(df_final_train,y_train)\n",
        "    train_sc = f1_score(y_train,clf.predict(df_final_train))\n",
        "    test_sc = f1_score(y_test,clf.predict(df_final_test))\n",
        "    test_scores.append(test_sc)\n",
        "    train_scores.append(train_sc)\n",
        "    print('depth = ',i,'Train Score',train_sc,'test Score',test_sc)\n",
        "plt.plot(depths,train_scores,label='Train Score')\n",
        "plt.plot(depths,test_scores,label='Test Score')\n",
        "plt.xlabel('Depth')\n",
        "plt.ylabel('Score')\n",
        "plt.title('Depth vs score at depth of 5 at estimators = 115')\n",
        "plt.show()"
      ],
      "metadata": {
        "colab": {
          "base_uri": "https://localhost:8080/",
          "height": 451
        },
        "id": "joZXzb34E6Ek",
        "outputId": "7fac2eb1-4e9e-47cf-ea14-38c25ee7b843"
      },
      "execution_count": null,
      "outputs": [
        {
          "output_type": "stream",
          "name": "stdout",
          "text": [
            "depth =  3 Train Score 0.8850644459323735 test Score 0.8524710876250704\n",
            "depth =  9 Train Score 0.9588856985765777 test Score 0.9237148297017136\n",
            "depth =  11 Train Score 0.9620068044482811 test Score 0.9254172829072471\n",
            "depth =  15 Train Score 0.9648673023722424 test Score 0.9199864095812452\n",
            "depth =  20 Train Score 0.9656052245228574 test Score 0.9271338762077549\n",
            "depth =  35 Train Score 0.9655444742570749 test Score 0.9270670662220909\n",
            "depth =  50 Train Score 0.9655444742570749 test Score 0.9270670662220909\n",
            "depth =  70 Train Score 0.9655444742570749 test Score 0.9270670662220909\n",
            "depth =  130 Train Score 0.9655444742570749 test Score 0.9270670662220909\n"
          ]
        },
        {
          "output_type": "display_data",
          "data": {
            "image/png": "[encoded data removed]",
            "text/plain": [
              "<Figure size 432x288 with 1 Axes>"
            ]
          },
          "metadata": {
            "needs_background": "light"
          }
        }
      ]
    },
    {
      "cell_type": "markdown",
      "source": [
        "Ở bước này thì tác giả sử dụng hàm RandomizedSearchCV() trong thư viện sklearn để tìm ra các bộ siêu tham số tốt nhất thì kết quả cuối cùng theo độ đo F score cho cả tập train và test nhìn chung không thay đổi so với kết quả chạy ở trên"
      ],
      "metadata": {
        "id": "DGXkULcCbU_Q"
      }
    },
    {
      "cell_type": "code",
      "source": [
        "from sklearn.model_selection import RandomizedSearchCV\n",
        "from scipy.stats import randint as sp_randint\n",
        "\n",
        "param_dist = {\"n_estimators\":sp_randint(105,125),\n",
        "              \"max_depth\": sp_randint(10,15),\n",
        "              \"min_samples_split\": sp_randint(110,190),\n",
        "              \"min_samples_leaf\": sp_randint(25,65)}\n",
        "\n",
        "clf = RandomForestClassifier(random_state=25,n_jobs=-1)\n",
        "\n",
        "rf_random = RandomizedSearchCV(clf, param_distributions=param_dist,\n",
        "                                   n_iter=5,cv=10,scoring='f1',random_state=25, return_train_score=True)\n",
        "\n",
        "rf_random.fit(df_final_train,y_train)\n",
        "print('mean test scores',rf_random.cv_results_['mean_test_score'])\n",
        "print('mean train scores',rf_random.cv_results_['mean_train_score'])"
      ],
      "metadata": {
        "colab": {
          "base_uri": "https://localhost:8080/"
        },
        "id": "IJxKo9wAHM8i",
        "outputId": "09fafa90-0ec8-4cec-a0c7-06524feff073"
      },
      "execution_count": null,
      "outputs": [
        {
          "output_type": "stream",
          "name": "stdout",
          "text": [
            "mean test scores [0.96336808 0.96318359 0.96107172 0.96287358 0.96486406]\n",
            "mean train scores [0.96390706 0.96357596 0.96161725 0.96348722 0.965691  ]\n"
          ]
        }
      ]
    },
    {
      "cell_type": "code",
      "source": [
        "print(rf_random.best_estimator_)"
      ],
      "metadata": {
        "colab": {
          "base_uri": "https://localhost:8080/"
        },
        "id": "nYM0mZfMRoFd",
        "outputId": "58edd70f-23ba-4e9b-9da8-1f4a0f8c8250"
      },
      "execution_count": null,
      "outputs": [
        {
          "output_type": "stream",
          "name": "stdout",
          "text": [
            "RandomForestClassifier(max_depth=14, min_samples_leaf=28, min_samples_split=111,\n",
            "                       n_estimators=121, n_jobs=-1, random_state=25)\n"
          ]
        }
      ]
    },
    {
      "cell_type": "code",
      "source": [
        "clf = RandomForestClassifier(bootstrap=True, class_weight=None, criterion='gini',\n",
        "            max_depth=14, max_features='auto', max_leaf_nodes=None,\n",
        "            min_impurity_decrease=0.0, min_impurity_split=None,\n",
        "            min_samples_leaf=28, min_samples_split=111,\n",
        "            min_weight_fraction_leaf=0.0, n_estimators=121, n_jobs=-1,\n",
        "            oob_score=False, random_state=25, verbose=0, warm_start=False)\n",
        "clf.fit(df_final_train,y_train)\n",
        "y_train_pred = clf.predict(df_final_train)\n",
        "y_test_pred = clf.predict(df_final_test)\n",
        "print('Train f1 score',f1_score(y_train,y_train_pred))\n",
        "print('Test f1 score',f1_score(y_test,y_test_pred))"
      ],
      "metadata": {
        "colab": {
          "base_uri": "https://localhost:8080/"
        },
        "id": "ln7cDr1kRsHi",
        "outputId": "7419ee07-6c87-48cd-f195-df1a861f724d"
      },
      "execution_count": null,
      "outputs": [
        {
          "output_type": "stream",
          "name": "stdout",
          "text": [
            "Train f1 score 0.966052101367838\n",
            "Test f1 score 0.9267499788904838\n"
          ]
        }
      ]
    },
    {
      "cell_type": "markdown",
      "source": [
        "Bước này tác giả tiến hành trực quan hóa ra các ma trận confusion, Recall và Precision của mô hình trên"
      ],
      "metadata": {
        "id": "5tI0WPU3bn7Y"
      }
    },
    {
      "cell_type": "code",
      "source": [
        "from sklearn.metrics import confusion_matrix\n",
        "import seaborn as sns\n",
        "\n",
        "def plot_confusion_matrix(test_y, predict_y):\n",
        "    C = confusion_matrix(test_y, predict_y)\n",
        "    \n",
        "    A =(((C.T)/(C.sum(axis=1))).T)\n",
        "    \n",
        "    B =(C/C.sum(axis=0))\n",
        "    plt.figure(figsize=(20,4))\n",
        "    \n",
        "    labels = [0,1]\n",
        "    # representing A in heatmap format\n",
        "    cmap=sns.light_palette(\"blue\")\n",
        "    plt.subplot(1, 3, 1)\n",
        "    sns.heatmap(C, annot=True, cmap=cmap, fmt=\".3f\", xticklabels=labels, yticklabels=labels)\n",
        "    plt.xlabel('Predicted Class')\n",
        "    plt.ylabel('Original Class')\n",
        "    plt.title(\"Confusion matrix\")\n",
        "    \n",
        "    plt.subplot(1, 3, 2)\n",
        "    sns.heatmap(B, annot=True, cmap=cmap, fmt=\".3f\", xticklabels=labels, yticklabels=labels)\n",
        "    plt.xlabel('Predicted Class')\n",
        "    plt.ylabel('Original Class')\n",
        "    plt.title(\"Precision matrix\")\n",
        "    \n",
        "    plt.subplot(1, 3, 3)\n",
        "    # representing B in heatmap format\n",
        "    sns.heatmap(A, annot=True, cmap=cmap, fmt=\".3f\", xticklabels=labels, yticklabels=labels)\n",
        "    plt.xlabel('Predicted Class')\n",
        "    plt.ylabel('Original Class')\n",
        "    plt.title(\"Recall matrix\")\n",
        "    \n",
        "    plt.show()"
      ],
      "metadata": {
        "id": "mZtkOy6KSKVp"
      },
      "execution_count": null,
      "outputs": []
    },
    {
      "cell_type": "code",
      "source": [
        "print('Train confusion_matrix')\n",
        "plot_confusion_matrix(y_train,y_train_pred)\n",
        "print('Test confusion_matrix')\n",
        "plot_confusion_matrix(y_test,y_test_pred)"
      ],
      "metadata": {
        "colab": {
          "base_uri": "https://localhost:8080/",
          "height": 608
        },
        "id": "OKX4qzXVSPsV",
        "outputId": "301cf629-47cc-4ee7-8fa9-e140ae53759e"
      },
      "execution_count": null,
      "outputs": [
        {
          "output_type": "stream",
          "name": "stdout",
          "text": [
            "Train confusion_matrix\n"
          ]
        },
        {
          "output_type": "display_data",
          "data": {
            "image/png": "[encoded data removed]",
            "text/plain": [
              "<Figure size 1440x288 with 6 Axes>"
            ]
          },
          "metadata": {
            "needs_background": "light"
          }
        },
        {
          "output_type": "stream",
          "name": "stdout",
          "text": [
            "Test confusion_matrix\n"
          ]
        },
        {
          "output_type": "display_data",
          "data": {
            "image/png": "[encoded data removed]",
            "text/plain": [
              "<Figure size 1440x288 with 6 Axes>"
            ]
          },
          "metadata": {
            "needs_background": "light"
          }
        }
      ]
    },
    {
      "cell_type": "markdown",
      "source": [
        "Để đánh giá hiệu suất của mô hình, bên cạnh confusion matrix tác giả cũng sử dụng 1 phương pháp phổ biến khác là AUC-ROC"
      ],
      "metadata": {
        "id": "iqV1JEaXb1aF"
      }
    },
    {
      "cell_type": "code",
      "source": [
        "from sklearn.metrics import roc_curve, auc\n",
        "\n",
        "fpr,tpr,ths = roc_curve(y_test,y_test_pred)\n",
        "auc_sc = auc(fpr, tpr)\n",
        "plt.plot(fpr, tpr, color='navy',label='ROC curve (area = %0.2f)' % auc_sc)\n",
        "plt.xlabel('False Positive Rate')\n",
        "plt.ylabel('True Positive Rate')\n",
        "plt.title('Receiver operating characteristic with test data')\n",
        "plt.legend()\n",
        "plt.show()"
      ],
      "metadata": {
        "colab": {
          "base_uri": "https://localhost:8080/",
          "height": 295
        },
        "id": "yilu0hKfScdE",
        "outputId": "73ef5945-c1d9-4f90-b442-25d7dec6a880"
      },
      "execution_count": null,
      "outputs": [
        {
          "output_type": "display_data",
          "data": {
            "image/png": "[encoded data removed]",
            "text/plain": [
              "<Figure size 432x288 with 1 Axes>"
            ]
          },
          "metadata": {
            "needs_background": "light"
          }
        }
      ]
    },
    {
      "cell_type": "markdown",
      "source": [
        "Dưới đây là phần trực quan xếp hạng các đặc trưng quan trọng nhất mà mô hình đã sử dụng cho việc học để dự đoán"
      ],
      "metadata": {
        "id": "OOHddZoQb-m7"
      }
    },
    {
      "cell_type": "code",
      "source": [
        "import numpy as np\n",
        "\n",
        "features = df_final_train.columns\n",
        "importances = clf.feature_importances_\n",
        "indices = (np.argsort(importances))[-25:]\n",
        "plt.figure(figsize=(10,12))\n",
        "plt.title('Feature Importances')\n",
        "plt.barh(range(len(indices)), importances[indices], color='r', align='center')\n",
        "plt.yticks(range(len(indices)), [features[i] for i in indices])\n",
        "plt.xlabel('Relative Importance')\n",
        "plt.show()"
      ],
      "metadata": {
        "colab": {
          "base_uri": "https://localhost:8080/",
          "height": 730
        },
        "id": "o9Qi94rWSf5p",
        "outputId": "e38486b4-3bf1-4ffc-f19a-adc7dd6481e0"
      },
      "execution_count": null,
      "outputs": [
        {
          "output_type": "display_data",
          "data": {
            "image/png": "[encoded data removed]",
            "text/plain": [
              "<Figure size 720x864 with 1 Axes>"
            ]
          },
          "metadata": {
            "needs_background": "light"
          }
        }
      ]
    },
    {
      "cell_type": "markdown",
      "source": [
        "#3.9 Phần mở rộng\n",
        "Ở phần mở rộng này, tác giả sẽ tiến hành đọc 2 file train_pos_after_eda.csv và test_pos_after_eda.csv mà chứa các liên kết thật của cả phần train và phần test vào 2 đồ thị train_graph và test_graph"
      ],
      "metadata": {
        "id": "hkBhXKZ2T0w_"
      }
    },
    {
      "cell_type": "code",
      "source": [
        "import networkx as nx\n",
        "\n",
        "train_graph=nx.read_edgelist('/content/content/data/after_eda/train_pos_after_eda.csv',delimiter=',',create_using=nx.DiGraph(),nodetype=int)\n",
        "test_graph=nx.read_edgelist('/content/content/data/after_eda/test_pos_after_eda.csv',delimiter=',',create_using=nx.DiGraph(),nodetype=int)"
      ],
      "metadata": {
        "id": "GxhDuLDWT0RD"
      },
      "execution_count": null,
      "outputs": []
    },
    {
      "cell_type": "markdown",
      "source": [
        "Kế tiếp tác giả sẽ chỉnh lại 1 chút ở hàm compute_features_stage() ở trên mà bao gồm tổng số lượng người theo dõi và được theo dõi của nút nguồn và đích cũng như phần giao của chúng nhưng thay vì sử dụng cho đồ thị train_graph như hàm ở phía trên, tác giả chỉnh sửa lại 1 chút thành hàm compute_features_stage() đề nó có thể sử dụng cho các đồ thị chung khác"
      ],
      "metadata": {
        "id": "JCGAuxebfotK"
      }
    },
    {
      "cell_type": "code",
      "source": [
        "from tqdm import tqdm\n",
        "\n",
        "def compute_features_stage1(df,graph):\n",
        "  num_followers_s =[]\n",
        "  num_followees_s =[]\n",
        "  num_followers_d =[]\n",
        "  num_followees_d = []\n",
        "  inter_followers= []\n",
        "  inter_followees =[]\n",
        "  for i,row in tqdm(df.iterrows()):\n",
        "    try:\n",
        "      s1 = set(graph.predecessors(row['source_node']))\n",
        "      s2 = set(graph.successors(row['source_node']))\n",
        "    except:\n",
        "      s1 = set()\n",
        "      s2 = set()\n",
        "    try: \n",
        "      d1 = set(graph.predecessors(row[\"destination_node\"]))\n",
        "      d2 = set(graph.successors(row['destination_node']))\n",
        "    except:\n",
        "      d1 = set()\n",
        "      d2 = set()\n",
        "    num_followers_s.append(len(s1))\n",
        "    num_followees_s.append(len(s2))\n",
        "    num_followers_d.append(len(d1))\n",
        "    num_followees_d.append(len(d2))\n",
        "\n",
        "    inter_followees.append(len(s1.intersection(d1)))\n",
        "    inter_followers.append(len(s2.intersection(d2)))\n",
        "\n",
        "  return num_followers_d,num_followees_d,num_followers_s,num_followees_s,inter_followers,inter_followees       "
      ],
      "metadata": {
        "id": "DzHRLJDaUG3s"
      },
      "execution_count": null,
      "outputs": []
    },
    {
      "cell_type": "code",
      "source": [
        "train_num_followers_d,train_num_followees_d,train_num_followers_s,train_num_followees_s,train_inter_followers,train_inter_followees = compute_features_stage1(df_final_train,train_graph)\n",
        "test_num_followers_d,test_num_followees_d,test_num_followers_s,test_num_followees_s,test_inter_followers,test_inter_followees = compute_features_stage1(df_final_test,test_graph)"
      ],
      "metadata": {
        "colab": {
          "base_uri": "https://localhost:8080/"
        },
        "id": "btNyFVVcUJXn",
        "outputId": "9863c05e-313e-49ec-c81e-7aab7e46055f"
      },
      "execution_count": null,
      "outputs": [
        {
          "output_type": "stream",
          "name": "stderr",
          "text": [
            "100002it [00:10, 9270.04it/s]\n",
            "50002it [00:02, 17142.85it/s]\n"
          ]
        }
      ]
    },
    {
      "cell_type": "code",
      "source": [
        "df_final_train[\"num_followers_d\"] = train_num_followers_d\n",
        "df_final_train.head()"
      ],
      "metadata": {
        "id": "L-zoYO5oUlON"
      },
      "execution_count": null,
      "outputs": []
    },
    {
      "cell_type": "code",
      "source": [
        "df_final_test['num_followers_d'] = test_num_followees_d\n",
        "df_final_test.head()"
      ],
      "metadata": {
        "id": "YyLnZPYqUvnx"
      },
      "execution_count": null,
      "outputs": []
    },
    {
      "cell_type": "markdown",
      "source": [
        "Ở đây, tác giả có thêm 4 cột đặc trưng mới cho cả 2 dataframe df_final_train và df_final_test là followers_preferential_attch mà là các kết quả tổng số người theo dõi của nút nguồn nhân với tổng số người theo dõi của nút đích và followees_preferential_attach mà là các kết quả tổng số người được theo dõi của nút nguồn nhân với tổng số người được theo dõi của nút đích"
      ],
      "metadata": {
        "id": "FXM9ygSYipJS"
      }
    },
    {
      "cell_type": "code",
      "source": [
        "source = np.array(df_final_train[\"num_followers_s\"])\n",
        "destination = np.array(df_final_train[\"num_followers_d\"])\n",
        "followers_preferential = []\n",
        "for i in range(len(source)):\n",
        "  followers_preferential.append(source[i]*destination[i])\n",
        "df_final_train[\"followers_preferential_attach\"]  = followers_preferential \n",
        "df_final_train.head()"
      ],
      "metadata": {
        "id": "l9i4P5FoU4zc"
      },
      "execution_count": null,
      "outputs": []
    },
    {
      "cell_type": "code",
      "source": [
        "source = np.array(df_final_train[\"num_followees_s\"])\n",
        "destination = np.array(df_final_train[\"num_followees_s\"])\n",
        "followees_preferential = []\n",
        "for i in range(len(source)):\n",
        "  followees_preferential.append(source[i]*destination[i])\n",
        "df_final_train[\"followees_preferential_attach\"]  = followees_preferential \n",
        "df_final_train.head()"
      ],
      "metadata": {
        "id": "ILYnlUbIVC-C"
      },
      "execution_count": null,
      "outputs": []
    },
    {
      "cell_type": "code",
      "source": [
        "source = np.array(df_final_test[\"num_followers_s\"])\n",
        "destination = np.array(df_final_test[\"num_followers_d\"])\n",
        "followers_preferential = []\n",
        "for i in range(len(source)):\n",
        "  followers_preferential.append(source[i]*destination[i])\n",
        "df_final_test[\"followers_preferential_attach\"]  = followers_preferential \n",
        "df_final_test.head()"
      ],
      "metadata": {
        "id": "CGRgrAIFVJoY"
      },
      "execution_count": null,
      "outputs": []
    },
    {
      "cell_type": "code",
      "source": [
        "source = np.array(df_final_test[\"num_followees_s\"])\n",
        "destination = np.array(df_final_test[\"num_followees_s\"])\n",
        "followees_preferential = []\n",
        "for i in range(len(source)):\n",
        "  followees_preferential.append(source[i]*destination[i])\n",
        "df_final_test[\"followees_preferential_attach\"]  = followees_preferential \n",
        "df_final_test.head()"
      ],
      "metadata": {
        "id": "DRFzMlSoVLVg"
      },
      "execution_count": null,
      "outputs": []
    },
    {
      "cell_type": "code",
      "source": [
        "sorted(df_final_train.columns)"
      ],
      "metadata": {
        "id": "mnqOqRdaVN0f"
      },
      "execution_count": null,
      "outputs": []
    },
    {
      "cell_type": "markdown",
      "source": [
        "Về các đặc trưng SVD thì tác giả sử dụng 1 số đặc trưng mới cho cả 2 dataframe df_final_train và df_final_test như tích vô hướng của ma trận đơn nhất có các vector singular bên trái ở dạng cột u giữa nút nguồn và nút đích, tích vô hướng của ma trận đơn nhất có các vector singular bên phải ở dạng hàng v giữa nút nguồn và nút đích"
      ],
      "metadata": {
        "id": "03NlSU15jVxN"
      }
    },
    {
      "cell_type": "code",
      "source": [
        "svd_dot_U =[]\n",
        "range_value = len(np.array(df_final_train[\"svd_u_d_1\"]))\n",
        "for i in range(range_value):\n",
        "  u_s = []\n",
        "  u_d = []\n",
        "  u_s.append(np.array(df_final_train[\"svd_u_s_1\"][i]))\n",
        "  u_s.append(np.array(df_final_train[\"svd_u_s_2\"][i]))\n",
        "  u_s.append(np.array(df_final_train[\"svd_u_s_3\"][i]))\n",
        "  u_s.append(np.array(df_final_train[\"svd_u_s_4\"][i]))\n",
        "  u_s.append(np.array(df_final_train[\"svd_u_s_5\"][i]))\n",
        "  u_s.append(np.array(df_final_train[\"svd_u_s_6\"][i]))\n",
        "\n",
        "  u_d.append(np.array(df_final_train[\"svd_u_d_1\"][i]))\n",
        "  u_d.append(np.array(df_final_train[\"svd_u_d_2\"][i]))\n",
        "  u_d.append(np.array(df_final_train[\"svd_u_d_3\"][i]))\n",
        "  u_d.append(np.array(df_final_train[\"svd_u_d_4\"][i]))\n",
        "  u_d.append(np.array(df_final_train[\"svd_u_d_5\"][i]))\n",
        "  u_d.append(np.array(df_final_train[\"svd_u_d_6\"][i]))\n",
        "\n",
        "  svd_dot_U.append(np.dot(u_s,u_d))"
      ],
      "metadata": {
        "id": "IRtQ70kxVQ0T"
      },
      "execution_count": null,
      "outputs": []
    },
    {
      "cell_type": "code",
      "source": [
        "df_final_train[\"svd_dot_U\"] = svd_dot_U\n",
        "df_final_train.head()"
      ],
      "metadata": {
        "id": "hBlN4OI1VWeg"
      },
      "execution_count": null,
      "outputs": []
    },
    {
      "cell_type": "code",
      "source": [
        "svd_dot_V = []\n",
        "range_value = len(np.array(df_final_train[\"svd_v_d_1\"]))\n",
        "for i in range(range_value):\n",
        "  v_s = []\n",
        "  v_d = []\n",
        "  v_s.append(np.array(df_final_train[\"svd_v_s_1\"][i]))\n",
        "  v_s.append(np.array(df_final_train[\"svd_v_s_2\"][i]))\n",
        "  v_s.append(np.array(df_final_train[\"svd_v_s_3\"][i]))\n",
        "  v_s.append(np.array(df_final_train[\"svd_v_s_4\"][i]))\n",
        "  v_s.append(np.array(df_final_train[\"svd_v_s_5\"][i]))\n",
        "  v_s.append(np.array(df_final_train[\"svd_v_s_6\"][i]))\n",
        "\n",
        "  v_d.append(np.array(df_final_train[\"svd_v_d_1\"][i]))\n",
        "  v_d.append(np.array(df_final_train[\"svd_v_d_2\"][i]))\n",
        "  v_d.append(np.array(df_final_train[\"svd_v_d_3\"][i]))\n",
        "  v_d.append(np.array(df_final_train[\"svd_v_d_4\"][i]))\n",
        "  v_d.append(np.array(df_final_train[\"svd_v_d_5\"][i]))\n",
        "  v_d.append(np.array(df_final_train[\"svd_v_d_6\"][i]))\n",
        "\n",
        "  svd_dot_V.append(np.dot(v_s,v_d))"
      ],
      "metadata": {
        "id": "ja6abOdPVaXt"
      },
      "execution_count": null,
      "outputs": []
    },
    {
      "cell_type": "code",
      "source": [
        "df_final_train[\"svd_dot_V\"] = svd_dot_V\n",
        "df_final_train.head()"
      ],
      "metadata": {
        "id": "v0KuyIYdVdfG"
      },
      "execution_count": null,
      "outputs": []
    },
    {
      "cell_type": "code",
      "source": [
        "svd_dot_U =[]\n",
        "range_value = len(np.array(df_final_test[\"svd_u_d_1\"]))\n",
        "for i in range(range_value):\n",
        "  u_s = []\n",
        "  u_d = []\n",
        "  u_s.append(np.array(df_final_test[\"svd_u_s_1\"][i]))\n",
        "  u_s.append(np.array(df_final_test[\"svd_u_s_2\"][i]))\n",
        "  u_s.append(np.array(df_final_test[\"svd_u_s_3\"][i]))\n",
        "  u_s.append(np.array(df_final_test[\"svd_u_s_4\"][i]))\n",
        "  u_s.append(np.array(df_final_test[\"svd_u_s_5\"][i]))\n",
        "  u_s.append(np.array(df_final_test[\"svd_u_s_6\"][i]))\n",
        "\n",
        "  u_d.append(np.array(df_final_test[\"svd_u_d_1\"][i]))\n",
        "  u_d.append(np.array(df_final_test[\"svd_u_d_2\"][i]))\n",
        "  u_d.append(np.array(df_final_test[\"svd_u_d_3\"][i]))\n",
        "  u_d.append(np.array(df_final_test[\"svd_u_d_4\"][i]))\n",
        "  u_d.append(np.array(df_final_test[\"svd_u_d_5\"][i]))\n",
        "  u_d.append(np.array(df_final_test[\"svd_u_d_6\"][i]))\n",
        "\n",
        "  svd_dot_U.append(np.dot(u_s,u_d))"
      ],
      "metadata": {
        "id": "RNCFlcLDVifl"
      },
      "execution_count": null,
      "outputs": []
    },
    {
      "cell_type": "code",
      "source": [
        "df_final_test[\"svd_dot_U\"] = svd_dot_U\n",
        "df_final_test.head()"
      ],
      "metadata": {
        "id": "oF4DmJwDVj0o"
      },
      "execution_count": null,
      "outputs": []
    },
    {
      "cell_type": "code",
      "source": [
        "svd_dot_V = []\n",
        "range_value = len(np.array(df_final_test[\"svd_v_d_1\"]))\n",
        "for i in range(range_value):\n",
        "  v_s = []\n",
        "  v_d = []\n",
        "  v_s.append(np.array(df_final_test[\"svd_v_s_1\"][i]))\n",
        "  v_s.append(np.array(df_final_test[\"svd_v_s_2\"][i]))\n",
        "  v_s.append(np.array(df_final_test[\"svd_v_s_3\"][i]))\n",
        "  v_s.append(np.array(df_final_test[\"svd_v_s_4\"][i]))\n",
        "  v_s.append(np.array(df_final_test[\"svd_v_s_5\"][i]))\n",
        "  v_s.append(np.array(df_final_test[\"svd_v_s_6\"][i]))\n",
        "\n",
        "  v_d.append(np.array(df_final_test[\"svd_v_d_1\"][i]))\n",
        "  v_d.append(np.array(df_final_test[\"svd_v_d_2\"][i]))\n",
        "  v_d.append(np.array(df_final_test[\"svd_v_d_3\"][i]))\n",
        "  v_d.append(np.array(df_final_test[\"svd_v_d_4\"][i]))\n",
        "  v_d.append(np.array(df_final_test[\"svd_v_d_5\"][i]))\n",
        "  v_d.append(np.array(df_final_test[\"svd_v_d_6\"][i]))\n",
        "\n",
        "  svd_dot_V.append(np.dot(v_s,v_d))"
      ],
      "metadata": {
        "id": "grg3-OrSVj5q"
      },
      "execution_count": null,
      "outputs": []
    },
    {
      "cell_type": "code",
      "source": [
        "df_final_test[\"svd_dot_V\"] = svd_dot_V\n",
        "df_final_test.head()"
      ],
      "metadata": {
        "id": "FyFFpCxKVnU2"
      },
      "execution_count": null,
      "outputs": []
    },
    {
      "cell_type": "code",
      "source": [
        "x_train  =  df_final_train\n",
        "x_test = df_final_test"
      ],
      "metadata": {
        "id": "q5LihPL-Vq14"
      },
      "execution_count": null,
      "outputs": []
    },
    {
      "cell_type": "code",
      "source": [
        "from sklearn.metrics import confusion_matrix\n",
        "from xgboost import XGBClassifier\n",
        "from sklearn.calibration import CalibratedClassifierCV\n",
        "from sklearn.model_selection import RandomizedSearchCV\n",
        "\n",
        "def plot_confusion_matrix(test_y, predict_y):\n",
        "    C = confusion_matrix(test_y, predict_y)\n",
        "    print(\"Number of misclassified points \",(len(test_y)-np.trace(C))/len(test_y)*100)\n",
        "    A =(((C.T)/(C.sum(axis=1))).T)\n",
        "    B =(C/C.sum(axis=0))\n",
        "    labels = [0,1]\n",
        "    cmap=sns.light_palette(\"green\")\n",
        "    print(\"-\"*50, \"Confusion matrix\", \"-\"*50)\n",
        "    plt.figure(figsize=(5,5))\n",
        "    sns.heatmap(C, annot=True, cmap=cmap, fmt=\".3f\", xticklabels=labels, yticklabels=labels)\n",
        "    plt.xlabel('Predicted Class')\n",
        "    plt.ylabel('Original Class')\n",
        "    plt.show()\n",
        "\n",
        "    print(\"-\"*50, \"Precision matrix\", \"-\"*50)\n",
        "    plt.figure(figsize=(5,5))\n",
        "    sns.heatmap(B, annot=True, cmap=cmap, fmt=\".3f\", xticklabels=labels, yticklabels=labels)\n",
        "    plt.xlabel('Predicted Class')\n",
        "    plt.ylabel('Original Class')\n",
        "    plt.show()\n",
        "    print(\"Sum of columns in precision matrix\",B.sum(axis=0))\n",
        "\n",
        "    print(\"-\"*50, \"Recall matrix\"    , \"-\"*50)\n",
        "    plt.figure(figsize=(5,5))\n",
        "    sns.heatmap(A, annot=True, cmap=cmap, fmt=\".3f\", xticklabels=labels, yticklabels=labels)\n",
        "    plt.xlabel('Predicted Class')\n",
        "    plt.ylabel('Original Class')\n",
        "    plt.show()\n",
        "    print(\"Sum of rows in precision matrix\",A.sum(axis=1))"
      ],
      "metadata": {
        "id": "zxv878W8Vt0S"
      },
      "execution_count": null,
      "outputs": []
    },
    {
      "cell_type": "markdown",
      "source": [
        "Thay vì sử dụng mô hình Random Forest như ban đầu, tác giả sẽ sử dụng mô hình xgboost với hàm RandomizedSearchCV() để dò tìm ra các siêu tham số tốt nhất"
      ],
      "metadata": {
        "id": "xicq0jaDkj8V"
      }
    },
    {
      "cell_type": "code",
      "source": [
        "params = {\n",
        "        'min_child_weight': [1, 5, 10],\n",
        "        'learning_rate':[0.01,0.03,0.05,0.1,0.15,0.2],\n",
        "        'n_estimators' :[100,200,500,1000,2000],\n",
        "        'gamma': [0.5, 1, 1.5, 2, 5],\n",
        "        'subsample': [0.6, 0.8, 1.0],\n",
        "        'colsample_bytree': [0.6, 0.8, 1.0],\n",
        "        'max_depth': [3, 4, 5]\n",
        "          }\n",
        "xgboost = XGBClassifier()          \n",
        "random_cfl1=RandomizedSearchCV(xgboost,param_distributions = params,verbose=10,n_jobs=-1)\n",
        "random_cfl1.fit(x_train,y_train)"
      ],
      "metadata": {
        "colab": {
          "base_uri": "https://localhost:8080/"
        },
        "id": "s4NtzLvgVxfv",
        "outputId": "4ade00f3-9671-4ec2-cdc9-96f6c280fd22"
      },
      "execution_count": null,
      "outputs": [
        {
          "output_type": "stream",
          "name": "stdout",
          "text": [
            "Fitting 5 folds for each of 10 candidates, totalling 50 fits\n"
          ]
        },
        {
          "output_type": "stream",
          "name": "stderr",
          "text": [
            "[Parallel(n_jobs=-1)]: Using backend LokyBackend with 2 concurrent workers.\n",
            "[Parallel(n_jobs=-1)]: Done   1 tasks      | elapsed:  1.0min\n",
            "[Parallel(n_jobs=-1)]: Done   4 tasks      | elapsed:  2.0min\n",
            "[Parallel(n_jobs=-1)]: Done   9 tasks      | elapsed: 15.8min\n",
            "[Parallel(n_jobs=-1)]: Done  14 tasks      | elapsed: 26.0min\n",
            "[Parallel(n_jobs=-1)]: Done  21 tasks      | elapsed: 41.8min\n",
            "[Parallel(n_jobs=-1)]: Done  28 tasks      | elapsed: 48.5min\n",
            "[Parallel(n_jobs=-1)]: Done  37 tasks      | elapsed: 77.5min\n",
            "[Parallel(n_jobs=-1)]: Done  46 tasks      | elapsed: 115.7min\n",
            "[Parallel(n_jobs=-1)]: Done  50 out of  50 | elapsed: 122.9min finished\n"
          ]
        },
        {
          "output_type": "execute_result",
          "data": {
            "text/plain": [
              "RandomizedSearchCV(estimator=XGBClassifier(), n_jobs=-1,\n",
              "                   param_distributions={'colsample_bytree': [0.6, 0.8, 1.0],\n",
              "                                        'gamma': [0.5, 1, 1.5, 2, 5],\n",
              "                                        'learning_rate': [0.01, 0.03, 0.05, 0.1,\n",
              "                                                          0.15, 0.2],\n",
              "                                        'max_depth': [3, 4, 5],\n",
              "                                        'min_child_weight': [1, 5, 10],\n",
              "                                        'n_estimators': [100, 200, 500, 1000,\n",
              "                                                         2000],\n",
              "                                        'subsample': [0.6, 0.8, 1.0]},\n",
              "                   verbose=10)"
            ]
          },
          "metadata": {},
          "execution_count": 44
        }
      ]
    },
    {
      "cell_type": "code",
      "source": [
        "print(random_cfl1.best_params_)"
      ],
      "metadata": {
        "colab": {
          "base_uri": "https://localhost:8080/"
        },
        "id": "usEenyhmWCFC",
        "outputId": "e89f58de-55fd-4e23-a593-377c11ffbf2c"
      },
      "execution_count": null,
      "outputs": [
        {
          "output_type": "stream",
          "name": "stdout",
          "text": [
            "{'subsample': 1.0, 'n_estimators': 1000, 'min_child_weight': 10, 'max_depth': 4, 'learning_rate': 0.2, 'gamma': 2, 'colsample_bytree': 0.6}\n"
          ]
        }
      ]
    },
    {
      "cell_type": "markdown",
      "source": [
        "Ở đây chúng ta sẽ sử dụng các siêu tham số tốt nhất theo như code của tác giả chứ không phải là các siêu tham số mà chúng ta chạy ra được ở trên vì kết quả phiên bản sklearn là khác nhau sẽ cho ra các siêu tham số tốt nhất khác nhau"
      ],
      "metadata": {
        "id": "pa-H6YTzkwBf"
      }
    },
    {
      "cell_type": "code",
      "source": [
        "from sklearn.calibration import CalibratedClassifierCV\n",
        "\n",
        "best_xgb = XGBClassifier(sub_sample=0.8,learning_rate = 0.2,colsample_bytree=0.6,max_depth=5,n_estimators=1000,min_child_weight=5,gamma=5)\n",
        "best_xgb.fit(x_train,y_train)\n",
        "clf = CalibratedClassifierCV(best_xgb,method=\"sigmoid\")\n",
        "clf.fit(x_train,y_train)"
      ],
      "metadata": {
        "colab": {
          "base_uri": "https://localhost:8080/"
        },
        "id": "fqiUsjS4WGKG",
        "outputId": "b5c1e5ca-2447-403c-c73c-001bb39c24de"
      },
      "execution_count": null,
      "outputs": [
        {
          "output_type": "execute_result",
          "data": {
            "text/plain": [
              "CalibratedClassifierCV(base_estimator=XGBClassifier(colsample_bytree=0.6,\n",
              "                                                    gamma=5, learning_rate=0.2,\n",
              "                                                    max_depth=5,\n",
              "                                                    min_child_weight=5,\n",
              "                                                    n_estimators=1000,\n",
              "                                                    sub_sample=0.8))"
            ]
          },
          "metadata": {},
          "execution_count": 46
        }
      ]
    },
    {
      "cell_type": "code",
      "source": [
        "from sklearn.metrics import log_loss\n",
        "\n",
        "predict_y = clf.predict_proba(x_train)\n",
        "print(\"the train log loss is\",log_loss(y_train,predict_y,labels=best_xgb.classes_))\n",
        "predict_y = clf.predict_proba(x_test)\n",
        "print(\"the test log loss is\",log_loss(y_test,predict_y,labels = best_xgb.classes_))\n",
        "plot_confusion_matrix(y_test,clf.predict(x_test))"
      ],
      "metadata": {
        "colab": {
          "base_uri": "https://localhost:8080/",
          "height": 1000
        },
        "id": "SKTYvgr9z9To",
        "outputId": "498ba655-d19d-40ce-a025-e8d659abdcc5"
      },
      "execution_count": null,
      "outputs": [
        {
          "output_type": "stream",
          "name": "stdout",
          "text": [
            "the train log loss is 0.025010457019960495\n",
            "the test log loss is 0.33270177141528057\n",
            "Number of misclassified points  8.461661533538658\n",
            "-------------------------------------------------- Confusion matrix --------------------------------------------------\n"
          ]
        },
        {
          "output_type": "display_data",
          "data": {
            "image/png": "[encoded data removed]",
            "text/plain": [
              "<Figure size 360x360 with 2 Axes>"
            ]
          },
          "metadata": {
            "needs_background": "light"
          }
        },
        {
          "output_type": "stream",
          "name": "stdout",
          "text": [
            "-------------------------------------------------- Precision matrix --------------------------------------------------\n"
          ]
        },
        {
          "output_type": "display_data",
          "data": {
            "image/png": "[encoded data removed]",
            "text/plain": [
              "<Figure size 360x360 with 2 Axes>"
            ]
          },
          "metadata": {
            "needs_background": "light"
          }
        },
        {
          "output_type": "stream",
          "name": "stdout",
          "text": [
            "Sum of columns in precision matrix [1. 1.]\n",
            "-------------------------------------------------- Recall matrix --------------------------------------------------\n"
          ]
        },
        {
          "output_type": "display_data",
          "data": {
            "image/png": "[encoded data removed]",
            "text/plain": [
              "<Figure size 360x360 with 2 Axes>"
            ]
          },
          "metadata": {
            "needs_background": "light"
          }
        },
        {
          "output_type": "stream",
          "name": "stdout",
          "text": [
            "Sum of rows in precision matrix [1. 1.]\n"
          ]
        }
      ]
    },
    {
      "cell_type": "markdown",
      "source": [
        "Nhìn chung kết quả của mô hình theo độ độ F score thì trên tập train tốt hơn nhiều so với mô hình Random Forest trước đó nhưng kết quả trên tập test lại tệ hơn nhiều mà có thể do dữ liệu này sẽ phù hợp với mô hình Random Forest hơn hoặc do có vấn đề overfitting diễn ra ở đây"
      ],
      "metadata": {
        "id": "I3U19FJ8lT6j"
      }
    },
    {
      "cell_type": "code",
      "source": [
        "from sklearn.metrics import f1_score\n",
        "\n",
        "print(\"f1 score for train data\",f1_score(y_train,clf.predict(x_train)))\n",
        "print(\"f1 score for test data\",f1_score(y_test,clf.predict(x_test)))"
      ],
      "metadata": {
        "colab": {
          "base_uri": "https://localhost:8080/"
        },
        "id": "xuUuHg0s05tl",
        "outputId": "d76d4a65-e9c5-4574-cd60-5f438736f35c"
      },
      "execution_count": null,
      "outputs": [
        {
          "output_type": "stream",
          "name": "stdout",
          "text": [
            "f1 score for train data 0.9916148228293211\n",
            "f1 score for test data 0.9082152851595549\n"
          ]
        }
      ]
    },
    {
      "cell_type": "markdown",
      "source": [
        "Về độ đo hiệu suất AUC-ROC thì mô hình xgboost có kết quả đạt được là 0.915 mà có phần kém hơn so với mô hình Random Forest đạt được là 0.93"
      ],
      "metadata": {
        "id": "4bjbUxrJl1Q4"
      }
    },
    {
      "cell_type": "code",
      "source": [
        "from sklearn.metrics import roc_curve, auc\n",
        "\n",
        "fpr,tpr,ths = roc_curve(y_test,clf.predict(x_test))\n",
        "auc_sc = auc(fpr, tpr)\n",
        "plt.plot(fpr, tpr,label = ('auc=',auc_sc))\n",
        "plt.xlabel('FPR')\n",
        "plt.ylabel('TPR')\n",
        "plt.legend()\n",
        "plt.show()"
      ],
      "metadata": {
        "colab": {
          "base_uri": "https://localhost:8080/",
          "height": 279
        },
        "id": "kL0HPW5w072b",
        "outputId": "279ada4e-904a-48bc-9321-54fe21b93479"
      },
      "execution_count": null,
      "outputs": [
        {
          "output_type": "display_data",
          "data": {
            "image/png": "[encoded data removed]",
            "text/plain": [
              "<Figure size 432x288 with 1 Axes>"
            ]
          },
          "metadata": {
            "needs_background": "light"
          }
        }
      ]
    },
    {
      "cell_type": "markdown",
      "source": [
        "Dưới đây là danh sách xếp hạng các đặc trưng quan trọng nhất mà mô hình sử dụng học để dự đoán từ dataframe với các đặc trưng mới đã được thêm vào"
      ],
      "metadata": {
        "id": "MMWu7qPWmDoQ"
      }
    },
    {
      "cell_type": "code",
      "source": [
        "features = df_final_train.columns\n",
        "importances = best_xgb.feature_importances_\n",
        "indices = (np.argsort(importances))[-25:]\n",
        "plt.figure(figsize=(10,12))\n",
        "plt.title('Feature Importances')\n",
        "plt.barh(range(len(indices)), importances[indices], color='r', align='center')\n",
        "plt.yticks(range(len(indices)), [features[i] for i in indices])\n",
        "plt.xlabel('Relative Importance')\n",
        "plt.show()"
      ],
      "metadata": {
        "colab": {
          "base_uri": "https://localhost:8080/",
          "height": 730
        },
        "id": "8MKheNNv0-Ib",
        "outputId": "d5381f84-50bb-4353-bac2-daaff323379a"
      },
      "execution_count": null,
      "outputs": [
        {
          "output_type": "display_data",
          "data": {
            "image/png": "[encoded data removed]",
            "text/plain": [
              "<Figure size 720x864 with 1 Axes>"
            ]
          },
          "metadata": {
            "needs_background": "light"
          }
        }
      ]
    },
    {
      "cell_type": "markdown",
      "source": [
        "Dưới đây là bảng kết quả cuối chạy trên mô hình xgboost theo độ đo F score của tác giả thì có 1 chút sự chênh lệch so với kết quả chạy ra ở trên vì do khác phiên bản sklearn sử dụng nhưng nó vẫn có kết quả trên tập test kém hơn so với khi sử dụng mô hình Random Forest ở ban đầu"
      ],
      "metadata": {
        "id": "zc_o61r21NJQ"
      }
    },
    {
      "cell_type": "code",
      "source": [
        "from prettytable import PrettyTable\n",
        "\n",
        "t = PrettyTable()\n",
        "t.field_names=[\"model\",\"train_f1_Score\",\"test_f1_score\"]\n",
        "t.add_row([\"XGBoost\",\"0.9920553921274338\",\"0.9124241511382708\"])\n",
        "print(t)"
      ],
      "metadata": {
        "colab": {
          "base_uri": "https://localhost:8080/"
        },
        "id": "eghHYxvG1DDN",
        "outputId": "1b1a7d79-987e-4443-9463-ebb88f9fa58a"
      },
      "execution_count": null,
      "outputs": [
        {
          "output_type": "stream",
          "name": "stdout",
          "text": [
            "+---------+--------------------+--------------------+\n",
            "|  model  |   train_f1_Score   |   test_f1_score    |\n",
            "+---------+--------------------+--------------------+\n",
            "| XGBoost | 0.9920553921274338 | 0.9124241511382708 |\n",
            "+---------+--------------------+--------------------+\n"
          ]
        }
      ]
    },
    {
      "cell_type": "markdown",
      "source": [
        "#4. Link tham khảo\n",
        "\n",
        "[1] genialgokul1099. (2020, October 19). Social network graph link prediction. Kaggle. Retrieved February 17, 2022, from https://www.kaggle.com/genialgokul1099/social-network-graph-link-prediction/notebook.\n",
        "\n",
        "[2] Easiest way to download kaggle data in Google Colab: Data Science and Machine Learning. Kaggle. (n.d.). Retrieved February 17, 2022, from https://www.kaggle.com/general/74235.\n",
        "\n",
        "[3] YouTube. (2017, May 22). PageRank algorithm - example. YouTube. Retrieved February 17, 2022, from https://www.youtube.com/watch?v=P8Kt6Abq_rM."
      ],
      "metadata": {
        "id": "OGbo5Q6-qkZ8"
      }
    }
  ]
}